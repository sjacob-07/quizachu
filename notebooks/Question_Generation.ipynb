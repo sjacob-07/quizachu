{
 "cells": [
  {
   "cell_type": "markdown",
   "id": "9a8b3e40-1b96-44f4-ad57-64c9a554a91c",
   "metadata": {},
   "source": [
    "# Question Generation"
   ]
  },
  {
   "cell_type": "code",
   "execution_count": 185,
   "id": "425473a2-4f86-4b04-b4d8-f1e0eb0a8df0",
   "metadata": {},
   "outputs": [],
   "source": [
    "from datasets import load_dataset\n",
    "from transformers import AutoTokenizer, TFT5ForConditionalGeneration\n",
    "import tensorflow as tf\n",
    "\n",
    "squad_v2_data = load_dataset(\"squad_v2\")\n",
    "train_set = squad_v2_data[\"train\"]\n",
    "val_set = squad_v2_data[\"validation\"]"
   ]
  },
  {
   "cell_type": "code",
   "execution_count": 141,
   "id": "5fef2ff5-7110-4e76-bf5c-8b1cc033e811",
   "metadata": {},
   "outputs": [
    {
     "name": "stderr",
     "output_type": "stream",
     "text": [
      "All PyTorch model weights were used when initializing TFT5ForConditionalGeneration.\n",
      "\n",
      "All the weights of TFT5ForConditionalGeneration were initialized from the PyTorch model.\n",
      "If your task is similar to the task the model of the checkpoint was trained on, you can already use TFT5ForConditionalGeneration for predictions without further training.\n"
     ]
    }
   ],
   "source": [
    "tokenizer = AutoTokenizer.from_pretrained(\"t5-small\")\n",
    "model = TFT5ForConditionalGeneration.from_pretrained(\"t5-small\")"
   ]
  },
  {
   "cell_type": "code",
   "execution_count": 166,
   "id": "169a67e2-5575-4dd1-9134-d08eabc84ead",
   "metadata": {},
   "outputs": [
    {
     "data": {
      "text/plain": [
       "'Beyoncé Giselle Knowles-Carter (/biːˈjɒnseɪ/ bee-YON-say) (born September 4, 1981) is an American singer, songwriter, record producer and actress. Born and raised in Houston, Texas, she performed in various singing and dancing competitions as a child, and rose to fame in the late 1990s as lead singer of R&B girl-group Destiny\\'s Child. Managed by her father, Mathew Knowles, the group became one of the world\\'s best-selling girl groups of all time. Their hiatus saw the release of Beyoncé\\'s debut album, Dangerously in Love (2003), which established her as a solo artist worldwide, earned five Grammy Awards and featured the Billboard Hot 100 number-one singles \"Crazy in Love\" and \"Baby Boy\".'"
      ]
     },
     "execution_count": 166,
     "metadata": {},
     "output_type": "execute_result"
    }
   ],
   "source": [
    "test_context = train_set[\"context\"][0]\n",
    "test_context"
   ]
  },
  {
   "cell_type": "code",
   "execution_count": 167,
   "id": "af13d37b-f5b6-451f-b2b0-14ccb13d4bab",
   "metadata": {},
   "outputs": [
    {
     "data": {
      "text/plain": [
       "'When did Beyonce start becoming popular?'"
      ]
     },
     "execution_count": 167,
     "metadata": {},
     "output_type": "execute_result"
    }
   ],
   "source": [
    "test_question = train_set[\"question\"][0]\n",
    "test_question"
   ]
  },
  {
   "cell_type": "code",
   "execution_count": 168,
   "id": "53040747-16ed-4e25-9527-cc258c4990ec",
   "metadata": {},
   "outputs": [
    {
     "name": "stdout",
     "output_type": "stream",
     "text": [
      "Epoch 1/5\n",
      "1/1 [==============================] - 11s 11s/step - loss: 1.5817\n",
      "Epoch 2/5\n",
      "1/1 [==============================] - 0s 27ms/step - loss: 0.2826\n",
      "Epoch 3/5\n",
      "1/1 [==============================] - 0s 27ms/step - loss: 0.1152\n",
      "Epoch 4/5\n",
      "1/1 [==============================] - 0s 27ms/step - loss: 0.0266\n",
      "Epoch 5/5\n",
      "1/1 [==============================] - 0s 27ms/step - loss: 0.0265\n"
     ]
    }
   ],
   "source": [
    "inputs = tokenizer(test_context, return_tensors=\"tf\").input_ids\n",
    "labels = tokenizer(test_question, return_tensors=\"tf\").input_ids\n",
    "\n",
    "train_data = {}\n",
    "train_data[\"input_ids\"] = [inputs]\n",
    "train_data[\"labels\"] = [labels]\n",
    "dataset = tf.data.Dataset.from_tensor_slices(train_data)\n",
    "\n",
    "model.compile()\n",
    "history = model.fit(dataset, epochs=5)"
   ]
  },
  {
   "cell_type": "code",
   "execution_count": 169,
   "id": "779f8fee-923d-4b42-b770-1ba7da4818ae",
   "metadata": {},
   "outputs": [
    {
     "data": {
      "text/plain": [
       "{'loss': [1.5816868543624878,\n",
       "  0.28255337476730347,\n",
       "  0.1152406558394432,\n",
       "  0.02663499489426613,\n",
       "  0.026487112045288086]}"
      ]
     },
     "execution_count": 169,
     "metadata": {},
     "output_type": "execute_result"
    }
   ],
   "source": [
    "history.history"
   ]
  },
  {
   "cell_type": "code",
   "execution_count": 172,
   "id": "c0c3b32d-651a-43d9-84e5-e96faf0e6f21",
   "metadata": {},
   "outputs": [
    {
     "name": "stderr",
     "output_type": "stream",
     "text": [
      "/home/rob/.pyenv/versions/3.10.6/envs/quizachu-env/lib/python3.10/site-packages/transformers/generation/tf_utils.py:838: UserWarning: Using the model-agnostic default `max_length` (=20) to control the generation length.  recommend setting `max_new_tokens` to control the maximum length of the generation.\n",
      "  warnings.warn(\n"
     ]
    }
   ],
   "source": [
    "inputs = tokenizer(test_context, return_tensors=\"tf\").input_ids\n",
    "outputs = model.generate(inputs)"
   ]
  },
  {
   "cell_type": "code",
   "execution_count": 173,
   "id": "b2cb1cb7-ae0a-4564-a52e-950ccbf2881b",
   "metadata": {},
   "outputs": [
    {
     "name": "stdout",
     "output_type": "stream",
     "text": [
      "When did Beyonce start becoming popular?\n"
     ]
    }
   ],
   "source": [
    "print(tokenizer.decode(outputs[0], skip_special_tokens=True))"
   ]
  },
  {
   "cell_type": "markdown",
   "id": "0c29a9e4-1485-4f6f-a0a6-f7a128eb6b49",
   "metadata": {},
   "source": [
    "## Train on more data"
   ]
  },
  {
   "cell_type": "code",
   "execution_count": 186,
   "id": "72c66f77-9ae9-4d32-9d63-cacdf388e020",
   "metadata": {},
   "outputs": [
    {
     "name": "stderr",
     "output_type": "stream",
     "text": [
      "All PyTorch model weights were used when initializing TFT5ForConditionalGeneration.\n",
      "\n",
      "All the weights of TFT5ForConditionalGeneration were initialized from the PyTorch model.\n",
      "If your task is similar to the task the model of the checkpoint was trained on, you can already use TFT5ForConditionalGeneration for predictions without further training.\n"
     ]
    },
    {
     "name": "stdout",
     "output_type": "stream",
     "text": [
      "653 40\n"
     ]
    }
   ],
   "source": [
    "model = TFT5ForConditionalGeneration.from_pretrained(\"t5-small\")\n",
    "\n",
    "contexts = train_set[\"context\"]\n",
    "questions = train_set[\"question\"]\n",
    "val_contexts = val_set[\"context\"]\n",
    "val_questions = val_set[\"question\"]\n",
    "\n",
    "contexts_max_len = max([len(context.split()) for context in contexts])\n",
    "questions_max_len = max([len(question.split()) for question in questions])\n",
    "\n",
    "print(contexts_max_len, questions_max_len)"
   ]
  },
  {
   "cell_type": "code",
   "execution_count": 190,
   "id": "de6d0fc6-0447-4a66-b428-a510ca34bc5c",
   "metadata": {},
   "outputs": [
    {
     "name": "stdout",
     "output_type": "stream",
     "text": [
      "CPU times: user 1min 40s, sys: 8.17 s, total: 1min 48s\n",
      "Wall time: 1min 7s\n"
     ]
    }
   ],
   "source": [
    "%%time\n",
    "# Takes some time!\n",
    "\n",
    "inputs = tokenizer(contexts, return_tensors=\"tf\", max_length=contexts_max_len, padding=\"max_length\", truncation=True).input_ids\n",
    "labels = tokenizer(questions, return_tensors=\"tf\", max_length=questions_max_len, padding=\"max_length\", truncation=True).input_ids\n",
    "\n",
    "val_inputs = tokenizer(val_contexts, return_tensors=\"tf\", max_length=contexts_max_len, padding=\"max_length\", truncation=True).input_ids\n",
    "val_labels = tokenizer(val_questions, return_tensors=\"tf\", max_length=questions_max_len, padding=\"max_length\", truncation=True).input_ids\n",
    "\n",
    "train_data = {}\n",
    "train_data[\"input_ids\"] = inputs\n",
    "train_data[\"labels\"] = labels\n",
    "\n",
    "val_data = {}\n",
    "val_data[\"input_ids\"] = val_inputs\n",
    "val_data[\"labels\"] = val_labels\n",
    "\n"
   ]
  },
  {
   "cell_type": "code",
   "execution_count": 192,
   "id": "c3b105fa-d128-4e35-be32-b962d6ca9e1b",
   "metadata": {},
   "outputs": [],
   "source": [
    "dataset = tf.data.Dataset.from_tensor_slices(train_data).batch(4)\n",
    "val_dataset = tf.data.Dataset.from_tensor_slices(val_data).batch(4)\n",
    "\n",
    "model.compile()"
   ]
  },
  {
   "cell_type": "code",
   "execution_count": null,
   "id": "7cfdcae2-bf99-4c8f-a105-ac428f8fde96",
   "metadata": {},
   "outputs": [
    {
     "name": "stdout",
     "output_type": "stream",
     "text": [
      "Epoch 1/5\n",
      "  281/32580 [..............................] - ETA: 1:08:41 - loss: 1.0310"
     ]
    }
   ],
   "source": [
    "history = model.fit(dataset, epochs=5, validation_data=val_dataset)"
   ]
  },
  {
   "cell_type": "code",
   "execution_count": 154,
   "id": "98af65e8-ef82-4879-ac9b-6dae7a3fc257",
   "metadata": {},
   "outputs": [
    {
     "name": "stdout",
     "output_type": "stream",
     "text": [
      "Who did Beyoncé perform in various competitions as a child?\n"
     ]
    }
   ],
   "source": [
    "test_inputs = tokenizer(test_context, return_tensors=\"tf\").input_ids\n",
    "test_outputs = model.generate(test_inputs)\n",
    "print(tokenizer.decode(test_outputs[0], skip_special_tokens=True))"
   ]
  },
  {
   "cell_type": "code",
   "execution_count": 138,
   "id": "700b5df9-9a02-4093-a1b3-5b45aa1cab2b",
   "metadata": {},
   "outputs": [
    {
     "name": "stderr",
     "output_type": "stream",
     "text": [
      "/home/rob/.pyenv/versions/3.10.6/envs/quizachu-env/lib/python3.10/site-packages/transformers/generation/tf_utils.py:838: UserWarning: Using the model-agnostic default `max_length` (=20) to control the generation length.  recommend setting `max_new_tokens` to control the maximum length of the generation.\n",
      "  warnings.warn(\n"
     ]
    },
    {
     "name": "stdout",
     "output_type": "stream",
     "text": [
      "What kind of composition was used?\n",
      "What was the first language composer of the late Baroque period?\n",
      "Which instrument composer was originally originally known as the best composer of the former Baroque period?\n",
      "What did Johann Sebastian Bach be remembered for his orchestra music?\n",
      "What is the name of the composer of the late Baroque period?\n"
     ]
    }
   ],
   "source": [
    "n_sequences = 5\n",
    "test_context_2 = \"\"\"Johann Sebastian Bach[n 2] (31 March [O.S. 21 March] 1685 – 28 July 1750) was a German composer and musician of the late Baroque period. He is known for his orchestral music such as the Brandenburg Concertos; instrumental compositions such as the Cello Suites; keyboard works such as the Goldberg Variations and The Well-Tempered Clavier; organ works such as the Schubler Chorales and the Toccata and Fugue in D minor; and vocal music such as the St Matthew Passion and the Mass in B minor. Since the 19th-century Bach revival, he has been generally regarded as one of the greatest composers in the history of Western music.\"\"\"\n",
    "test_inputs_2 = tokenizer(test_context_2, return_tensors=\"tf\").input_ids\n",
    "test_outputs_2 = model.generate(test_inputs_2, num_return_sequences=n_sequences, do_sample=True)\n",
    "\n",
    "for i in range(n_sequences):\n",
    "    print(tokenizer.decode(test_outputs_2[i], skip_special_tokens=True))"
   ]
  },
  {
   "cell_type": "code",
   "execution_count": 139,
   "id": "573822c9-37ff-40c2-80cb-61afc727918b",
   "metadata": {},
   "outputs": [
    {
     "name": "stdout",
     "output_type": "stream",
     "text": [
      "Which Pokémon franchise did Pokémon's owners establish which company in 2001?\n",
      "When did Pokémon compete with Pokémon Go?\n",
      "About which game game game franchises were developed by Game Warner?\n",
      "After which sonic game franchise was initially distributed, Nintendo has been allowed to play, and\n",
      "After which company founded the Pokémon Company they were co-owned by?\n"
     ]
    }
   ],
   "source": [
    "n_sequences = 5\n",
    "#test_context_2 = \"\"\"Johann Sebastian Bach[n 2] (31 March [O.S. 21 March] 1685 – 28 July 1750) was a German composer and musician of the late Baroque period. He is known for his orchestral music such as the Brandenburg Concertos; instrumental compositions such as the Cello Suites; keyboard works such as the Goldberg Variations and The Well-Tempered Clavier; organ works such as the Schubler Chorales and the Toccata and Fugue in D minor; and vocal music such as the St Matthew Passion and the Mass in B minor. Since the 19th-century Bach revival, he has been generally regarded as one of the greatest composers in the history of Western music.\"\"\"\n",
    "test_context_2 = \"\"\"Pokémon[a] is a Japanese media franchise consisting of video games, animated series and films, a trading card game, and other related media. The franchise takes place in a shared universe in which humans co-exist with creatures known as Pokémon, a large variety of species endowed with special powers. The franchise's target audience is children aged 5 to 12,[1] but it is known to attract people of all ages.[2][3][4][5]\n",
    "\n",
    "The franchise originated as a pair of role-playing games developed by Game Freak, following an original concept by its founder, Satoshi Tajiri. Released on the Game Boy on February 27, 1996, the games became sleeper hits and were followed by manga series, a trading card game, and anime series and films. From 1998 to 2000, Pokémon was exported to the rest of the world, creating an unprecedented global phenomenon dubbed \"Pokémania\". By 2002, the craze had ended, after which Pokémon became a fixture in popular culture, with new products being released to this day. In the summer of 2016, the franchise spawned a second craze with the release of Pokémon Go, an augmented reality game developed by Niantic. Pokémon has since been estimated to be the world's highest-grossing media franchise and one of the best-selling video game franchises.\n",
    "\n",
    "Pokémon has an uncommon ownership structure. Unlike most IPs, which are owned by one company, Pokémon is jointly owned by three: Nintendo, Game Freak, and Creatures.[6][7] Game Freak develops the core series role-playing games, which are published by Nintendo exclusively for their consoles, while Creatures manages the trading card game and related merchandise, occasionally developing spin-off titles. The three companies established The Pokémon Company (TPC) in 1998 to manage the Pokémon property within Asia. The Pokémon anime series and films are co-owned by Shogakukan. Since 2009, The Pokémon Company International (TPCi) subsidiary of TPC has managed the franchise in all regions outside of Asia.\"\"\"\n",
    "test_inputs_2 = tokenizer(test_context_2, return_tensors=\"tf\").input_ids\n",
    "test_outputs_2 = model.generate(test_inputs_2, num_return_sequences=n_sequences, do_sample=True)\n",
    "\n",
    "for i in range(n_sequences):\n",
    "    print(tokenizer.decode(test_outputs_2[i], skip_special_tokens=True))"
   ]
  }
 ],
 "metadata": {
  "kernelspec": {
   "display_name": "Python 3 (ipykernel)",
   "language": "python",
   "name": "python3"
  },
  "language_info": {
   "codemirror_mode": {
    "name": "ipython",
    "version": 3
   },
   "file_extension": ".py",
   "mimetype": "text/x-python",
   "name": "python",
   "nbconvert_exporter": "python",
   "pygments_lexer": "ipython3",
   "version": "3.10.6"
  }
 },
 "nbformat": 4,
 "nbformat_minor": 5
}
