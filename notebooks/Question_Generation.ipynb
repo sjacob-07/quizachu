{
 "cells": [
  {
   "cell_type": "markdown",
   "id": "9a8b3e40-1b96-44f4-ad57-64c9a554a91c",
   "metadata": {},
   "source": [
    "# Question Generation"
   ]
  },
  {
   "cell_type": "code",
   "execution_count": 253,
   "id": "425473a2-4f86-4b04-b4d8-f1e0eb0a8df0",
   "metadata": {},
   "outputs": [],
   "source": [
    "from datasets import load_dataset\n",
    "from transformers import AutoTokenizer, TFT5ForConditionalGeneration\n",
    "import tensorflow as tf\n",
    "import numpy as np\n",
    "import pandas as pd\n",
    "\n",
    "squad_v2_data = load_dataset(\"squad_v2\")\n",
    "train_set = squad_v2_data[\"train\"][:500]\n",
    "val_set = squad_v2_data[\"validation\"][:1000]"
   ]
  },
  {
   "cell_type": "code",
   "execution_count": 248,
   "id": "5fef2ff5-7110-4e76-bf5c-8b1cc033e811",
   "metadata": {},
   "outputs": [
    {
     "name": "stderr",
     "output_type": "stream",
     "text": [
      "All PyTorch model weights were used when initializing TFT5ForConditionalGeneration.\n",
      "\n",
      "All the weights of TFT5ForConditionalGeneration were initialized from the PyTorch model.\n",
      "If your task is similar to the task the model of the checkpoint was trained on, you can already use TFT5ForConditionalGeneration for predictions without further training.\n"
     ]
    }
   ],
   "source": [
    "tokenizer = AutoTokenizer.from_pretrained(\"t5-small\")\n",
    "model = TFT5ForConditionalGeneration.from_pretrained(\"t5-small\")"
   ]
  },
  {
   "cell_type": "code",
   "execution_count": 217,
   "id": "169a67e2-5575-4dd1-9134-d08eabc84ead",
   "metadata": {},
   "outputs": [
    {
     "name": "stdout",
     "output_type": "stream",
     "text": [
      "705\n"
     ]
    },
    {
     "data": {
      "text/plain": [
       "'The Legend of Zelda: Twilight Princess (Japanese: ゼルダの伝説 トワイライトプリンセス, Hepburn: Zeruda no Densetsu: Towairaito Purinsesu?) is an action-adventure game developed and published by Nintendo for the GameCube and Wii home video game consoles. It is the thirteenth installment in the The Legend of Zelda series. Originally planned for release on the GameCube in November 2005, Twilight Princess was delayed by Nintendo to allow its developers to refine the game, add more content, and port it to the Wii. The Wii version was released alongside the console in North America in November 2006, and in Japan, Europe, and Australia the following month. The GameCube version was released worldwide in December 2006.[b]'"
      ]
     },
     "execution_count": 217,
     "metadata": {},
     "output_type": "execute_result"
    }
   ],
   "source": [
    "# First, take a test context for which we will consider one answerable question, and one unanswerable question.\n",
    "test_context = train_set[\"context\"][2075]\n",
    "print(len(test_context))\n",
    "test_context"
   ]
  },
  {
   "cell_type": "code",
   "execution_count": 218,
   "id": "98b4d0ad-da1f-4f74-9def-d0742a87b6ca",
   "metadata": {},
   "outputs": [
    {
     "data": {
      "text/plain": [
       "'The Legend of Zelda: Twilight Princess (Japanese: ゼルダの伝説 トワイライトプリンセス, Hepburn: Zeruda no Densetsu: Towairaito Purinsesu?) is an action-adventure game developed and published by Nintendo for the GameCube and Wii home video game consoles. It is the thirteenth installment in the The Legend of Zelda series. Originally planned for release on the GameCube in November 2005, Twilight Princess was delayed by Nintendo to allow its developers to refine the game, add more content, and port it to the Wii. The Wii version was released alongside the console in North America in November 2006, and in Japan, Europe, and Australia the following month. The GameCube version was released worldwide in December 2006.[b]'"
      ]
     },
     "execution_count": 218,
     "metadata": {},
     "output_type": "execute_result"
    }
   ],
   "source": [
    "train_set[\"context\"][2074]"
   ]
  },
  {
   "cell_type": "code",
   "execution_count": 219,
   "id": "af13d37b-f5b6-451f-b2b0-14ccb13d4bab",
   "metadata": {},
   "outputs": [
    {
     "data": {
      "text/plain": [
       "'What year was the Wii version of Legend of Zelda: Twilight Princess released?'"
      ]
     },
     "execution_count": 219,
     "metadata": {},
     "output_type": "execute_result"
    }
   ],
   "source": [
    "test_question = train_set[\"question\"][2074]\n",
    "test_question"
   ]
  },
  {
   "cell_type": "code",
   "execution_count": 220,
   "id": "6a48ab39-c77b-4139-9413-2c1008763538",
   "metadata": {},
   "outputs": [
    {
     "data": {
      "text/html": [
       "<div>\n",
       "<style scoped>\n",
       "    .dataframe tbody tr th:only-of-type {\n",
       "        vertical-align: middle;\n",
       "    }\n",
       "\n",
       "    .dataframe tbody tr th {\n",
       "        vertical-align: top;\n",
       "    }\n",
       "\n",
       "    .dataframe thead th {\n",
       "        text-align: right;\n",
       "    }\n",
       "</style>\n",
       "<table border=\"1\" class=\"dataframe\">\n",
       "  <thead>\n",
       "    <tr style=\"text-align: right;\">\n",
       "      <th></th>\n",
       "      <th>id</th>\n",
       "      <th>title</th>\n",
       "      <th>context</th>\n",
       "      <th>question</th>\n",
       "      <th>answers</th>\n",
       "    </tr>\n",
       "  </thead>\n",
       "  <tbody>\n",
       "    <tr>\n",
       "      <th>2075</th>\n",
       "      <td>5a8d7bf7df8bba001a0f9ab1</td>\n",
       "      <td>The_Legend_of_Zelda:_Twilight_Princess</td>\n",
       "      <td>The Legend of Zelda: Twilight Princess (Japane...</td>\n",
       "      <td>What category of game is Legend of Zelda: Aust...</td>\n",
       "      <td>{'text': [], 'answer_start': []}</td>\n",
       "    </tr>\n",
       "    <tr>\n",
       "      <th>2076</th>\n",
       "      <td>5a8d7bf7df8bba001a0f9ab2</td>\n",
       "      <td>The_Legend_of_Zelda:_Twilight_Princess</td>\n",
       "      <td>The Legend of Zelda: Twilight Princess (Japane...</td>\n",
       "      <td>What consoles can be used to play Australia Tw...</td>\n",
       "      <td>{'text': [], 'answer_start': []}</td>\n",
       "    </tr>\n",
       "    <tr>\n",
       "      <th>2077</th>\n",
       "      <td>5a8d7bf7df8bba001a0f9ab3</td>\n",
       "      <td>The_Legend_of_Zelda:_Twilight_Princess</td>\n",
       "      <td>The Legend of Zelda: Twilight Princess (Japane...</td>\n",
       "      <td>When was Australia Twilight launched in North ...</td>\n",
       "      <td>{'text': [], 'answer_start': []}</td>\n",
       "    </tr>\n",
       "    <tr>\n",
       "      <th>2078</th>\n",
       "      <td>5a8d7bf7df8bba001a0f9ab4</td>\n",
       "      <td>The_Legend_of_Zelda:_Twilight_Princess</td>\n",
       "      <td>The Legend of Zelda: Twilight Princess (Japane...</td>\n",
       "      <td>When could GameCube owners purchase Australian...</td>\n",
       "      <td>{'text': [], 'answer_start': []}</td>\n",
       "    </tr>\n",
       "    <tr>\n",
       "      <th>2079</th>\n",
       "      <td>5a8d7bf7df8bba001a0f9ab5</td>\n",
       "      <td>The_Legend_of_Zelda:_Twilight_Princess</td>\n",
       "      <td>The Legend of Zelda: Twilight Princess (Japane...</td>\n",
       "      <td>What year was the Legend of Zelda: Australian ...</td>\n",
       "      <td>{'text': [], 'answer_start': []}</td>\n",
       "    </tr>\n",
       "    <tr>\n",
       "      <th>...</th>\n",
       "      <td>...</td>\n",
       "      <td>...</td>\n",
       "      <td>...</td>\n",
       "      <td>...</td>\n",
       "      <td>...</td>\n",
       "    </tr>\n",
       "    <tr>\n",
       "      <th>2896</th>\n",
       "      <td>5ad247c0d7d075001a428b4f</td>\n",
       "      <td>Spectre_(2015_film)</td>\n",
       "      <td>In India, it was reported that the Indian Cent...</td>\n",
       "      <td>Where was support expressed for the censored f...</td>\n",
       "      <td>{'text': [], 'answer_start': []}</td>\n",
       "    </tr>\n",
       "    <tr>\n",
       "      <th>2900</th>\n",
       "      <td>5ad24827d7d075001a428b54</td>\n",
       "      <td>Spectre_(2015_film)</td>\n",
       "      <td>A sequel to Spectre will begin development in ...</td>\n",
       "      <td>A prequel to Spectre will begin when?</td>\n",
       "      <td>{'text': [], 'answer_start': []}</td>\n",
       "    </tr>\n",
       "    <tr>\n",
       "      <th>2901</th>\n",
       "      <td>5ad24827d7d075001a428b55</td>\n",
       "      <td>Spectre_(2015_film)</td>\n",
       "      <td>A sequel to Spectre will begin development in ...</td>\n",
       "      <td>Who will return to direct the next 007 film?</td>\n",
       "      <td>{'text': [], 'answer_start': []}</td>\n",
       "    </tr>\n",
       "    <tr>\n",
       "      <th>2902</th>\n",
       "      <td>5ad24827d7d075001a428b56</td>\n",
       "      <td>Spectre_(2015_film)</td>\n",
       "      <td>A sequel to Spectre will begin development in ...</td>\n",
       "      <td>Who has signed on for three more films in the ...</td>\n",
       "      <td>{'text': [], 'answer_start': []}</td>\n",
       "    </tr>\n",
       "    <tr>\n",
       "      <th>2903</th>\n",
       "      <td>5ad24827d7d075001a428b57</td>\n",
       "      <td>Spectre_(2015_film)</td>\n",
       "      <td>A sequel to Spectre will begin development in ...</td>\n",
       "      <td>Whose return depends on whether or not Sam Men...</td>\n",
       "      <td>{'text': [], 'answer_start': []}</td>\n",
       "    </tr>\n",
       "  </tbody>\n",
       "</table>\n",
       "<p>348 rows × 5 columns</p>\n",
       "</div>"
      ],
      "text/plain": [
       "                            id                                   title  \\\n",
       "2075  5a8d7bf7df8bba001a0f9ab1  The_Legend_of_Zelda:_Twilight_Princess   \n",
       "2076  5a8d7bf7df8bba001a0f9ab2  The_Legend_of_Zelda:_Twilight_Princess   \n",
       "2077  5a8d7bf7df8bba001a0f9ab3  The_Legend_of_Zelda:_Twilight_Princess   \n",
       "2078  5a8d7bf7df8bba001a0f9ab4  The_Legend_of_Zelda:_Twilight_Princess   \n",
       "2079  5a8d7bf7df8bba001a0f9ab5  The_Legend_of_Zelda:_Twilight_Princess   \n",
       "...                        ...                                     ...   \n",
       "2896  5ad247c0d7d075001a428b4f                     Spectre_(2015_film)   \n",
       "2900  5ad24827d7d075001a428b54                     Spectre_(2015_film)   \n",
       "2901  5ad24827d7d075001a428b55                     Spectre_(2015_film)   \n",
       "2902  5ad24827d7d075001a428b56                     Spectre_(2015_film)   \n",
       "2903  5ad24827d7d075001a428b57                     Spectre_(2015_film)   \n",
       "\n",
       "                                                context  \\\n",
       "2075  The Legend of Zelda: Twilight Princess (Japane...   \n",
       "2076  The Legend of Zelda: Twilight Princess (Japane...   \n",
       "2077  The Legend of Zelda: Twilight Princess (Japane...   \n",
       "2078  The Legend of Zelda: Twilight Princess (Japane...   \n",
       "2079  The Legend of Zelda: Twilight Princess (Japane...   \n",
       "...                                                 ...   \n",
       "2896  In India, it was reported that the Indian Cent...   \n",
       "2900  A sequel to Spectre will begin development in ...   \n",
       "2901  A sequel to Spectre will begin development in ...   \n",
       "2902  A sequel to Spectre will begin development in ...   \n",
       "2903  A sequel to Spectre will begin development in ...   \n",
       "\n",
       "                                               question  \\\n",
       "2075  What category of game is Legend of Zelda: Aust...   \n",
       "2076  What consoles can be used to play Australia Tw...   \n",
       "2077  When was Australia Twilight launched in North ...   \n",
       "2078  When could GameCube owners purchase Australian...   \n",
       "2079  What year was the Legend of Zelda: Australian ...   \n",
       "...                                                 ...   \n",
       "2896  Where was support expressed for the censored f...   \n",
       "2900              A prequel to Spectre will begin when?   \n",
       "2901       Who will return to direct the next 007 film?   \n",
       "2902  Who has signed on for three more films in the ...   \n",
       "2903  Whose return depends on whether or not Sam Men...   \n",
       "\n",
       "                               answers  \n",
       "2075  {'text': [], 'answer_start': []}  \n",
       "2076  {'text': [], 'answer_start': []}  \n",
       "2077  {'text': [], 'answer_start': []}  \n",
       "2078  {'text': [], 'answer_start': []}  \n",
       "2079  {'text': [], 'answer_start': []}  \n",
       "...                                ...  \n",
       "2896  {'text': [], 'answer_start': []}  \n",
       "2900  {'text': [], 'answer_start': []}  \n",
       "2901  {'text': [], 'answer_start': []}  \n",
       "2902  {'text': [], 'answer_start': []}  \n",
       "2903  {'text': [], 'answer_start': []}  \n",
       "\n",
       "[348 rows x 5 columns]"
      ]
     },
     "execution_count": 220,
     "metadata": {},
     "output_type": "execute_result"
    }
   ],
   "source": [
    "train_set_df = pd.DataFrame(train_set)\n",
    "\n",
    "unanswerable_mask = (train_set_df[\"answers\"] == {'text': [], 'answer_start': []})\n",
    "train_set_df[unanswerable_mask]"
   ]
  },
  {
   "cell_type": "code",
   "execution_count": 221,
   "id": "bf905126-f67a-4cff-93c8-cc97abd62f38",
   "metadata": {},
   "outputs": [
    {
     "data": {
      "text/plain": [
       "'What category of game is Legend of Zelda: Australia Twilight?'"
      ]
     },
     "execution_count": 221,
     "metadata": {},
     "output_type": "execute_result"
    }
   ],
   "source": [
    "test_question_impossible = train_set[\"question\"][2075]\n",
    "test_question_impossible"
   ]
  },
  {
   "cell_type": "code",
   "execution_count": 222,
   "id": "312108d2-75e0-4587-8f21-b15d8a078050",
   "metadata": {},
   "outputs": [
    {
     "data": {
      "text/plain": [
       "77"
      ]
     },
     "execution_count": 222,
     "metadata": {},
     "output_type": "execute_result"
    }
   ],
   "source": [
    "len(test_question)"
   ]
  },
  {
   "cell_type": "code",
   "execution_count": 251,
   "id": "53040747-16ed-4e25-9527-cc258c4990ec",
   "metadata": {},
   "outputs": [
    {
     "name": "stdout",
     "output_type": "stream",
     "text": [
      "Epoch 1/10\n",
      "1/1 [==============================] - 10s 10s/step - loss: 0.4634\n",
      "Epoch 2/10\n",
      "1/1 [==============================] - 0s 400ms/step - loss: 0.3195\n",
      "Epoch 3/10\n",
      "1/1 [==============================] - 0s 388ms/step - loss: 0.4003\n",
      "Epoch 4/10\n",
      "1/1 [==============================] - 0s 367ms/step - loss: 0.3206\n",
      "Epoch 5/10\n",
      "1/1 [==============================] - 0s 380ms/step - loss: 0.1951\n",
      "Epoch 6/10\n",
      "1/1 [==============================] - 0s 370ms/step - loss: 0.3801\n",
      "Epoch 7/10\n",
      "1/1 [==============================] - 0s 375ms/step - loss: 0.2863\n",
      "Epoch 8/10\n",
      "1/1 [==============================] - 0s 392ms/step - loss: 0.1162\n",
      "Epoch 9/10\n",
      "1/1 [==============================] - 0s 370ms/step - loss: 0.0939\n",
      "Epoch 10/10\n",
      "1/1 [==============================] - 0s 381ms/step - loss: 0.0829\n"
     ]
    }
   ],
   "source": [
    "# Manually tokenizer the context twice this time to make the inputs equal shape\n",
    "inputs_tokens = tokenizer([test_context, test_context], return_tensors=\"tf\")\n",
    "inputs = input_tokens.input_ids\n",
    "inputs_attention_mask = input_tokens.attention_mask\n",
    "\n",
    "labels_tokens = tokenizer(test_questions, return_tensors=\"tf\", max_length=40, padding=\"max_length\")\n",
    "labels = labels_tokens.input_ids\n",
    "# Test ignoring questions selectively by manually assigning a penalty to the attention mask of the unanswerable question\n",
    "labels_attention_mask_good = labels_tokens.attention_mask[0]\n",
    "labels_attention_mask_bad = labels_tokens.attention_mask[1]\n",
    "labels_attention_mask = tf.stack([labels_attention_mask_good, labels_attention_mask_bad], axis=0)\n",
    "\n",
    "train_data = {}\n",
    "train_data[\"input_ids\"] = tf.expand_dims(inputs, 0)\n",
    "train_data[\"attention_mask\"] = tf.expand_dims(inputs_attention_mask, 0)\n",
    "train_data[\"labels\"] = tf.expand_dims(labels, 0)\n",
    "train_data[\"decoder_attention_mask\"] = tf.expand_dims(labels_attention_mask, 0)\n",
    "dataset = tf.data.Dataset.from_tensor_slices(train_data)\n",
    "\n",
    "model.compile()\n",
    "\n",
    "history = model.fit(dataset, epochs=20)"
   ]
  },
  {
   "cell_type": "code",
   "execution_count": 252,
   "id": "c0c3b32d-651a-43d9-84e5-e96faf0e6f21",
   "metadata": {},
   "outputs": [
    {
     "name": "stdout",
     "output_type": "stream",
     "text": [
      "What year was the Wii version of Legend of Zelda: Australia Twilight?\n",
      "What category of game is Legend of Zelda: Australia Twilight?\n",
      "What year was the Wii version of Legend of Zelda: Australian Twilight?\n",
      "What month was the Wii version of Legend of Zelda: Australia Twilight?\n",
      "\n"
     ]
    }
   ],
   "source": [
    "inputs = tokenizer(test_context, return_tensors=\"tf\",  max_length=694, truncation=True, padding=\"max_length\").input_ids\n",
    "outputs = model.generate(inputs, num_beams=5, num_return_sequences=5, do_sample=False)\n",
    "\n",
    "for i in range(5):\n",
    "    print(tokenizer.decode(outputs[i], skip_special_tokens=True))"
   ]
  },
  {
   "cell_type": "markdown",
   "id": "0c29a9e4-1485-4f6f-a0a6-f7a128eb6b49",
   "metadata": {},
   "source": [
    "## Train on more data"
   ]
  },
  {
   "cell_type": "code",
   "execution_count": 254,
   "id": "72c66f77-9ae9-4d32-9d63-cacdf388e020",
   "metadata": {},
   "outputs": [
    {
     "name": "stderr",
     "output_type": "stream",
     "text": [
      "All PyTorch model weights were used when initializing TFT5ForConditionalGeneration.\n",
      "\n",
      "All the weights of TFT5ForConditionalGeneration were initialized from the PyTorch model.\n",
      "If your task is similar to the task the model of the checkpoint was trained on, you can already use TFT5ForConditionalGeneration for predictions without further training.\n"
     ]
    },
    {
     "name": "stdout",
     "output_type": "stream",
     "text": [
      "326 22\n"
     ]
    }
   ],
   "source": [
    "tokenizer = AutoTokenizer.from_pretrained(\"t5-small\")\n",
    "model = TFT5ForConditionalGeneration.from_pretrained(\"t5-small\")\n",
    "\n",
    "contexts = train_set[\"context\"]\n",
    "questions = train_set[\"question\"]\n",
    "\n",
    "contexts_max_len = max([len(context.split()) for context in contexts])\n",
    "questions_max_len = max([len(question.split()) for question in questions])\n",
    "\n",
    "print(contexts_max_len, questions_max_len)"
   ]
  },
  {
   "cell_type": "code",
   "execution_count": 255,
   "id": "0a8ea182-858b-4cb5-8d0d-7639cb322ddd",
   "metadata": {},
   "outputs": [
    {
     "data": {
      "text/plain": [
       "43"
      ]
     },
     "execution_count": 255,
     "metadata": {},
     "output_type": "execute_result"
    }
   ],
   "source": [
    "import pandas as pd\n",
    "len(pd.Series(contexts).unique())"
   ]
  },
  {
   "cell_type": "code",
   "execution_count": 256,
   "id": "e8c9c324-f7bb-4b85-9d9e-7ba641f37831",
   "metadata": {},
   "outputs": [
    {
     "data": {
      "text/plain": [
       "['Beyoncé Giselle Knowles-Carter (/biːˈjɒnseɪ/ bee-YON-say) (born September 4, 1981) is an American singer, songwriter, record producer and actress. Born and raised in Houston, Texas, she performed in v',\n",
       " 'Following the disbandment of Destiny\\'s Child in June 2005, she released her second solo album, B\\'Day (2006), which contained hits \"Déjà Vu\", \"Irreplaceable\", and \"Beautiful Liar\". Beyoncé also venture',\n",
       " 'A self-described \"modern-day feminist\", Beyoncé creates songs that are often characterized by themes of love, relationships, and monogamy, as well as female sexuality and empowerment. On stage, her dy',\n",
       " 'Beyoncé Giselle Knowles was born in Houston, Texas, to Celestine Ann \"Tina\" Knowles (née Beyincé), a hairdresser and salon owner, and Mathew Knowles, a Xerox sales manager. Beyoncé\\'s name is a tribute',\n",
       " \"Beyoncé attended St. Mary's Elementary School in Fredericksburg, Texas, where she enrolled in dance classes. Her singing talent was discovered when dance instructor Darlette Johnson began humming a so\",\n",
       " \"At age eight, Beyoncé and childhood friend Kelly Rowland met LaTavia Roberson while in an audition for an all-girl entertainment group. They were placed into a group with three other girls as Girl's T\",\n",
       " 'The group changed their name to Destiny\\'s Child in 1996, based upon a passage in the Book of Isaiah. In 1997, Destiny\\'s Child released their major label debut song \"Killing Time\" on the soundtrack to ',\n",
       " \"LeToya Luckett and Roberson became unhappy with Mathew's managing of the band and eventually were replaced by Farrah Franklin and Michelle Williams. Beyoncé experienced depression following the split \",\n",
       " 'The remaining band members recorded \"Independent Women Part I\", which appeared on the soundtrack to the 2000 film, Charlie\\'s Angels. It became their best-charting single, topping the U.S. Billboard Ho',\n",
       " 'In July 2002, Beyoncé continued her acting career playing Foxxy Cleopatra alongside Mike Myers in the comedy film, Austin Powers in Goldmember, which spent its first weekend atop the US box office and',\n",
       " 'Beyoncé\\'s first solo recording was a feature on Jay Z\\'s \"\\'03 Bonnie & Clyde\" that was released in October 2002, peaking at number four on the U.S. Billboard Hot 100 chart. Her first solo album Dangero',\n",
       " 'In November 2003, she embarked on the Dangerously in Love Tour in Europe and later toured alongside Missy Elliott and Alicia Keys for the Verizon Ladies First Tour in North America. On February 1, 200',\n",
       " \"Beyoncé's second solo album B'Day was released on September 5, 2006, in the US, to coincide with her twenty-fifth birthday. It sold 541,000 copies in its first week and debuted atop the Billboard 200,\",\n",
       " 'Her first acting role of 2006 was in the comedy film The Pink Panther starring opposite Steve Martin, grossing $158.8 million at the box office worldwide. Her second film Dreamgirls, the film version ',\n",
       " \"On April 4, 2008, Beyoncé married Jay Z. She publicly revealed their marriage in a video montage at the listening party for her third studio album, I Am... Sasha Fierce, in Manhattan's Sony Club on Oc\",\n",
       " 'Beyoncé further expanded her acting career, starring as blues singer Etta James in the 2008 musical biopic, Cadillac Records. Her performance in the film received praise from critics, and she garnered',\n",
       " 'At the 52nd Annual Grammy Awards, Beyoncé received ten nominations, including Album of the Year for I Am... Sasha Fierce, Record of the Year for \"Halo\", and Song of the Year for \"Single Ladies (Put a ',\n",
       " 'Beyoncé announced a hiatus from her music career in January 2010, heeding her mother\\'s advice, \"to live life, to be inspired by things again\". During the break she and her father parted ways as busine',\n",
       " 'In 2011, documents obtained by WikiLeaks revealed that Beyoncé was one of many entertainers who performed for the family of Libyan ruler Muammar Gaddafi. Rolling Stone reported that the music industry',\n",
       " 'Her fourth studio album 4 was released on June 28, 2011 in the US. 4 sold 310,000 copies in its first week and debuted atop the Billboard 200 chart, giving Beyoncé her fourth consecutive number-one al',\n",
       " \"On January 7, 2012, Beyoncé gave birth to her first child, a daughter, Blue Ivy Carter, at Lenox Hill Hospital in New York. Five months later, she performed for four nights at Revel Atlantic City's Ov\",\n",
       " 'In January 2013, Destiny\\'s Child released Love Songs, a compilation album of the romance-themed songs from their previous albums and a newly recorded track, \"Nuclear\". Beyoncé performed the American n',\n",
       " 'Beyoncé embarked on The Mrs. Carter Show World Tour on April 15 in Belgrade, Serbia; the tour included 132 dates that ran through to March 2014. It became the most successful tour of her career and on',\n",
       " 'On December 13, 2013, Beyoncé unexpectedly released her eponymous fifth studio album on the iTunes Store without any prior announcement or promotion. The album debuted atop the Billboard 200 chart, gi',\n",
       " 'At the 57th Annual Grammy Awards in February 2015, Beyoncé was nominated for six awards, ultimately winning three: Best R&B Performance and Best R&B Song for \"Drunk in Love\", and Best Surround Sound A',\n",
       " 'On February 6, 2016, one day before her performance at the Super Bowl, Beyoncé released a new single exclusively on music streaming service Tidal called \"Formation\".',\n",
       " 'Beyoncé is believed to have first started a relationship with Jay Z after a collaboration on \"\\'03 Bonnie & Clyde\", which appeared on his seventh album The Blueprint 2: The Gift & The Curse (2002). Bey',\n",
       " 'In August, the couple attended the 2011 MTV Video Music Awards, at which Beyoncé performed \"Love on Top\" and started the performance saying \"Tonight I want you to stand up on your feet, I want you to ',\n",
       " 'On January 7, 2012, Beyoncé gave birth to a daughter, Blue Ivy Carter, at Lenox Hill Hospital in New York under heavy security. Two days later, Jay Z released \"Glory\", a song dedicated to their child,',\n",
       " 'Beyoncé and husband Jay Z are friends with President Barack Obama and First Lady Michelle Obama. She performed \"America the Beautiful\" at the 2009 presidential inauguration, as well as \"At Last\" durin',\n",
       " 'In an interview published by Vogue in April 2013, Beyoncé was asked if she considers herself a feminist, to which she said, \"that word can be very extreme... But I guess I am a modern-day feminist. I ',\n",
       " 'In 2015 Beyoncé signed an open letter which the ONE Campaign had been collecting signatures for; the letter was addressed to Angela Merkel and Nkosazana Dlamini-Zuma, urging them to focus on women as ',\n",
       " \"Following the death of Freddie Gray, Beyoncé and Jay-Z, among other notable figures, met with his family. After the imprisonment of protesters of Gray's death, Beyoncé and Jay-Z donated thousands of d\",\n",
       " \"Forbes magazine began reporting on Beyoncé's earnings in 2008, calculating that the $80 million earned between June 2007 to June 2008, for her music, tour, films and clothing line made her the world's\",\n",
       " 'Beyoncé\\'s vocal range spans four octaves. Jody Rosen highlights her tone and timbre as particularly distinctive, describing her voice as \"one of the most compelling instruments in popular music\". Whil',\n",
       " \"Beyoncé's music is generally R&B, but she also incorporates pop, soul and funk into her songs. 4 demonstrated Beyoncé's exploration of 90s-style R&B, as well as further use of soul and hip hop than co\",\n",
       " 'She has received co-writing credits for most of the songs recorded with Destiny\\'s Child and her solo efforts. Her early songs were personally driven and female-empowerment themed compositions like \"In',\n",
       " 'In 2001, she became the first African-American woman and second woman songwriter to win the Pop Songwriter of the Year award at the American Society of Composers, Authors, and Publishers Pop Music Awa',\n",
       " 'Beyoncé names Michael Jackson as her major musical influence. Aged five, Beyoncé attended her first ever concert where Jackson performed and she claims to have realised her purpose. When she presented',\n",
       " 'The feminism and female empowerment themes on Beyoncé\\'s second solo album B\\'Day were inspired by her role in Dreamgirls and by singer Josephine Baker. Beyoncé paid homage to Baker by performing \"Déjà ',\n",
       " 'Beyoncé has stated that she is personally inspired by US First Lady Michelle Obama, saying \"She proves you can do it all\" and she has described Oprah Winfrey as \"the definition of inspiration and a st',\n",
       " \"In 2006, Beyoncé introduced her all-female tour band Suga Mama (also the name of a song in B'Day) which includes bassists, drummers, guitarists, horn players, keyboardists and percussionists. Her back\",\n",
       " 'Beyoncé has received praise for her stage presence and voice during live performances. Jarett Wieselman of the New York Post placed her at number one on her list of the Five Best Singer/Dancers. Accor']"
      ]
     },
     "execution_count": 256,
     "metadata": {},
     "output_type": "execute_result"
    }
   ],
   "source": [
    "[s[:200] for s in pd.Series(contexts).unique()]"
   ]
  },
  {
   "cell_type": "code",
   "execution_count": 13,
   "id": "de6d0fc6-0447-4a66-b428-a510ca34bc5c",
   "metadata": {},
   "outputs": [
    {
     "name": "stdout",
     "output_type": "stream",
     "text": [
      "CPU times: user 16.4 s, sys: 2.07 s, total: 18.5 s\n",
      "Wall time: 3.36 s\n"
     ]
    }
   ],
   "source": [
    "%%time\n",
    "# Takes some time!\n",
    "\n",
    "inputs = tokenizer(contexts, return_tensors=\"tf\", max_length=contexts_max_len, padding=\"max_length\", truncation=True).input_ids\n",
    "labels = tokenizer(questions, return_tensors=\"tf\", max_length=questions_max_len, padding=\"max_length\", truncation=True).input_ids\n",
    "\n",
    "train_data = {}\n",
    "train_data[\"input_ids\"] = inputs\n",
    "train_data[\"labels\"] = labels\n",
    "\n"
   ]
  },
  {
   "cell_type": "code",
   "execution_count": 14,
   "id": "c3b105fa-d128-4e35-be32-b962d6ca9e1b",
   "metadata": {},
   "outputs": [],
   "source": [
    "from tensorflow.keras.optimizers import AdamW\n",
    "from tensorflow.keras.optimizers.schedules import ExponentialDecay\n",
    "\n",
    "initial_learning_rate = 0.001 # start with default Adam value\n",
    "\n",
    "lr_schedule = ExponentialDecay(\n",
    "    # Every 5000 iterations, multiply the learning rate by 0.7\n",
    "    initial_learning_rate, decay_steps = 50000, decay_rate = 0.7,\n",
    ")\n",
    "\n",
    "dataset = tf.data.Dataset.from_tensor_slices(train_data).batch(8)\n",
    "val_dataset = tf.data.Dataset.from_tensor_slices(val_data).batch(8)\n",
    "\n",
    "adamw = AdamW(weight_decay=0.04, learning_rate=lr_schedule)\n",
    "\n",
    "model.compile(optimizer=adamw)"
   ]
  },
  {
   "cell_type": "markdown",
   "id": "fe69c900-b01b-4503-9278-508a088dd3bb",
   "metadata": {},
   "source": [
    "We don't necessarily need to use validation, as it is not important that the generated questions match **exactly** with those in the validation set."
   ]
  },
  {
   "cell_type": "code",
   "execution_count": 15,
   "id": "3468bd04-ecd1-4b21-b888-5ca7fd4e7182",
   "metadata": {},
   "outputs": [
    {
     "name": "stdout",
     "output_type": "stream",
     "text": [
      "Epoch 1/4\n",
      "3750/3750 [==============================] - 709s 184ms/step - loss: 0.9328\n",
      "Epoch 2/4\n",
      "3750/3750 [==============================] - 706s 188ms/step - loss: 0.8085\n",
      "Epoch 3/4\n",
      "3750/3750 [==============================] - 718s 192ms/step - loss: 0.7322\n",
      "Epoch 4/4\n",
      "3750/3750 [==============================] - 714s 190ms/step - loss: 0.6713\n"
     ]
    }
   ],
   "source": [
    "history = model.fit(dataset, epochs=4)"
   ]
  },
  {
   "cell_type": "code",
   "execution_count": 3,
   "id": "78935e7f-5d51-46dd-8715-56b8ddcc641a",
   "metadata": {},
   "outputs": [],
   "source": [
    "#model.save_weights(\"/home/rob/question-generation-checkpoint-#######.h5\")\n",
    "model.load_weights(\"/home/rob/question-generation-checkpoint-29-11-2023.h5\")"
   ]
  },
  {
   "cell_type": "code",
   "execution_count": 9,
   "id": "98af65e8-ef82-4879-ac9b-6dae7a3fc257",
   "metadata": {},
   "outputs": [
    {
     "name": "stdout",
     "output_type": "stream",
     "text": [
      "What was the name of Beyoncé's debut album?\n",
      "How many Grammy Awards did Beyoncé win?\n",
      "Who was the lead singer of Destiny's Child?\n",
      "How many Grammy Awards did Beyoncé win at Dangerously in Love?\n",
      "How many Grammy Awards did Beyoncé win over Dangerously in Love?\n",
      "What was Beyoncé's father's father?\n",
      "What was Beyoncé's first album?\n",
      "Who was Beyoncé's lead singer?\n",
      "Who was Beyoncé's mother?\n",
      "What was the name of Beyoncé's first album?\n"
     ]
    }
   ],
   "source": [
    "n_sequences = 10\n",
    "test_inputs = tokenizer(test_context, return_tensors=\"tf\").input_ids\n",
    "test_outputs = model.generate(test_inputs, num_beams=20, num_return_sequences=n_sequences, do_sample=False)\n",
    "for i in range(n_sequences):\n",
    "    print(tokenizer.decode(test_outputs[i], skip_special_tokens=True))"
   ]
  },
  {
   "cell_type": "code",
   "execution_count": 5,
   "id": "573822c9-37ff-40c2-80cb-61afc727918b",
   "metadata": {},
   "outputs": [
    {
     "name": "stderr",
     "output_type": "stream",
     "text": [
      "/home/rob/.pyenv/versions/3.10.6/envs/quizachu-env/lib/python3.10/site-packages/transformers/generation/tf_utils.py:838: UserWarning: Using the model-agnostic default `max_length` (=20) to control the generation length.  recommend setting `max_new_tokens` to control the maximum length of the generation.\n",
      "  warnings.warn(\n",
      "2023-11-29 15:58:47.142224: I tensorflow/compiler/xla/service/service.cc:168] XLA service 0x5617e5f89620 initialized for platform CUDA (this does not guarantee that XLA will be used). Devices:\n",
      "2023-11-29 15:58:47.142258: I tensorflow/compiler/xla/service/service.cc:176]   StreamExecutor device (0): NVIDIA GeForce RTX 3070 Ti Laptop GPU, Compute Capability 8.6\n",
      "2023-11-29 15:58:47.146026: I tensorflow/compiler/mlir/tensorflow/utils/dump_mlir_util.cc:269] disabling MLIR crash reproducer, set env var `MLIR_CRASH_REPRODUCER_DIRECTORY` to enable.\n",
      "2023-11-29 15:58:47.155519: I tensorflow/compiler/xla/stream_executor/cuda/cuda_dnn.cc:442] Loaded cuDNN version 8700\n",
      "2023-11-29 15:58:47.199888: I ./tensorflow/compiler/jit/device_compiler.h:186] Compiled cluster using XLA!  This line is logged at most once for the lifetime of the process.\n"
     ]
    },
    {
     "name": "stdout",
     "output_type": "stream",
     "text": [
      "What was the top ten of the Billboard Hot 100?\n",
      "What was the top ten of the Billboard Hot 100' Billboard Hot 100?\n",
      "How many Grammy Awards did Grande play in the Nickelodeon television series Victorious?\n",
      "When did Grande become fame for playing Cat Valentine in the Nickelodeon television series?\n",
      "How many Grammy Awards did Grande play in the Nickelodeon series Victorious?\n",
      "How many Grammy Awards did Grande win in 2008?\n",
      "Who was the lead single, \"The Way\"?\n",
      "When did Grande become fame for playing Cat Valentine in the Nickelodeon show?\n",
      "What was the name of the lead single, \"The Way\"?\n",
      "What was the top ten of the Billboard Hot 100 during this period?\n",
      "When did Grande become fame for playing Cat Valentine?\n",
      "What year did Grande become fame for playing Cat Valentine?\n",
      "What year did Grande become fame for playing Cat Valentine in the Nickelodeon series?\n",
      "What was the top ten of the Billboard Hot 100 on the album?\n",
      "When did Grande become fame for playing Cat Valentine in the Nickelodeon series?\n",
      "What was the top ten of the Billboard Hot 100 compared to?\n",
      "How many Grammy Awards did Mariah Carey win in 2008?\n",
      "What was the top ten of the Billboard Hot 100 charts?\n",
      "Who was the winner of the Billboard Hot 100?\n",
      "Who was the winner of the Billboard Billboard Hot 100?\n"
     ]
    }
   ],
   "source": [
    "n_sequences = 20\n",
    "#test_context_2 = \"\"\"Johann Sebastian Bach[n 2] (31 March [O.S. 21 March] 1685 – 28 July 1750) was a German composer and musician of the late Baroque period. He is known for his orchestral music such as the Brandenburg Concertos; instrumental compositions such as the Cello Suites; keyboard works such as the Goldberg Variations and The Well-Tempered Clavier; organ works such as the Schubler Chorales and the Toccata and Fugue in D minor; and vocal music such as the St Matthew Passion and the Mass in B minor. Since the 19th-century Bach revival, he has been generally regarded as one of the greatest composers in the history of Western music.\"\"\"\n",
    "test_context_2 = \"\"\"\n",
    "Ariana Grande-Butera (/ˌɑːriˈɑːnə ˈɡrɑːndeɪ bjʊˈtɛərə/ AR-ee-AH-nə GRAHN-day byuu-TAIR-ə;[note 1] born June 26, 1993) is an American singer, songwriter, and actress. An influential figure in contemporary popular music, and often regarded as a pop culture icon, she is noted for her four-octave vocal range and whistle register that has garnered critical acclaim. Grande has received numerous accolades throughout her career, including two Grammy Awards, one Brit Award, one Bambi Award, two Billboard Music Awards, three American Music Awards, nine MTV Video Music Awards, and 30 Guinness World Records.\n",
    "\n",
    "Grande began her music career at age 15 in the 2008 Broadway musical 13. She rose to fame for playing Cat Valentine in the Nickelodeon television series Victorious (2010–2013) and Sam & Cat (2013–2014). Grande signed with Republic Records in 2011 after label executives viewed YouTube videos of her covering songs. Her 1950s doo-wop-influenced pop and R&B debut album,[2] Yours Truly (2013), topped the US Billboard 200, while its lead single, \"The Way\", reached the top ten of the US Billboard Hot 100. Grande's voice and vocal performances on the album drew immediate comparisons to Mariah Carey.\"\"\"\n",
    "test_inputs_2 = tokenizer(test_context_2, return_tensors=\"tf\").input_ids\n",
    "test_outputs_2 = model.generate(test_inputs_2, num_beams=20, num_return_sequences=n_sequences, do_sample=False)\n",
    "\n",
    "for i in range(n_sequences):\n",
    "    print(tokenizer.decode(test_outputs_2[i], skip_special_tokens=True))"
   ]
  },
  {
   "cell_type": "code",
   "execution_count": 6,
   "id": "378e86c7-f8f0-4d61-a29a-78176fad90b1",
   "metadata": {},
   "outputs": [
    {
     "name": "stdout",
     "output_type": "stream",
     "text": [
      "What type of polymers are reactive and useful for making many other substances including polymers?\n",
      "Polymers are reactive and useful for making many other substances such as what?\n",
      "What are polymers usually reactive and useful for making many other substances such as polymers?\n",
      "What is an example of polythene polymerising polythene?\n",
      "What is an example of polymerizing polythene?\n",
      "What type of polymers are reactive and so they are useful for making many other substances?\n",
      "What is an example of polymerising polythene?\n",
      "What is an example of polythene polythene?\n",
      "Polymers are reactive and so they are useful for making many other substances such as what?\n",
      "What are polymers used for?\n",
      "Polymers are reactive and so useful for making many other substances such as what?\n",
      "What is an example of polythene?\n",
      "Polymers are reactive and so they are useful for making many other substances including what?\n",
      "What is an example of polythene polymers?\n",
      "What is the polymering process used for?\n",
      "What is an example of polymerizing polymers?\n",
      "What is an example of polythene polymerizing polymers?\n",
      "What are polymers used to make?\n",
      "What are polymers commonly used for?\n",
      "What are polymers usually reactive and useful for making?\n"
     ]
    }
   ],
   "source": [
    "n_sequences = 20\n",
    "#test_context_2 = \"\"\"Johann Sebastian Bach[n 2] (31 March [O.S. 21 March] 1685 – 28 July 1750) was a German composer and musician of the late Baroque period. He is known for his orchestral music such as the Brandenburg Concertos; instrumental compositions such as the Cello Suites; keyboard works such as the Goldberg Variations and The Well-Tempered Clavier; organ works such as the Schubler Chorales and the Toccata and Fugue in D minor; and vocal music such as the St Matthew Passion and the Mass in B minor. Since the 19th-century Bach revival, he has been generally regarded as one of the greatest composers in the history of Western music.\"\"\"\n",
    "test_context_2 = \"\"\"\n",
    "Alkenes are reactive and so are useful for making many other substances including polymers.\n",
    "\n",
    "Polymers have very large molecules. They are formed when many small molecules join together. This process is called polymerisation.\n",
    "\n",
    " When alkenes join together to form a polymer with no other substance being produced in the reaction, the process is called addition polymerisation.\n",
    "\n",
    "Plastics are polymers and are made by polymerisation.\n",
    "\n",
    "Example: poly(ethene) (often called polythene) is made by polymerising the simplest alkene, ethene.\n",
    "\n",
    "\n",
    "\"\"\"\n",
    "test_inputs_2 = tokenizer(test_context_2, return_tensors=\"tf\").input_ids\n",
    "test_outputs_2 = model.generate(test_inputs_2, num_beams=n_sequences, num_return_sequences=n_sequences, do_sample=False)\n",
    "\n",
    "for i in range(n_sequences):\n",
    "    print(tokenizer.decode(test_outputs_2[i], skip_special_tokens=True))"
   ]
  },
  {
   "cell_type": "code",
   "execution_count": 12,
   "id": "be7c9803-bb4d-454a-9375-0fc3f32b15f2",
   "metadata": {},
   "outputs": [
    {
     "ename": "NameError",
     "evalue": "name 'input_ids' is not defined",
     "output_type": "error",
     "traceback": [
      "\u001b[0;31m---------------------------------------------------------------------------\u001b[0m",
      "\u001b[0;31mNameError\u001b[0m                                 Traceback (most recent call last)",
      "Cell \u001b[0;32mIn[12], line 1\u001b[0m\n\u001b[0;32m----> 1\u001b[0m \u001b[43minput_ids\u001b[49m\n",
      "\u001b[0;31mNameError\u001b[0m: name 'input_ids' is not defined"
     ]
    }
   ],
   "source": [
    "input_ids"
   ]
  }
 ],
 "metadata": {
  "kernelspec": {
   "display_name": "Python 3 (ipykernel)",
   "language": "python",
   "name": "python3"
  },
  "language_info": {
   "codemirror_mode": {
    "name": "ipython",
    "version": 3
   },
   "file_extension": ".py",
   "mimetype": "text/x-python",
   "name": "python",
   "nbconvert_exporter": "python",
   "pygments_lexer": "ipython3",
   "version": "3.10.6"
  }
 },
 "nbformat": 4,
 "nbformat_minor": 5
}
