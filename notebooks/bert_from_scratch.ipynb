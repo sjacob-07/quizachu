{
 "cells": [
  {
   "cell_type": "code",
   "execution_count": 62,
   "id": "c34ac531",
   "metadata": {},
   "outputs": [
    {
     "data": {
      "text/plain": [
       "<tf.Tensor: shape=(12,), dtype=int32, numpy=\n",
       "array([  101,  1996,  4248,  2829,  4419, 14523,  2058,  1996, 13971,\n",
       "        3899,  1012,   102], dtype=int32)>"
      ]
     },
     "execution_count": 62,
     "metadata": {},
     "output_type": "execute_result"
    }
   ],
   "source": [
    "inputs2 = tokenizer(sentences, padding=True, truncation=True, return_tensors=\"tf\", max_length=20)\n",
    "inputs2['input_ids'][0]"
   ]
  },
  {
   "cell_type": "code",
   "execution_count": 65,
   "id": "48073e77",
   "metadata": {},
   "outputs": [
    {
     "data": {
      "text/plain": [
       "array([  101,  1996,  4248,  2829,  4419, 14523,  2058,  1996, 13971,\n",
       "        3899,  1012,   102], dtype=int32)"
      ]
     },
     "execution_count": 65,
     "metadata": {},
     "output_type": "execute_result"
    }
   ],
   "source": [
    "input_ids2 = inputs2.input_ids.numpy()\n",
    "input_ids2[0]"
   ]
  },
  {
   "cell_type": "code",
   "execution_count": 72,
   "id": "e04c292a",
   "metadata": {},
   "outputs": [
    {
     "data": {
      "text/plain": [
       "array([False,  True, False, False, False, False,  True, False, False,\n",
       "       False, False, False])"
      ]
     },
     "execution_count": 72,
     "metadata": {},
     "output_type": "execute_result"
    }
   ],
   "source": [
    "mask2 = np.random.rand(*input_ids2.shape) < 0.2\n",
    "mask2[0]"
   ]
  },
  {
   "cell_type": "code",
   "execution_count": 75,
   "id": "de0509a1",
   "metadata": {},
   "outputs": [
    {
     "data": {
      "text/plain": [
       "array([-100, -100, -100, -100, -100, -100, -100, -100, -100, -100, -100,\n",
       "       -100])"
      ]
     },
     "execution_count": 75,
     "metadata": {},
     "output_type": "execute_result"
    }
   ],
   "source": [
    "labels2 = -100 * np.ones(input_ids2.shape, dtype=int)\n",
    "labels2[0]"
   ]
  },
  {
   "cell_type": "code",
   "execution_count": 77,
   "id": "369ec883",
   "metadata": {},
   "outputs": [
    {
     "data": {
      "text/plain": [
       "array([-100, 1996, -100, -100, -100, -100, 2058, -100, -100, -100, -100,\n",
       "       -100])"
      ]
     },
     "execution_count": 77,
     "metadata": {},
     "output_type": "execute_result"
    }
   ],
   "source": [
    "labels2[mask2] = input_ids2[mask2]\n",
    "labels2[0]"
   ]
  },
  {
   "cell_type": "code",
   "execution_count": 79,
   "id": "11b5e4ad",
   "metadata": {},
   "outputs": [
    {
     "data": {
      "text/plain": [
       "array([  101,   103,  4248,  2829,  4419, 14523,   103,  1996, 13971,\n",
       "        3899,  1012,   102], dtype=int32)"
      ]
     },
     "execution_count": 79,
     "metadata": {},
     "output_type": "execute_result"
    }
   ],
   "source": [
    "input_ids2[mask2] = tokenizer.convert_tokens_to_ids(tokenizer.mask_token)\n",
    "input_ids2[0]"
   ]
  },
  {
   "cell_type": "code",
   "execution_count": null,
   "id": "75cb11a1",
   "metadata": {},
   "outputs": [],
   "source": []
  },
  {
   "cell_type": "code",
   "execution_count": 1,
   "id": "b252d3d9",
   "metadata": {},
   "outputs": [
    {
     "name": "stderr",
     "output_type": "stream",
     "text": [
      "2023-11-29 13:52:19.068628: W tensorflow/stream_executor/platform/default/dso_loader.cc:64] Could not load dynamic library 'libcudart.so.11.0'; dlerror: libcudart.so.11.0: cannot open shared object file: No such file or directory\n",
      "2023-11-29 13:52:19.068713: I tensorflow/stream_executor/cuda/cudart_stub.cc:29] Ignore above cudart dlerror if you do not have a GPU set up on your machine.\n",
      "2023-11-29 13:52:19.104554: E tensorflow/stream_executor/cuda/cuda_blas.cc:2981] Unable to register cuBLAS factory: Attempting to register factory for plugin cuBLAS when one has already been registered\n",
      "2023-11-29 13:52:20.021366: W tensorflow/stream_executor/platform/default/dso_loader.cc:64] Could not load dynamic library 'libnvinfer.so.7'; dlerror: libnvinfer.so.7: cannot open shared object file: No such file or directory\n",
      "2023-11-29 13:52:20.021462: W tensorflow/stream_executor/platform/default/dso_loader.cc:64] Could not load dynamic library 'libnvinfer_plugin.so.7'; dlerror: libnvinfer_plugin.so.7: cannot open shared object file: No such file or directory\n",
      "2023-11-29 13:52:20.021473: W tensorflow/compiler/tf2tensorrt/utils/py_utils.cc:38] TF-TRT Warning: Cannot dlopen some TensorRT libraries. If you would like to use Nvidia GPU with TensorRT, please make sure the missing libraries mentioned above are installed properly.\n"
     ]
    },
    {
     "data": {
      "application/vnd.jupyter.widget-view+json": {
       "model_id": "4d6c3818b9ce43ceb5f60cef7bc7187e",
       "version_major": 2,
       "version_minor": 0
      },
      "text/plain": [
       "Downloading config.json:   0%|          | 0.00/570 [00:00<?, ?B/s]"
      ]
     },
     "metadata": {},
     "output_type": "display_data"
    },
    {
     "name": "stderr",
     "output_type": "stream",
     "text": [
      "2023-11-29 13:52:24.579979: W tensorflow/stream_executor/platform/default/dso_loader.cc:64] Could not load dynamic library 'libcuda.so.1'; dlerror: libcuda.so.1: cannot open shared object file: No such file or directory\n",
      "2023-11-29 13:52:24.580844: W tensorflow/stream_executor/cuda/cuda_driver.cc:263] failed call to cuInit: UNKNOWN ERROR (303)\n",
      "2023-11-29 13:52:24.580909: I tensorflow/stream_executor/cuda/cuda_diagnostics.cc:156] kernel driver does not appear to be running on this host (george-ThinkPad-X220-Tablet): /proc/driver/nvidia/version does not exist\n"
     ]
    },
    {
     "data": {
      "application/vnd.jupyter.widget-view+json": {
       "model_id": "17725730e6104b7a8fbde5d5543d74ad",
       "version_major": 2,
       "version_minor": 0
      },
      "text/plain": [
       "Downloading tokenizer_config.json:   0%|          | 0.00/28.0 [00:00<?, ?B/s]"
      ]
     },
     "metadata": {},
     "output_type": "display_data"
    },
    {
     "data": {
      "application/vnd.jupyter.widget-view+json": {
       "model_id": "f17679f1adbe4733a9e9c9791eb04f30",
       "version_major": 2,
       "version_minor": 0
      },
      "text/plain": [
       "Downloading vocab.txt:   0%|          | 0.00/232k [00:00<?, ?B/s]"
      ]
     },
     "metadata": {},
     "output_type": "display_data"
    },
    {
     "data": {
      "application/vnd.jupyter.widget-view+json": {
       "model_id": "268cb5ecfb624220a359ad7c3c03340c",
       "version_major": 2,
       "version_minor": 0
      },
      "text/plain": [
       "Downloading tokenizer.json:   0%|          | 0.00/466k [00:00<?, ?B/s]"
      ]
     },
     "metadata": {},
     "output_type": "display_data"
    },
    {
     "name": "stdout",
     "output_type": "stream",
     "text": [
      "Labels: [[ -100  -100  -100  2829  -100  -100  -100  -100 13971  -100  -100  -100]\n",
      " [ -100  -100  -100  2000  -100  -100  1012  -100     0  -100  -100  -100]\n",
      " [ -100  -100  4633  2003  -100  2651  -100  -100  -100  -100  -100  -100]]\n",
      "Raw tokens going in where 103 is a mask: [[  101  1996  4248   103  4419 14523  2058  1996   103  3899  1012   102]\n",
      " [  101  1045  2293   103  4521 10733   103   102   103     0     0     0]\n",
      " [  101  1996   103   103  3835   103  1012   102     0     0     0     0]]\n",
      "Epoch 1/10\n",
      "2/2 [==============================] - 28s 697ms/step - loss: 10.4796\n",
      "Epoch 2/10\n",
      "2/2 [==============================] - 2s 693ms/step - loss: 7.6194\n",
      "Epoch 3/10\n",
      "2/2 [==============================] - 2s 702ms/step - loss: 6.6910\n",
      "Epoch 4/10\n",
      "2/2 [==============================] - 2s 682ms/step - loss: 5.8492\n",
      "Epoch 5/10\n",
      "2/2 [==============================] - 2s 677ms/step - loss: 5.1625\n",
      "Epoch 6/10\n",
      "2/2 [==============================] - 2s 687ms/step - loss: 4.4735\n",
      "Epoch 7/10\n",
      "2/2 [==============================] - 2s 758ms/step - loss: 3.8830\n",
      "Epoch 8/10\n",
      "2/2 [==============================] - 2s 695ms/step - loss: 3.2950\n",
      "Epoch 9/10\n",
      "2/2 [==============================] - 2s 681ms/step - loss: 2.9307\n",
      "Epoch 10/10\n",
      "2/2 [==============================] - 2s 703ms/step - loss: 2.4939\n"
     ]
    },
    {
     "data": {
      "text/plain": [
       "<keras.callbacks.History at 0x7f4735ed1ea0>"
      ]
     },
     "execution_count": 1,
     "metadata": {},
     "output_type": "execute_result"
    }
   ],
   "source": [
    "from transformers import BertTokenizer, TFBertForMaskedLM\n",
    "import tensorflow as tf\n",
    "import numpy as np\n",
    "\n",
    "# Load pre-trained model and tokenizer (without weights)\n",
    "config = TFBertForMaskedLM.config_class.from_pretrained('bert-base-uncased')\n",
    "model = TFBertForMaskedLM(config)\n",
    "tokenizer = BertTokenizer.from_pretrained('bert-base-uncased')\n",
    "\n",
    "# Sample data\n",
    "sentences = [\n",
    "    \"The quick brown fox jumps over the lazy dog.\",\n",
    "    \"I love to eat pizza.\",\n",
    "    \"The weather is nice today.\"\n",
    "]\n",
    "\n",
    "# Tokenize input data and create a mask array\n",
    "inputs = tokenizer(sentences, padding=True, truncation=True, return_tensors=\"tf\", max_length=20)\n",
    "input_ids = inputs.input_ids.numpy()\n",
    "mask = np.random.rand(*input_ids.shape) < 0.15  # 15% probability of masking a token\n",
    "labels = -100 * np.ones(input_ids.shape, dtype=int)  # Initialize labels to -100\n",
    "labels[mask] = input_ids[mask]  # Assign labels for masked tokens\n",
    "print(f\"Labels: {labels}\")\n",
    "# Apply mask\n",
    "input_ids[mask] = tokenizer.convert_tokens_to_ids(tokenizer.mask_token)\n",
    "print(f\"Raw tokens going in where 103 is a mask: {input_ids}\")\n",
    "# Prepare dataset\n",
    "dataset = tf.data.Dataset.from_tensor_slices((\n",
    "    {\"input_ids\": input_ids, \"attention_mask\": inputs.attention_mask, \"labels\": labels}\n",
    ")).batch(2)\n",
    "\n",
    "\n",
    "def masked_sparse_categorical_crossentropy(y_true, y_pred):\n",
    "    # Create a mask to ignore the -100 labels\n",
    "    mask = tf.cast(tf.not_equal(y_true, -100), tf.float32)\n",
    "    \n",
    "    # Update y_true to a valid label value (e.g., 0) where it's -100\n",
    "    y_true = tf.where(tf.not_equal(y_true, -100), y_true, tf.zeros_like(y_true))\n",
    "\n",
    "    # Calculate the sparse categorical crossentropy\n",
    "    loss = tf.keras.losses.sparse_categorical_crossentropy(y_true, y_pred, from_logits=True)\n",
    "\n",
    "    # Apply the mask\n",
    "    loss *= mask\n",
    "\n",
    "    # Return the mean loss, but avoid division by zero\n",
    "    return tf.reduce_sum(loss) / tf.maximum(tf.reduce_sum(mask), 1)\n",
    "\n",
    "# Compile the model with the custom loss function\n",
    "model.compile(optimizer='adam', loss=masked_sparse_categorical_crossentropy)\n",
    "\n",
    "# Compile the model\n",
    "optimizer = tf.keras.optimizers.Adam(learning_rate=5e-5)\n",
    "loss = tf.keras.losses.SparseCategoricalCrossentropy(from_logits=True)\n",
    "model.compile(optimizer=optimizer, loss=masked_sparse_categorical_crossentropy)\n",
    "\n",
    "# Train the model\n",
    "model.fit(dataset, epochs=10)\n"
   ]
  },
  {
   "cell_type": "code",
   "execution_count": 2,
   "id": "9fbd0e09",
   "metadata": {},
   "outputs": [
    {
     "name": "stdout",
     "output_type": "stream",
     "text": [
      "2/2 [==============================] - 4s 153ms/step\n"
     ]
    }
   ],
   "source": [
    "output = model.predict(dataset)"
   ]
  },
  {
   "cell_type": "code",
   "execution_count": 3,
   "id": "d7980545",
   "metadata": {},
   "outputs": [
    {
     "data": {
      "text/plain": [
       "(12, 30522)"
      ]
     },
     "execution_count": 3,
     "metadata": {},
     "output_type": "execute_result"
    }
   ],
   "source": [
    "output.logits[0].shape"
   ]
  },
  {
   "cell_type": "code",
   "execution_count": 4,
   "id": "ba9c04e3",
   "metadata": {},
   "outputs": [
    {
     "name": "stdout",
     "output_type": "stream",
     "text": [
      "Model: \"tf_bert_for_masked_lm\"\n",
      "_________________________________________________________________\n",
      " Layer (type)                Output Shape              Param #   \n",
      "=================================================================\n",
      " bert (TFBertMainLayer)      multiple                  108891648 \n",
      "                                                                 \n",
      " mlm___cls (TFBertMLMHead)   multiple                  24459834  \n",
      "                                                                 \n",
      "=================================================================\n",
      "Total params: 109,514,298\n",
      "Trainable params: 109,514,298\n",
      "Non-trainable params: 0\n",
      "_________________________________________________________________\n"
     ]
    }
   ],
   "source": [
    "model.summary()"
   ]
  },
  {
   "cell_type": "code",
   "execution_count": null,
   "id": "3e441f11",
   "metadata": {},
   "outputs": [],
   "source": []
  }
 ],
 "metadata": {
  "kernelspec": {
   "display_name": "Python 3 (ipykernel)",
   "language": "python",
   "name": "python3"
  },
  "language_info": {
   "codemirror_mode": {
    "name": "ipython",
    "version": 3
   },
   "file_extension": ".py",
   "mimetype": "text/x-python",
   "name": "python",
   "nbconvert_exporter": "python",
   "pygments_lexer": "ipython3",
   "version": "3.10.6"
  },
  "toc": {
   "base_numbering": 1,
   "nav_menu": {},
   "number_sections": true,
   "sideBar": true,
   "skip_h1_title": false,
   "title_cell": "Table of Contents",
   "title_sidebar": "Contents",
   "toc_cell": false,
   "toc_position": {},
   "toc_section_display": true,
   "toc_window_display": false
  }
 },
 "nbformat": 4,
 "nbformat_minor": 5
}
