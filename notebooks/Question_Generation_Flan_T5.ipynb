{
 "cells": [
  {
   "cell_type": "markdown",
   "id": "9a8b3e40-1b96-44f4-ad57-64c9a554a91c",
   "metadata": {},
   "source": [
    "# Question Generation"
   ]
  },
  {
   "cell_type": "code",
   "execution_count": 1,
   "id": "425473a2-4f86-4b04-b4d8-f1e0eb0a8df0",
   "metadata": {},
   "outputs": [
    {
     "name": "stderr",
     "output_type": "stream",
     "text": [
      "2023-12-01 14:21:01.189773: E tensorflow/compiler/xla/stream_executor/cuda/cuda_dnn.cc:9342] Unable to register cuDNN factory: Attempting to register factory for plugin cuDNN when one has already been registered\n",
      "2023-12-01 14:21:01.189807: E tensorflow/compiler/xla/stream_executor/cuda/cuda_fft.cc:609] Unable to register cuFFT factory: Attempting to register factory for plugin cuFFT when one has already been registered\n",
      "2023-12-01 14:21:01.189843: E tensorflow/compiler/xla/stream_executor/cuda/cuda_blas.cc:1518] Unable to register cuBLAS factory: Attempting to register factory for plugin cuBLAS when one has already been registered\n",
      "2023-12-01 14:21:01.197168: I tensorflow/core/platform/cpu_feature_guard.cc:182] This TensorFlow binary is optimized to use available CPU instructions in performance-critical operations.\n",
      "To enable the following instructions: AVX2 FMA, in other operations, rebuild TensorFlow with the appropriate compiler flags.\n"
     ]
    }
   ],
   "source": [
    "from datasets import load_dataset\n",
    "from transformers import AutoTokenizer, TFT5ForConditionalGeneration\n",
    "import tensorflow as tf\n",
    "import numpy as np\n",
    "import pandas as pd\n",
    "\n",
    "squad_v2_data = load_dataset(\"squad_v2\")\n",
    "train_set = squad_v2_data[\"train\"]\n",
    "val_set = squad_v2_data[\"validation\"]"
   ]
  },
  {
   "cell_type": "code",
   "execution_count": 3,
   "id": "3262e527-b341-477c-b4dc-e895fd950d59",
   "metadata": {},
   "outputs": [],
   "source": [
    "df = pd.DataFrame(train_set)"
   ]
  },
  {
   "cell_type": "code",
   "execution_count": 8,
   "id": "8a482102-06f4-40fe-ac8c-42c971db3e09",
   "metadata": {},
   "outputs": [
    {
     "data": {
      "text/plain": [
       "<Axes: >"
      ]
     },
     "execution_count": 8,
     "metadata": {},
     "output_type": "execute_result"
    },
    {
     "data": {
      "image/png": "[encoded data removed]",
      "text/plain": [
       "<Figure size 640x480 with 1 Axes>"
      ]
     },
     "metadata": {},
     "output_type": "display_data"
    }
   ],
   "source": [
    "import matplotlib.pyplot as plt\n",
    "df[\"context\"].str.len().hist(bins=30)"
   ]
  },
  {
   "cell_type": "code",
   "execution_count": 2,
   "id": "5fef2ff5-7110-4e76-bf5c-8b1cc033e811",
   "metadata": {},
   "outputs": [
    {
     "name": "stderr",
     "output_type": "stream",
     "text": [
      "2023-11-30 16:51:35.439987: I tensorflow/compiler/xla/stream_executor/cuda/cuda_gpu_executor.cc:894] successful NUMA node read from SysFS had negative value (-1), but there must be at least one NUMA node, so returning NUMA node zero. See more at https://github.com/torvalds/linux/blob/v6.0/Documentation/ABI/testing/sysfs-bus-pci#L344-L355\n",
      "2023-11-30 16:51:35.461857: I tensorflow/compiler/xla/stream_executor/cuda/cuda_gpu_executor.cc:894] successful NUMA node read from SysFS had negative value (-1), but there must be at least one NUMA node, so returning NUMA node zero. See more at https://github.com/torvalds/linux/blob/v6.0/Documentation/ABI/testing/sysfs-bus-pci#L344-L355\n",
      "2023-11-30 16:51:35.462084: I tensorflow/compiler/xla/stream_executor/cuda/cuda_gpu_executor.cc:894] successful NUMA node read from SysFS had negative value (-1), but there must be at least one NUMA node, so returning NUMA node zero. See more at https://github.com/torvalds/linux/blob/v6.0/Documentation/ABI/testing/sysfs-bus-pci#L344-L355\n",
      "2023-11-30 16:51:35.463649: I tensorflow/compiler/xla/stream_executor/cuda/cuda_gpu_executor.cc:894] successful NUMA node read from SysFS had negative value (-1), but there must be at least one NUMA node, so returning NUMA node zero. See more at https://github.com/torvalds/linux/blob/v6.0/Documentation/ABI/testing/sysfs-bus-pci#L344-L355\n",
      "2023-11-30 16:51:35.463837: I tensorflow/compiler/xla/stream_executor/cuda/cuda_gpu_executor.cc:894] successful NUMA node read from SysFS had negative value (-1), but there must be at least one NUMA node, so returning NUMA node zero. See more at https://github.com/torvalds/linux/blob/v6.0/Documentation/ABI/testing/sysfs-bus-pci#L344-L355\n",
      "2023-11-30 16:51:35.464003: I tensorflow/compiler/xla/stream_executor/cuda/cuda_gpu_executor.cc:894] successful NUMA node read from SysFS had negative value (-1), but there must be at least one NUMA node, so returning NUMA node zero. See more at https://github.com/torvalds/linux/blob/v6.0/Documentation/ABI/testing/sysfs-bus-pci#L344-L355\n",
      "2023-11-30 16:51:35.526653: I tensorflow/compiler/xla/stream_executor/cuda/cuda_gpu_executor.cc:894] successful NUMA node read from SysFS had negative value (-1), but there must be at least one NUMA node, so returning NUMA node zero. See more at https://github.com/torvalds/linux/blob/v6.0/Documentation/ABI/testing/sysfs-bus-pci#L344-L355\n",
      "2023-11-30 16:51:35.526852: I tensorflow/compiler/xla/stream_executor/cuda/cuda_gpu_executor.cc:894] successful NUMA node read from SysFS had negative value (-1), but there must be at least one NUMA node, so returning NUMA node zero. See more at https://github.com/torvalds/linux/blob/v6.0/Documentation/ABI/testing/sysfs-bus-pci#L344-L355\n",
      "2023-11-30 16:51:35.526990: I tensorflow/core/common_runtime/gpu/gpu_process_state.cc:236] Using CUDA malloc Async allocator for GPU: 0\n",
      "2023-11-30 16:51:35.527177: I tensorflow/compiler/xla/stream_executor/cuda/cuda_gpu_executor.cc:894] successful NUMA node read from SysFS had negative value (-1), but there must be at least one NUMA node, so returning NUMA node zero. See more at https://github.com/torvalds/linux/blob/v6.0/Documentation/ABI/testing/sysfs-bus-pci#L344-L355\n",
      "2023-11-30 16:51:35.527568: I tensorflow/core/common_runtime/gpu/gpu_device.cc:1886] Created device /job:localhost/replica:0/task:0/device:GPU:0 with 6270 MB memory:  -> device: 0, name: NVIDIA GeForce RTX 3070 Ti Laptop GPU, pci bus id: 0000:01:00.0, compute capability: 8.6\n",
      "2023-11-30 16:51:35.776272: I tensorflow/tsl/platform/default/subprocess.cc:304] Start cannot spawn child process: No such file or directory\n",
      "/home/rob/.pyenv/versions/3.10.6/envs/quizachu-env/lib/python3.10/site-packages/keras/src/initializers/initializers.py:120: UserWarning: The initializer RandomNormal is unseeded and being called multiple times, which will return identical values each time (even if the initializer is unseeded). Please update your code to provide a seed to the initializer, or avoid using the same initializer instance more than once.\n",
      "  warnings.warn(\n",
      "All PyTorch model weights were used when initializing TFT5ForConditionalGeneration.\n",
      "\n",
      "All the weights of TFT5ForConditionalGeneration were initialized from the PyTorch model.\n",
      "If your task is similar to the task the model of the checkpoint was trained on, you can already use TFT5ForConditionalGeneration for predictions without further training.\n"
     ]
    }
   ],
   "source": [
    "tokenizer = AutoTokenizer.from_pretrained(\"google/flan-t5-small\")\n",
    "model = TFT5ForConditionalGeneration.from_pretrained(\"google/flan-t5-small\")"
   ]
  },
  {
   "cell_type": "code",
   "execution_count": 6,
   "id": "169a67e2-5575-4dd1-9134-d08eabc84ead",
   "metadata": {},
   "outputs": [
    {
     "name": "stdout",
     "output_type": "stream",
     "text": [
      "705\n"
     ]
    },
    {
     "data": {
      "text/plain": [
       "'The Legend of Zelda: Twilight Princess (Japanese: ゼルダの伝説 トワイライトプリンセス, Hepburn: Zeruda no Densetsu: Towairaito Purinsesu?) is an action-adventure game developed and published by Nintendo for the GameCube and Wii home video game consoles. It is the thirteenth installment in the The Legend of Zelda series. Originally planned for release on the GameCube in November 2005, Twilight Princess was delayed by Nintendo to allow its developers to refine the game, add more content, and port it to the Wii. The Wii version was released alongside the console in North America in November 2006, and in Japan, Europe, and Australia the following month. The GameCube version was released worldwide in December 2006.[b]'"
      ]
     },
     "execution_count": 6,
     "metadata": {},
     "output_type": "execute_result"
    }
   ],
   "source": [
    "# First, take a test context for which we will consider one answerable question, and one unanswerable question.\n",
    "test_context = train_set[\"context\"][2075]\n",
    "print(len(test_context))\n",
    "test_context"
   ]
  },
  {
   "cell_type": "code",
   "execution_count": 7,
   "id": "98b4d0ad-da1f-4f74-9def-d0742a87b6ca",
   "metadata": {},
   "outputs": [
    {
     "data": {
      "text/plain": [
       "'The Legend of Zelda: Twilight Princess (Japanese: ゼルダの伝説 トワイライトプリンセス, Hepburn: Zeruda no Densetsu: Towairaito Purinsesu?) is an action-adventure game developed and published by Nintendo for the GameCube and Wii home video game consoles. It is the thirteenth installment in the The Legend of Zelda series. Originally planned for release on the GameCube in November 2005, Twilight Princess was delayed by Nintendo to allow its developers to refine the game, add more content, and port it to the Wii. The Wii version was released alongside the console in North America in November 2006, and in Japan, Europe, and Australia the following month. The GameCube version was released worldwide in December 2006.[b]'"
      ]
     },
     "execution_count": 7,
     "metadata": {},
     "output_type": "execute_result"
    }
   ],
   "source": [
    "train_set[\"context\"][2074]"
   ]
  },
  {
   "cell_type": "code",
   "execution_count": 8,
   "id": "af13d37b-f5b6-451f-b2b0-14ccb13d4bab",
   "metadata": {},
   "outputs": [
    {
     "data": {
      "text/plain": [
       "'What year was the Wii version of Legend of Zelda: Twilight Princess released?'"
      ]
     },
     "execution_count": 8,
     "metadata": {},
     "output_type": "execute_result"
    }
   ],
   "source": [
    "test_question = train_set[\"question\"][2074]\n",
    "test_question"
   ]
  },
  {
   "cell_type": "code",
   "execution_count": 9,
   "id": "6a48ab39-c77b-4139-9413-2c1008763538",
   "metadata": {},
   "outputs": [
    {
     "data": {
      "text/html": [
       "<div>\n",
       "<style scoped>\n",
       "    .dataframe tbody tr th:only-of-type {\n",
       "        vertical-align: middle;\n",
       "    }\n",
       "\n",
       "    .dataframe tbody tr th {\n",
       "        vertical-align: top;\n",
       "    }\n",
       "\n",
       "    .dataframe thead th {\n",
       "        text-align: right;\n",
       "    }\n",
       "</style>\n",
       "<table border=\"1\" class=\"dataframe\">\n",
       "  <thead>\n",
       "    <tr style=\"text-align: right;\">\n",
       "      <th></th>\n",
       "      <th>id</th>\n",
       "      <th>title</th>\n",
       "      <th>context</th>\n",
       "      <th>question</th>\n",
       "      <th>answers</th>\n",
       "    </tr>\n",
       "  </thead>\n",
       "  <tbody>\n",
       "    <tr>\n",
       "      <th>2075</th>\n",
       "      <td>5a8d7bf7df8bba001a0f9ab1</td>\n",
       "      <td>The_Legend_of_Zelda:_Twilight_Princess</td>\n",
       "      <td>The Legend of Zelda: Twilight Princess (Japane...</td>\n",
       "      <td>What category of game is Legend of Zelda: Aust...</td>\n",
       "      <td>{'text': [], 'answer_start': []}</td>\n",
       "    </tr>\n",
       "    <tr>\n",
       "      <th>2076</th>\n",
       "      <td>5a8d7bf7df8bba001a0f9ab2</td>\n",
       "      <td>The_Legend_of_Zelda:_Twilight_Princess</td>\n",
       "      <td>The Legend of Zelda: Twilight Princess (Japane...</td>\n",
       "      <td>What consoles can be used to play Australia Tw...</td>\n",
       "      <td>{'text': [], 'answer_start': []}</td>\n",
       "    </tr>\n",
       "    <tr>\n",
       "      <th>2077</th>\n",
       "      <td>5a8d7bf7df8bba001a0f9ab3</td>\n",
       "      <td>The_Legend_of_Zelda:_Twilight_Princess</td>\n",
       "      <td>The Legend of Zelda: Twilight Princess (Japane...</td>\n",
       "      <td>When was Australia Twilight launched in North ...</td>\n",
       "      <td>{'text': [], 'answer_start': []}</td>\n",
       "    </tr>\n",
       "    <tr>\n",
       "      <th>2078</th>\n",
       "      <td>5a8d7bf7df8bba001a0f9ab4</td>\n",
       "      <td>The_Legend_of_Zelda:_Twilight_Princess</td>\n",
       "      <td>The Legend of Zelda: Twilight Princess (Japane...</td>\n",
       "      <td>When could GameCube owners purchase Australian...</td>\n",
       "      <td>{'text': [], 'answer_start': []}</td>\n",
       "    </tr>\n",
       "    <tr>\n",
       "      <th>2079</th>\n",
       "      <td>5a8d7bf7df8bba001a0f9ab5</td>\n",
       "      <td>The_Legend_of_Zelda:_Twilight_Princess</td>\n",
       "      <td>The Legend of Zelda: Twilight Princess (Japane...</td>\n",
       "      <td>What year was the Legend of Zelda: Australian ...</td>\n",
       "      <td>{'text': [], 'answer_start': []}</td>\n",
       "    </tr>\n",
       "    <tr>\n",
       "      <th>...</th>\n",
       "      <td>...</td>\n",
       "      <td>...</td>\n",
       "      <td>...</td>\n",
       "      <td>...</td>\n",
       "      <td>...</td>\n",
       "    </tr>\n",
       "    <tr>\n",
       "      <th>2896</th>\n",
       "      <td>5ad247c0d7d075001a428b4f</td>\n",
       "      <td>Spectre_(2015_film)</td>\n",
       "      <td>In India, it was reported that the Indian Cent...</td>\n",
       "      <td>Where was support expressed for the censored f...</td>\n",
       "      <td>{'text': [], 'answer_start': []}</td>\n",
       "    </tr>\n",
       "    <tr>\n",
       "      <th>2900</th>\n",
       "      <td>5ad24827d7d075001a428b54</td>\n",
       "      <td>Spectre_(2015_film)</td>\n",
       "      <td>A sequel to Spectre will begin development in ...</td>\n",
       "      <td>A prequel to Spectre will begin when?</td>\n",
       "      <td>{'text': [], 'answer_start': []}</td>\n",
       "    </tr>\n",
       "    <tr>\n",
       "      <th>2901</th>\n",
       "      <td>5ad24827d7d075001a428b55</td>\n",
       "      <td>Spectre_(2015_film)</td>\n",
       "      <td>A sequel to Spectre will begin development in ...</td>\n",
       "      <td>Who will return to direct the next 007 film?</td>\n",
       "      <td>{'text': [], 'answer_start': []}</td>\n",
       "    </tr>\n",
       "    <tr>\n",
       "      <th>2902</th>\n",
       "      <td>5ad24827d7d075001a428b56</td>\n",
       "      <td>Spectre_(2015_film)</td>\n",
       "      <td>A sequel to Spectre will begin development in ...</td>\n",
       "      <td>Who has signed on for three more films in the ...</td>\n",
       "      <td>{'text': [], 'answer_start': []}</td>\n",
       "    </tr>\n",
       "    <tr>\n",
       "      <th>2903</th>\n",
       "      <td>5ad24827d7d075001a428b57</td>\n",
       "      <td>Spectre_(2015_film)</td>\n",
       "      <td>A sequel to Spectre will begin development in ...</td>\n",
       "      <td>Whose return depends on whether or not Sam Men...</td>\n",
       "      <td>{'text': [], 'answer_start': []}</td>\n",
       "    </tr>\n",
       "  </tbody>\n",
       "</table>\n",
       "<p>348 rows × 5 columns</p>\n",
       "</div>"
      ],
      "text/plain": [
       "                            id                                   title  \\\n",
       "2075  5a8d7bf7df8bba001a0f9ab1  The_Legend_of_Zelda:_Twilight_Princess   \n",
       "2076  5a8d7bf7df8bba001a0f9ab2  The_Legend_of_Zelda:_Twilight_Princess   \n",
       "2077  5a8d7bf7df8bba001a0f9ab3  The_Legend_of_Zelda:_Twilight_Princess   \n",
       "2078  5a8d7bf7df8bba001a0f9ab4  The_Legend_of_Zelda:_Twilight_Princess   \n",
       "2079  5a8d7bf7df8bba001a0f9ab5  The_Legend_of_Zelda:_Twilight_Princess   \n",
       "...                        ...                                     ...   \n",
       "2896  5ad247c0d7d075001a428b4f                     Spectre_(2015_film)   \n",
       "2900  5ad24827d7d075001a428b54                     Spectre_(2015_film)   \n",
       "2901  5ad24827d7d075001a428b55                     Spectre_(2015_film)   \n",
       "2902  5ad24827d7d075001a428b56                     Spectre_(2015_film)   \n",
       "2903  5ad24827d7d075001a428b57                     Spectre_(2015_film)   \n",
       "\n",
       "                                                context  \\\n",
       "2075  The Legend of Zelda: Twilight Princess (Japane...   \n",
       "2076  The Legend of Zelda: Twilight Princess (Japane...   \n",
       "2077  The Legend of Zelda: Twilight Princess (Japane...   \n",
       "2078  The Legend of Zelda: Twilight Princess (Japane...   \n",
       "2079  The Legend of Zelda: Twilight Princess (Japane...   \n",
       "...                                                 ...   \n",
       "2896  In India, it was reported that the Indian Cent...   \n",
       "2900  A sequel to Spectre will begin development in ...   \n",
       "2901  A sequel to Spectre will begin development in ...   \n",
       "2902  A sequel to Spectre will begin development in ...   \n",
       "2903  A sequel to Spectre will begin development in ...   \n",
       "\n",
       "                                               question  \\\n",
       "2075  What category of game is Legend of Zelda: Aust...   \n",
       "2076  What consoles can be used to play Australia Tw...   \n",
       "2077  When was Australia Twilight launched in North ...   \n",
       "2078  When could GameCube owners purchase Australian...   \n",
       "2079  What year was the Legend of Zelda: Australian ...   \n",
       "...                                                 ...   \n",
       "2896  Where was support expressed for the censored f...   \n",
       "2900              A prequel to Spectre will begin when?   \n",
       "2901       Who will return to direct the next 007 film?   \n",
       "2902  Who has signed on for three more films in the ...   \n",
       "2903  Whose return depends on whether or not Sam Men...   \n",
       "\n",
       "                               answers  \n",
       "2075  {'text': [], 'answer_start': []}  \n",
       "2076  {'text': [], 'answer_start': []}  \n",
       "2077  {'text': [], 'answer_start': []}  \n",
       "2078  {'text': [], 'answer_start': []}  \n",
       "2079  {'text': [], 'answer_start': []}  \n",
       "...                                ...  \n",
       "2896  {'text': [], 'answer_start': []}  \n",
       "2900  {'text': [], 'answer_start': []}  \n",
       "2901  {'text': [], 'answer_start': []}  \n",
       "2902  {'text': [], 'answer_start': []}  \n",
       "2903  {'text': [], 'answer_start': []}  \n",
       "\n",
       "[348 rows x 5 columns]"
      ]
     },
     "execution_count": 9,
     "metadata": {},
     "output_type": "execute_result"
    }
   ],
   "source": [
    "train_set_df = pd.DataFrame(train_set)\n",
    "\n",
    "unanswerable_mask = (train_set_df[\"answers\"] == {'text': [], 'answer_start': []})\n",
    "train_set_df[unanswerable_mask]"
   ]
  },
  {
   "cell_type": "code",
   "execution_count": 10,
   "id": "bf905126-f67a-4cff-93c8-cc97abd62f38",
   "metadata": {},
   "outputs": [
    {
     "data": {
      "text/plain": [
       "'What category of game is Legend of Zelda: Australia Twilight?'"
      ]
     },
     "execution_count": 10,
     "metadata": {},
     "output_type": "execute_result"
    }
   ],
   "source": [
    "test_question_impossible = train_set[\"question\"][2075]\n",
    "test_question_impossible"
   ]
  },
  {
   "cell_type": "code",
   "execution_count": 11,
   "id": "312108d2-75e0-4587-8f21-b15d8a078050",
   "metadata": {},
   "outputs": [
    {
     "data": {
      "text/plain": [
       "77"
      ]
     },
     "execution_count": 11,
     "metadata": {},
     "output_type": "execute_result"
    }
   ],
   "source": [
    "len(test_question)"
   ]
  },
  {
   "cell_type": "code",
   "execution_count": 12,
   "id": "3e309385-99b0-47e5-bea3-0014bf34bc88",
   "metadata": {},
   "outputs": [],
   "source": [
    "test_questions = [test_question, test_question_impossible]"
   ]
  },
  {
   "cell_type": "code",
   "execution_count": 16,
   "id": "ba3b2ded-1dbb-42bc-9a30-b35b7abec9e2",
   "metadata": {},
   "outputs": [],
   "source": [
    "tokenizer.model_max_length = 2048"
   ]
  },
  {
   "cell_type": "code",
   "execution_count": 17,
   "id": "53040747-16ed-4e25-9527-cc258c4990ec",
   "metadata": {},
   "outputs": [
    {
     "name": "stdout",
     "output_type": "stream",
     "text": [
      "Epoch 1/20\n",
      "1/1 [==============================] - 16s 16s/step - loss: 0.2791\n",
      "Epoch 2/20\n",
      "1/1 [==============================] - 0s 39ms/step - loss: 0.3353\n",
      "Epoch 3/20\n",
      "1/1 [==============================] - 0s 39ms/step - loss: 0.4172\n",
      "Epoch 4/20\n",
      "1/1 [==============================] - 0s 39ms/step - loss: 0.1800\n",
      "Epoch 5/20\n",
      "1/1 [==============================] - 0s 40ms/step - loss: 0.1425\n",
      "Epoch 6/20\n",
      "1/1 [==============================] - 0s 38ms/step - loss: 0.1092\n",
      "Epoch 7/20\n",
      "1/1 [==============================] - 0s 40ms/step - loss: 0.1351\n",
      "Epoch 8/20\n",
      "1/1 [==============================] - 0s 38ms/step - loss: 0.0912\n",
      "Epoch 9/20\n",
      "1/1 [==============================] - 0s 40ms/step - loss: 0.0738\n",
      "Epoch 10/20\n",
      "1/1 [==============================] - 0s 39ms/step - loss: 0.1183\n",
      "Epoch 11/20\n",
      "1/1 [==============================] - 0s 38ms/step - loss: 0.0531\n",
      "Epoch 12/20\n",
      "1/1 [==============================] - 0s 39ms/step - loss: 0.0534\n",
      "Epoch 13/20\n",
      "1/1 [==============================] - 0s 37ms/step - loss: 0.0369\n",
      "Epoch 14/20\n",
      "1/1 [==============================] - 0s 37ms/step - loss: 0.0651\n",
      "Epoch 15/20\n",
      "1/1 [==============================] - 0s 38ms/step - loss: 0.2516\n",
      "Epoch 16/20\n",
      "1/1 [==============================] - 0s 37ms/step - loss: 0.0652\n",
      "Epoch 17/20\n",
      "1/1 [==============================] - 0s 37ms/step - loss: 0.0774\n",
      "Epoch 18/20\n",
      "1/1 [==============================] - 0s 40ms/step - loss: 0.1382\n",
      "Epoch 19/20\n",
      "1/1 [==============================] - 0s 37ms/step - loss: 0.0337\n",
      "Epoch 20/20\n",
      "1/1 [==============================] - 0s 37ms/step - loss: 0.0274\n"
     ]
    }
   ],
   "source": [
    "# Manually tokenizer the context twice this time to make the inputs equal shape\n",
    "inputs_tokens = tokenizer([test_context, test_context], max_length=1024, truncation=True, return_tensors=\"tf\")\n",
    "inputs = inputs_tokens.input_ids\n",
    "inputs_attention_mask = inputs_tokens.attention_mask\n",
    "\n",
    "labels_tokens = tokenizer(test_questions, return_tensors=\"tf\", max_length=40, padding=\"max_length\")\n",
    "labels = labels_tokens.input_ids\n",
    "# Test ignoring questions selectively by manually assigning a penalty to the attention mask of the unanswerable question\n",
    "labels_attention_mask_good = labels_tokens.attention_mask[0]\n",
    "labels_attention_mask_bad = labels_tokens.attention_mask[1]\n",
    "labels_attention_mask = tf.stack([labels_attention_mask_good, labels_attention_mask_bad], axis=0)\n",
    "\n",
    "train_data = {}\n",
    "train_data[\"input_ids\"] = tf.expand_dims(inputs, 0)\n",
    "train_data[\"attention_mask\"] = tf.expand_dims(inputs_attention_mask, 0)\n",
    "train_data[\"labels\"] = tf.expand_dims(labels, 0)\n",
    "train_data[\"decoder_attention_mask\"] = tf.expand_dims(labels_attention_mask, 0)\n",
    "dataset = tf.data.Dataset.from_tensor_slices(train_data)\n",
    "\n",
    "model.compile()\n",
    "\n",
    "history = model.fit(dataset, epochs=20)"
   ]
  },
  {
   "cell_type": "code",
   "execution_count": 18,
   "id": "c0c3b32d-651a-43d9-84e5-e96faf0e6f21",
   "metadata": {},
   "outputs": [
    {
     "name": "stderr",
     "output_type": "stream",
     "text": [
      "/home/rob/.pyenv/versions/3.10.6/envs/quizachu-env/lib/python3.10/site-packages/transformers/generation/tf_utils.py:838: UserWarning: Using the model-agnostic default `max_length` (=20) to control the generation length.  recommend setting `max_new_tokens` to control the maximum length of the generation.\n",
      "  warnings.warn(\n"
     ]
    },
    {
     "name": "stdout",
     "output_type": "stream",
     "text": [
      "What category of game is Legend of Zelda: Australia Twilight?\n",
      "What year was the Wii version of Legend of Zelda: Australia Twilight?\n",
      "What category of game is Legend of Zelda: Australia Twilight??\n",
      "What year is Legend of Zelda: Australia Twilight?\n",
      "\n"
     ]
    }
   ],
   "source": [
    "inputs = tokenizer(test_context, return_tensors=\"tf\",  max_length=694, truncation=True, padding=\"max_length\").input_ids\n",
    "outputs = model.generate(inputs, num_beams=5, num_return_sequences=5, do_sample=False)\n",
    "\n",
    "for i in range(5):\n",
    "    print(tokenizer.decode(outputs[i], skip_special_tokens=True))"
   ]
  },
  {
   "cell_type": "markdown",
   "id": "0c29a9e4-1485-4f6f-a0a6-f7a128eb6b49",
   "metadata": {},
   "source": [
    "## Train on more data"
   ]
  },
  {
   "cell_type": "code",
   "execution_count": 2,
   "id": "72c66f77-9ae9-4d32-9d63-cacdf388e020",
   "metadata": {},
   "outputs": [
    {
     "name": "stderr",
     "output_type": "stream",
     "text": [
      "2023-12-01 14:21:10.599107: E tensorflow/compiler/xla/stream_executor/cuda/cuda_driver.cc:268] failed call to cuInit: CUDA_ERROR_UNKNOWN: unknown error\n",
      "2023-12-01 14:21:10.599137: I tensorflow/compiler/xla/stream_executor/cuda/cuda_diagnostics.cc:168] retrieving CUDA diagnostic information for host: rob-laptop\n",
      "2023-12-01 14:21:10.599145: I tensorflow/compiler/xla/stream_executor/cuda/cuda_diagnostics.cc:175] hostname: rob-laptop\n",
      "2023-12-01 14:21:10.599218: I tensorflow/compiler/xla/stream_executor/cuda/cuda_diagnostics.cc:199] libcuda reported version is: 535.129.3\n",
      "2023-12-01 14:21:10.599253: I tensorflow/compiler/xla/stream_executor/cuda/cuda_diagnostics.cc:203] kernel reported version is: 535.129.3\n",
      "2023-12-01 14:21:10.599260: I tensorflow/compiler/xla/stream_executor/cuda/cuda_diagnostics.cc:309] kernel version seems to match DSO: 535.129.3\n",
      "/home/rob/.pyenv/versions/3.10.6/envs/quizachu-env/lib/python3.10/site-packages/keras/src/initializers/initializers.py:120: UserWarning: The initializer RandomNormal is unseeded and being called multiple times, which will return identical values each time (even if the initializer is unseeded). Please update your code to provide a seed to the initializer, or avoid using the same initializer instance more than once.\n",
      "  warnings.warn(\n",
      "All PyTorch model weights were used when initializing TFT5ForConditionalGeneration.\n",
      "\n",
      "All the weights of TFT5ForConditionalGeneration were initialized from the PyTorch model.\n",
      "If your task is similar to the task the model of the checkpoint was trained on, you can already use TFT5ForConditionalGeneration for predictions without further training.\n"
     ]
    },
    {
     "name": "stdout",
     "output_type": "stream",
     "text": [
      "653 40\n"
     ]
    }
   ],
   "source": [
    "tokenizer = AutoTokenizer.from_pretrained(\"google/flan-t5-small\")\n",
    "model = TFT5ForConditionalGeneration.from_pretrained(\"google/flan-t5-small\")\n",
    "contexts = train_set[\"context\"]\n",
    "questions = train_set[\"question\"]\n",
    "\n",
    "contexts_max_len = max([len(context.split()) for context in contexts])\n",
    "questions_max_len = max([len(question.split()) for question in questions])\n",
    "\n",
    "print(contexts_max_len, questions_max_len)"
   ]
  },
  {
   "cell_type": "code",
   "execution_count": 3,
   "id": "c6ad1e80-35b8-4ca8-8db6-7f82222d5358",
   "metadata": {},
   "outputs": [],
   "source": [
    "model.load_weights(\"/home/rob/checkpoint-2.h5\")"
   ]
  },
  {
   "cell_type": "code",
   "execution_count": 20,
   "id": "0a8ea182-858b-4cb5-8d0d-7639cb322ddd",
   "metadata": {},
   "outputs": [
    {
     "data": {
      "text/plain": [
       "741"
      ]
     },
     "execution_count": 20,
     "metadata": {},
     "output_type": "execute_result"
    }
   ],
   "source": [
    "len(pd.Series(contexts).unique())"
   ]
  },
  {
   "cell_type": "code",
   "execution_count": 21,
   "id": "e8c9c324-f7bb-4b85-9d9e-7ba641f37831",
   "metadata": {
    "scrolled": true
   },
   "outputs": [
    {
     "data": {
      "text/plain": [
       "['Beyoncé Giselle Knowles-Carter (/biːˈjɒnseɪ/ bee-YON-say) (born September 4, 1981) is an American singer, songwriter, record producer and actress. Born and raised in Houston, Texas, she performed in v',\n",
       " 'Following the disbandment of Destiny\\'s Child in June 2005, she released her second solo album, B\\'Day (2006), which contained hits \"Déjà Vu\", \"Irreplaceable\", and \"Beautiful Liar\". Beyoncé also venture',\n",
       " 'A self-described \"modern-day feminist\", Beyoncé creates songs that are often characterized by themes of love, relationships, and monogamy, as well as female sexuality and empowerment. On stage, her dy',\n",
       " 'Beyoncé Giselle Knowles was born in Houston, Texas, to Celestine Ann \"Tina\" Knowles (née Beyincé), a hairdresser and salon owner, and Mathew Knowles, a Xerox sales manager. Beyoncé\\'s name is a tribute',\n",
       " \"Beyoncé attended St. Mary's Elementary School in Fredericksburg, Texas, where she enrolled in dance classes. Her singing talent was discovered when dance instructor Darlette Johnson began humming a so\",\n",
       " \"At age eight, Beyoncé and childhood friend Kelly Rowland met LaTavia Roberson while in an audition for an all-girl entertainment group. They were placed into a group with three other girls as Girl's T\",\n",
       " 'The group changed their name to Destiny\\'s Child in 1996, based upon a passage in the Book of Isaiah. In 1997, Destiny\\'s Child released their major label debut song \"Killing Time\" on the soundtrack to ',\n",
       " \"LeToya Luckett and Roberson became unhappy with Mathew's managing of the band and eventually were replaced by Farrah Franklin and Michelle Williams. Beyoncé experienced depression following the split \",\n",
       " 'The remaining band members recorded \"Independent Women Part I\", which appeared on the soundtrack to the 2000 film, Charlie\\'s Angels. It became their best-charting single, topping the U.S. Billboard Ho',\n",
       " 'In July 2002, Beyoncé continued her acting career playing Foxxy Cleopatra alongside Mike Myers in the comedy film, Austin Powers in Goldmember, which spent its first weekend atop the US box office and',\n",
       " 'Beyoncé\\'s first solo recording was a feature on Jay Z\\'s \"\\'03 Bonnie & Clyde\" that was released in October 2002, peaking at number four on the U.S. Billboard Hot 100 chart. Her first solo album Dangero',\n",
       " 'In November 2003, she embarked on the Dangerously in Love Tour in Europe and later toured alongside Missy Elliott and Alicia Keys for the Verizon Ladies First Tour in North America. On February 1, 200',\n",
       " \"Beyoncé's second solo album B'Day was released on September 5, 2006, in the US, to coincide with her twenty-fifth birthday. It sold 541,000 copies in its first week and debuted atop the Billboard 200,\",\n",
       " 'Her first acting role of 2006 was in the comedy film The Pink Panther starring opposite Steve Martin, grossing $158.8 million at the box office worldwide. Her second film Dreamgirls, the film version ',\n",
       " \"On April 4, 2008, Beyoncé married Jay Z. She publicly revealed their marriage in a video montage at the listening party for her third studio album, I Am... Sasha Fierce, in Manhattan's Sony Club on Oc\",\n",
       " 'Beyoncé further expanded her acting career, starring as blues singer Etta James in the 2008 musical biopic, Cadillac Records. Her performance in the film received praise from critics, and she garnered',\n",
       " 'At the 52nd Annual Grammy Awards, Beyoncé received ten nominations, including Album of the Year for I Am... Sasha Fierce, Record of the Year for \"Halo\", and Song of the Year for \"Single Ladies (Put a ',\n",
       " 'Beyoncé announced a hiatus from her music career in January 2010, heeding her mother\\'s advice, \"to live life, to be inspired by things again\". During the break she and her father parted ways as busine',\n",
       " 'In 2011, documents obtained by WikiLeaks revealed that Beyoncé was one of many entertainers who performed for the family of Libyan ruler Muammar Gaddafi. Rolling Stone reported that the music industry',\n",
       " 'Her fourth studio album 4 was released on June 28, 2011 in the US. 4 sold 310,000 copies in its first week and debuted atop the Billboard 200 chart, giving Beyoncé her fourth consecutive number-one al',\n",
       " \"On January 7, 2012, Beyoncé gave birth to her first child, a daughter, Blue Ivy Carter, at Lenox Hill Hospital in New York. Five months later, she performed for four nights at Revel Atlantic City's Ov\",\n",
       " 'In January 2013, Destiny\\'s Child released Love Songs, a compilation album of the romance-themed songs from their previous albums and a newly recorded track, \"Nuclear\". Beyoncé performed the American n',\n",
       " 'Beyoncé embarked on The Mrs. Carter Show World Tour on April 15 in Belgrade, Serbia; the tour included 132 dates that ran through to March 2014. It became the most successful tour of her career and on',\n",
       " 'On December 13, 2013, Beyoncé unexpectedly released her eponymous fifth studio album on the iTunes Store without any prior announcement or promotion. The album debuted atop the Billboard 200 chart, gi',\n",
       " 'At the 57th Annual Grammy Awards in February 2015, Beyoncé was nominated for six awards, ultimately winning three: Best R&B Performance and Best R&B Song for \"Drunk in Love\", and Best Surround Sound A',\n",
       " 'On February 6, 2016, one day before her performance at the Super Bowl, Beyoncé released a new single exclusively on music streaming service Tidal called \"Formation\".',\n",
       " 'Beyoncé is believed to have first started a relationship with Jay Z after a collaboration on \"\\'03 Bonnie & Clyde\", which appeared on his seventh album The Blueprint 2: The Gift & The Curse (2002). Bey',\n",
       " 'In August, the couple attended the 2011 MTV Video Music Awards, at which Beyoncé performed \"Love on Top\" and started the performance saying \"Tonight I want you to stand up on your feet, I want you to ',\n",
       " 'On January 7, 2012, Beyoncé gave birth to a daughter, Blue Ivy Carter, at Lenox Hill Hospital in New York under heavy security. Two days later, Jay Z released \"Glory\", a song dedicated to their child,',\n",
       " 'Beyoncé and husband Jay Z are friends with President Barack Obama and First Lady Michelle Obama. She performed \"America the Beautiful\" at the 2009 presidential inauguration, as well as \"At Last\" durin',\n",
       " 'In an interview published by Vogue in April 2013, Beyoncé was asked if she considers herself a feminist, to which she said, \"that word can be very extreme... But I guess I am a modern-day feminist. I ',\n",
       " 'In 2015 Beyoncé signed an open letter which the ONE Campaign had been collecting signatures for; the letter was addressed to Angela Merkel and Nkosazana Dlamini-Zuma, urging them to focus on women as ',\n",
       " \"Following the death of Freddie Gray, Beyoncé and Jay-Z, among other notable figures, met with his family. After the imprisonment of protesters of Gray's death, Beyoncé and Jay-Z donated thousands of d\",\n",
       " \"Forbes magazine began reporting on Beyoncé's earnings in 2008, calculating that the $80 million earned between June 2007 to June 2008, for her music, tour, films and clothing line made her the world's\",\n",
       " 'Beyoncé\\'s vocal range spans four octaves. Jody Rosen highlights her tone and timbre as particularly distinctive, describing her voice as \"one of the most compelling instruments in popular music\". Whil',\n",
       " \"Beyoncé's music is generally R&B, but she also incorporates pop, soul and funk into her songs. 4 demonstrated Beyoncé's exploration of 90s-style R&B, as well as further use of soul and hip hop than co\",\n",
       " 'She has received co-writing credits for most of the songs recorded with Destiny\\'s Child and her solo efforts. Her early songs were personally driven and female-empowerment themed compositions like \"In',\n",
       " 'In 2001, she became the first African-American woman and second woman songwriter to win the Pop Songwriter of the Year award at the American Society of Composers, Authors, and Publishers Pop Music Awa',\n",
       " 'Beyoncé names Michael Jackson as her major musical influence. Aged five, Beyoncé attended her first ever concert where Jackson performed and she claims to have realised her purpose. When she presented',\n",
       " 'The feminism and female empowerment themes on Beyoncé\\'s second solo album B\\'Day were inspired by her role in Dreamgirls and by singer Josephine Baker. Beyoncé paid homage to Baker by performing \"Déjà ',\n",
       " 'Beyoncé has stated that she is personally inspired by US First Lady Michelle Obama, saying \"She proves you can do it all\" and she has described Oprah Winfrey as \"the definition of inspiration and a st',\n",
       " \"In 2006, Beyoncé introduced her all-female tour band Suga Mama (also the name of a song in B'Day) which includes bassists, drummers, guitarists, horn players, keyboardists and percussionists. Her back\",\n",
       " 'Beyoncé has received praise for her stage presence and voice during live performances. Jarett Wieselman of the New York Post placed her at number one on her list of the Five Best Singer/Dancers. Accor',\n",
       " 'Described as being \"sexy, seductive and provocative\" when performing on stage, Beyoncé has said that she originally created the alter ego \"Sasha Fierce\" to keep that stage persona separate from who sh',\n",
       " 'Beyoncé has been described as a having a wide-ranging sex appeal, with music journalist Touré writing that since the release of Dangerously in Love, she has \"become a crossover sex symbol\". Offstage B',\n",
       " 'In September 2010, Beyoncé made her runway modelling debut at Tom Ford\\'s Spring/Summer 2011 fashion show. She was named \"World\\'s Most Beautiful Woman\" by People and the \"Hottest Female Singer of All T',\n",
       " \"According to Italian fashion designer Roberto Cavalli, Beyoncé uses different fashion styles to work with her music while performing. Her mother co-wrote a book, published in 2002, titled Destiny's St\",\n",
       " 'The Bey Hive is the name given to Beyoncé\\'s fan base. Fans were previously titled \"The Beyontourage\", (a portmanteau of Beyoncé and entourage). The name Bey Hive derives from the word beehive, purpose',\n",
       " 'In 2006, the animal rights organization People for the Ethical Treatment of Animals (PETA), criticized Beyoncé for wearing and using fur in her clothing line House of Deréon. In 2011, she appeared on ',\n",
       " \"Beyoncé's lighter skin color and costuming has drawn criticism from some in the African-American community. Emmett Price, a professor of music at Northeastern University, wrote in 2007, that he thinks\",\n",
       " 'In The New Yorker music critic Jody Rosen described Beyoncé as \"the most important and compelling popular musician of the twenty-first century..... the result, the logical end point, of a century-plus',\n",
       " \"Beyoncé's work has influenced numerous artists including Adele, Ariana Grande, Lady Gaga, Bridgit Mendler, Rihanna, Kelly Rowland, Sam Smith, Meghan Trainor, Nicole Scherzinger, Rita Ora, Zendaya, Che\",\n",
       " 'Her debut single, \"Crazy in Love\" was named VH1\\'s \"Greatest Song of the 2000s\", NME\\'s \"Best Track of the 00s\" and \"Pop Song of the Century\", considered by Rolling Stone to be one of the 500 greatest s',\n",
       " \"Beyoncé has received numerous awards. As a solo artist she has sold over 15 million albums in the US, and over 118 million records worldwide (a further 60 million additionally with Destiny's Child), m\",\n",
       " \"Beyoncé has won 20 Grammy Awards, both as a solo artist and member of Destiny's Child, making her the second most honored female artist by the Grammys, behind Alison Krauss and the most nominated woma\",\n",
       " 'Beyoncé has worked with Pepsi since 2002, and in 2004 appeared in a Gladiator-themed commercial with Britney Spears, Pink, and Enrique Iglesias. In 2012, Beyoncé signed a $50 million deal to endorse P',\n",
       " 'Beyoncé has worked with Tommy Hilfiger for the fragrances True Star (singing a cover version of \"Wishing on a Star\") and True Star Gold; she also promoted Emporio Armani\\'s Diamonds fragrance in 2007. ',\n",
       " 'The release of a video-game Starpower: Beyoncé was cancelled after Beyoncé pulled out of a $100 million with GateFive who alleged the cancellation meant the sacking of 70 staff and millions of pounds ',\n",
       " 'In October 2014, it was announced that Beyoncé with her management company Parkwood Entertainment would be partnering with London-based fashion retailer Topshop, in a new 50/50 split subsidiary busine',\n",
       " 'On March 30, 2015, it was announced that Beyoncé is a co-owner, with various other music artists, in the music streaming service Tidal. The service specialises in lossless audio and high definition mu',\n",
       " \"Beyoncé and her mother introduced House of Deréon, a contemporary women's fashion line, in 2005. The concept is inspired by three generations of women in their family, the name paying tribute to Beyon\",\n",
       " 'In 2005, Beyoncé teamed up with House of Brands, a shoe company, to produce a range of footwear for House of Deréon. In January 2008, Starwave Mobile launched Beyoncé Fashion Diva, a \"high-style\" mobi',\n",
       " 'In October 2014, Beyoncé signed a deal to launch an activewear line of clothing with British fashion retailer Topshop. The 50-50 venture is called Parkwood Topshop Athletic Ltd and is scheduled to lau',\n",
       " 'After Hurricane Katrina in 2005, Beyoncé and Rowland founded the Survivor Foundation to provide transitional housing for victims in the Houston area, to which Beyoncé contributed an initial $250,000. ',\n",
       " 'Beyoncé participated in George Clooney and Wyclef Jean\\'s Hope for Haiti Now: A Global Benefit for Earthquake Relief telethon and was named the official face of the limited edition CFDA \"Fashion For Ha',\n",
       " 'In December, Beyoncé along with a variety of other celebrities teamed up and produced a video campaign for \"Demand A Plan\", a bipartisan effort by a group of 950 US mayors and others designed to influ',\n",
       " 'Frédéric François Chopin (/ˈʃoʊpæn/; French pronunciation: \\u200b[fʁe.de.ʁik fʁɑ̃.swa ʃɔ.pɛ̃]; 22 February or 1 March 1810 – 17 October 1849), born Fryderyk Franciszek Chopin,[n 1] was a Polish and French ',\n",
       " 'At the age of 21 he settled in Paris. Thereafter, during the last 18 years of his life, he gave only some 30 public performances, preferring the more intimate atmosphere of the salon. He supported him',\n",
       " \"All of Chopin's compositions include the piano. Most are for solo piano, though he also wrote two piano concertos, a few chamber pieces, and some songs to Polish lyrics. His keyboard style is highly i\",\n",
       " \"In his native Poland, in France, where he composed most of his works, and beyond, Chopin's music, his status as one of music's earliest superstars, his association (if only indirect) with political in\",\n",
       " 'Fryderyk Chopin was born in Żelazowa Wola, 46 kilometres (29 miles) west of Warsaw, in what was then the Duchy of Warsaw, a Polish state established by Napoleon. The parish baptismal record gives his ',\n",
       " \"Fryderyk's father, Nicolas Chopin, was a Frenchman from Lorraine who had emigrated to Poland in 1787 at the age of sixteen. Nicolas tutored children of the Polish aristocracy, and in 1806 married Just\",\n",
       " \"In October 1810, six months after Fryderyk's birth, the family moved to Warsaw, where his father acquired a post teaching French at the Warsaw Lyceum, then housed in the Saxon Palace. Fryderyk lived w\",\n",
       " 'Fryderyk may have had some piano instruction from his mother, but his first professional music tutor, from 1816 to 1821, was the Czech pianist Wojciech Żywny. His elder sister Ludwika also took lesson',\n",
       " \"In 1817 the Saxon Palace was requisitioned by Warsaw's Russian governor for military use, and the Warsaw Lyceum was reestablished in the Kazimierz Palace (today the rectorate of Warsaw University). Fr\",\n",
       " 'From September 1823 to 1826 Chopin attended the Warsaw Lyceum, where he received organ lessons from the Czech musician Wilhelm Würfel during his first year. In the autumn of 1826 he began a three-year',\n",
       " 'During 1824–28 Chopin spent his vacations away from Warsaw, at a number of locales.[n 4] In 1824 and 1825, at Szafarnia, he was a guest of Dominik Dziewanowski, the father of a schoolmate. Here for th',\n",
       " \"In 1827, soon after the death of Chopin's youngest sister Emilia, the family moved from the Warsaw University building, adjacent to the Kazimierz Palace, to lodgings just across the street from the un\",\n",
       " \"Four boarders at his parents' apartments became Chopin's intimates: Tytus Woyciechowski, Jan Nepomucen Białobłocki, Jan Matuszyński and Julian Fontana; the latter two would become part of his Paris mi\",\n",
       " 'In September 1828 Chopin, while still a student, visited Berlin with a family friend, zoologist Feliks Jarocki, enjoying operas directed by Gaspare Spontini and attending concerts by Carl Friedrich Ze',\n",
       " 'Back in Warsaw that year, Chopin heard Niccolò Paganini play the violin, and composed a set of variations, Souvenir de Paganini. It may have been this experience which encouraged him to commence writi',\n",
       " 'Chopin\\'s successes as a composer and performer opened the door to western Europe for him, and on 2 November 1830, he set out, in the words of Zdzisław Jachimecki, \"into the wide world, with no very cl',\n",
       " 'Chopin arrived in Paris in late September 1831; he would never return to Poland, thus becoming one of many expatriates of the Polish Great Emigration. In France he used the French versions of his give',\n",
       " 'In Paris, Chopin encountered artists and other distinguished figures, and found many opportunities to exercise his talents and achieve celebrity. During his years in Paris he was to become acquainted ',\n",
       " \"Two Polish friends in Paris were also to play important roles in Chopin's life there. His fellow student at the Warsaw Conservatory, Julian Fontana, had originally tried unsuccessfully to establish hi\",\n",
       " 'At the end of 1831, Chopin received the first major endorsement from an outstanding contemporary when Robert Schumann, reviewing the Op. 2 Variations in the Allgemeine musikalische Zeitung (his first ',\n",
       " 'Chopin seldom performed publicly in Paris. In later years he generally gave a single annual concert at the Salle Pleyel, a venue that seated three hundred. He played more frequently at salons, but pre',\n",
       " 'In the spring of 1834, Chopin attended the Lower Rhenish Music Festival in Aix-la-Chapelle with Hiller, and it was there that Chopin met Felix Mendelssohn. After the festival, the three visited Düssel',\n",
       " 'Although it is not known exactly when Chopin first met Liszt after arriving in Paris, on 12 December 1831 he mentioned in a letter to his friend Woyciechowski that \"I have met Rossini, Cherubini, Bail',\n",
       " \"The two became friends, and for many years lived in close proximity in Paris, Chopin at 38 Rue de la Chaussée-d'Antin, and Liszt at the Hôtel de France on the Rue Lafitte, a few blocks away. They perf\",\n",
       " 'Although the two displayed great respect and admiration for each other, their friendship was uneasy and had some qualities of a love-hate relationship. Harold C. Schonberg believes that Chopin display',\n",
       " \"In 1836, at a party hosted by Marie d'Agoult, Chopin met the French author George Sand (born [Amantine] Aurore [Lucile] Dupin). Short (under five feet, or 152 cm), dark, big-eyed and a cigar smoker, s\",\n",
       " 'In June 1837 Chopin visited London incognito in the company of the piano manufacturer Camille Pleyel where he played at a musical soirée at the house of English piano maker James Broadwood. On his ret',\n",
       " 'On 3 December, Chopin complained about his bad health and the incompetence of the doctors in Majorca: \"Three doctors have visited me ... The first said I was dead; the second said I was dying; and the',\n",
       " \"Although this period had been productive, the bad weather had such a detrimental effect on Chopin's health that Sand determined to leave the island. To avoid further customs duties, Sand sold the pian\",\n",
       " \"At the funeral of the tenor Adolphe Nourrit in Paris in 1839, Chopin made a rare appearance at the organ, playing a transcription of Franz Schubert's lied Die Gestirne. On 26 July 1840 Chopin and Sand\",\n",
       " 'During the summers at Nohant, particularly in the years 1839–43, Chopin found quiet, productive days during which he composed many works, including his Polonaise in A-flat major, Op. 53. Among the vis',\n",
       " 'From 1842 onwards, Chopin showed signs of serious illness. After a solo recital in Paris on 21 February 1842, he wrote to Grzymała: \"I have to lie in bed all day long, my mouth and tonsils are aching ',\n",
       " \"Chopin's relations with Sand were soured in 1846 by problems involving her daughter Solange and Solange's fiancé, the young fortune-hunting sculptor Auguste Clésinger. The composer frequently took Sol\",\n",
       " \"Chopin's output as a composer throughout this period declined in quantity year by year. Whereas in 1841 he had written a dozen works, only six were written in 1842 and six shorter pieces in 1843. In 1\",\n",
       " \"Chopin's public popularity as a virtuoso began to wane, as did the number of his pupils, and this, together with the political strife and instability of the time, caused him to struggle financially. I\",\n",
       " \"Chopin's life was covered in a BBC TV documentary Chopin – The Women Behind The Music (2010), and in a 2010 documentary realised by Angelo Bozzolini and Roberto Prosseda for Italian television.\",\n",
       " \"Chopin's life and his relations with George Sand have been fictionalized in numerous films. The 1945 biographical film A Song to Remember earned Cornel Wilde an Academy Award nomination as Best Actor \",\n",
       " \"Possibly the first venture into fictional treatments of Chopin's life was a fanciful operatic version of some of its events. Chopin was written by Giacomo Orefice and produced in Milan in 1901. All th\",\n",
       " 'Chopin has figured extensively in Polish literature, both in serious critical studies of his life and music and in fictional treatments. The earliest manifestation was probably an 1830 sonnet on Chopi',\n",
       " \"Numerous recordings of Chopin's works are available. On the occasion of the composer's bicentenary, the critics of The New York Times recommended performances by the following contemporary pianists (a\",\n",
       " 'The British Library notes that \"Chopin\\'s works have been recorded by all the great pianists of the recording era.\" The earliest recording was an 1895 performance by Paul Pabst of the Nocturne in E maj',\n",
       " \"Chopin's music remains very popular and is regularly performed, recorded and broadcast worldwide. The world's oldest monographic music competition, the International Chopin Piano Competition, founded \",\n",
       " \"Chopin's music was used in the 1909 ballet Chopiniana, choreographed by Michel Fokine and orchestrated by Alexander Glazunov. Sergei Diaghilev commissioned additional orchestrations—from Stravinsky, A\",\n",
       " 'In April, during the Revolution of 1848 in Paris, he left for London, where he performed at several concerts and at numerous receptions in great houses. This tour was suggested to him by his Scottish ',\n",
       " 'In London Chopin took lodgings at Dover Street, where the firm of Broadwood provided him with a grand piano. At his first engagement, on 15 May at Stafford House, the audience included Queen Victoria ',\n",
       " \"In late summer he was invited by Jane Stirling to visit Scotland, where he stayed at Calder House near Edinburgh and at Johnstone Castle in Renfrewshire, both owned by members of Stirling's family. Sh\",\n",
       " \"Chopin made his last public appearance on a concert platform at London's Guildhall on 16 November 1848, when, in a final patriotic gesture, he played for the benefit of Polish refugees. By this time h\",\n",
       " 'At the end of November, Chopin returned to Paris. He passed the winter in unremitting illness, but gave occasional lessons and was visited by friends, including Delacroix and Franchomme. Occasionally ',\n",
       " 'With his health further deteriorating, Chopin desired to have a family member with him. In June 1849 his sister Ludwika came to Paris with her husband and daughter, and in September, supported by a lo',\n",
       " 'Some of his friends provided music at his request; among them, Potocka sang and Franchomme played the cello. Chopin requested that his body be opened after death (for fear of being buried alive) and h',\n",
       " \"Chopin's disease and the cause of his death have since been a matter of discussion. His death certificate gave the cause as tuberculosis, and his physician, Jean Cruveilhier, was then the leading Fren\",\n",
       " 'The funeral, held at the Church of the Madeleine in Paris, was delayed almost two weeks, until 30 October. Entrance was restricted to ticket holders as many people were expected to attend. Over 3,000 ',\n",
       " \"Mozart's Requiem was sung at the funeral; the soloists were the soprano Jeanne-Anais Castellan, the mezzo-soprano Pauline Viardot, the tenor Alexis Dupont, and the bass Luigi Lablache; Chopin's Prelud\",\n",
       " \"Chopin's tombstone, featuring the muse of music, Euterpe, weeping over a broken lyre, was designed and sculpted by Clésinger. The expenses of the funeral and monument, amounting to 5,000 francs, were \",\n",
       " 'Over 230 works of Chopin survive; some compositions from early childhood have been lost. All his known works involve the piano, and only a few range beyond solo piano music, as either piano concertos,',\n",
       " \"Chopin was educated in the tradition of Beethoven, Haydn, Mozart and Clementi; he used Clementi's piano method with his own students. He was also influenced by Hummel's development of virtuoso, yet Mo\",\n",
       " 'Chopin took the new salon genre of the nocturne, invented by the Irish composer John Field, to a deeper level of sophistication. He was the first to write ballades and scherzi as individual concert pi',\n",
       " \"Chopin also endowed popular dance forms with a greater range of melody and expression. Chopin's mazurkas, while originating in the traditional Polish dance (the mazurek), differed from the traditional\",\n",
       " \"Some of Chopin's well-known pieces have acquired descriptive titles, such as the Revolutionary Étude (Op. 10, No. 12), and the Minute Waltz (Op. 64, No. 1). However, with the exception of his Funeral \",\n",
       " 'The last opus number that Chopin himself used was 65, allocated to the Cello Sonata in G minor. He expressed a deathbed wish that all his unpublished manuscripts be destroyed. At the request of the co',\n",
       " \"Works published since 1857 have received alternative catalogue designations instead of opus numbers. The present standard musicological reference for Chopin's works is the Kobylańska Catalogue (usuall\",\n",
       " \"Chopin's original publishers included Maurice Schlesinger and Camille Pleyel. His works soon began to appear in popular 19th-century piano anthologies. The first collected edition was by Breitkopf & H\",\n",
       " 'Improvisation stands at the centre of Chopin\\'s creative processes. However, this does not imply impulsive rambling: Nicholas Temperley writes that \"improvisation is designed for an audience, and its s',\n",
       " 'J. Barrie Jones suggests that \"amongst the works that Chopin intended for concert use, the four ballades and four scherzos stand supreme\", and adds that \"the Barcarolle Op. 60 stands apart as an examp',\n",
       " \"Chopin's mazurkas and waltzes are all in straightforward ternary or episodic form, sometimes with a coda. The mazurkas often show more folk features than many of his other works, sometimes including m\",\n",
       " \"Chopin's polonaises show a marked advance on those of his Polish predecessors in the form (who included his teachers Zywny and Elsner). As with the traditional polonaise, Chopin's works are in triple \",\n",
       " 'The 21 nocturnes are more structured, and of greater emotional depth, than those of Field (whom Chopin met in 1833). Many of the Chopin nocturnes have middle sections marked by agitated expression (an',\n",
       " \"Chopin's études are largely in straightforward ternary form. He used them to teach his own technique of piano playing—for instance playing double thirds (Op. 25, No. 6), playing in octaves (Op. 25, No\",\n",
       " 'The preludes, many of which are very brief (some consisting of simple statements and developments of a single theme or figure), were described by Schumann as \"the beginnings of studies\". Inspired by J',\n",
       " 'The two mature piano sonatas (No. 2, Op. 35, written in 1839 and No. 3, Op. 58, written in 1844) are in four movements. In Op. 35, Chopin was able to combine within a formal large musical structure ma',\n",
       " 'Chopin\\'s harmonic innovations may have arisen partly from his keyboard improvisation technique. Temperley says that in his works \"novel harmonic effects frequently result from the combination of ordin',\n",
       " 'In 1841, Léon Escudier wrote of a recital given by Chopin that year, \"One may say that Chopin is the creator of a school of piano and a school of composition. In truth, nothing equals the lightness, t',\n",
       " 'Polish composers of the following generation included virtuosi such as Moritz Moszkowski, but, in the opinion of J. Barrie Jones, his \"one worthy successor\" among his compatriots was Karol Szymanowski',\n",
       " 'Jonathan Bellman writes that modern concert performance style—set in the \"conservatory\" tradition of late 19th- and 20th-century music schools, and suitable for large auditoria or recordings—militates',\n",
       " 'Chopin\\'s music is frequently played with rubato, \"the practice in performance of disregarding strict time, \\'robbing\\' some note-values for expressive effect\". There are differing opinions as to how muc',\n",
       " 'Friederike Müller, a pupil of Chopin, wrote: \"[His] playing was always noble and beautiful; his tones sang, whether in full forte or softest piano. He took infinite pains to teach his pupils this lega',\n",
       " \"With his mazurkas and polonaises, Chopin has been credited with introducing to music a new sense of nationalism. Schumann, in his 1836 review of the piano concertos, highlighted the composer's strong \",\n",
       " 'Some modern commentators have argued against exaggerating Chopin\\'s primacy as a \"nationalist\" or \"patriotic\" composer. George Golos refers to earlier \"nationalist\" composers in Central Europe, includi',\n",
       " 'A reconciliation of these views is suggested by William Atwood: \"Undoubtedly [Chopin\\'s] use of traditional musical forms like the polonaise and mazurka roused nationalistic sentiments and a sense of c',\n",
       " 'Jones comments that \"Chopin\\'s unique position as a composer, despite the fact that virtually everything he wrote was for the piano, has rarely been questioned.\" He also notes that Chopin was fortunate',\n",
       " \"Chopin's qualities as a pianist and composer were recognized by many of his fellow musicians. Schumann named a piece for him in his suite Carnaval, and Chopin later dedicated his Ballade No. 2 in F ma\",\n",
       " \"Two of Chopin's long-standing pupils, Karol Mikuli (1821–1897) and Georges Mathias, were themselves piano teachers and passed on details of his playing to their own students, some of whom (such as Rao\",\n",
       " 'The exact nature of relations between Tibet and the Ming dynasty of China (1368–1644) is unclear. Analysis of the relationship is further complicated by modern political conflicts and the application ',\n",
       " 'Some scholars note that Tibetan leaders during the Ming frequently engaged in civil war and conducted their own foreign diplomacy with neighboring states such as Nepal. Some scholars underscore the co',\n",
       " 'The Ming initiated sporadic armed intervention in Tibet during the 14th century, but did not garrison permanent troops there. At times the Tibetans also used armed resistance against Ming forays. The ',\n",
       " \"Tibet was once a strong power contemporaneous with Tang China (618–907). Until the Tibetan Empire's collapse in the 9th century, it was the Tang's major rival in dominating Inner Asia. The Yarlung rul\",\n",
       " 'During the Five Dynasties and Ten Kingdoms period of China (907–960), while the fractured political realm of China saw no threat in a Tibet which was in just as much political disarray, there was litt',\n",
       " 'In 1207, the Mongol ruler Genghis Khan (r. 1206–1227) conquered and subjugated the ethnic Tangut state of the Western Xia (1038–1227). In the same year, he established diplomatic relations with Tibet ',\n",
       " 'The Mongol prince Godan, a grandson of Genghis Khan, raided as far as Lhasa. During his attack in 1240, Prince Godan summoned Sakya Pandita (1182–1251), leader of the Sakya school of Tibetan Buddhism,',\n",
       " 'Starting in 1236, the Mongol prince Kublai, who later ruled as Khagan from 1260–1294, was granted a large appanage in North China by his superior, Ögedei Khan. Karma Pakshi, 2nd Karmapa Lama (1203–128',\n",
       " 'Kublai Khan did not conquer the Song dynasty in South China until 1279, so Tibet was a component of the early Mongol Empire before it was combined into one of its descendant empires with the whole of ',\n",
       " 'In 1358, the Sakya viceregal regime installed by the Mongols in Tibet was overthrown in a rebellion by the Phagmodru myriarch Tai Situ Changchub Gyaltsen (1302–1364). The Mongol Yuan court was forced ',\n",
       " 'In 1368, a Han Chinese revolt known as the Red Turban Rebellion toppled the Mongol Yuan dynasty in China. Zhu Yuanzhang then established the Ming dynasty, ruling as the Hongwu Emperor (r. 1368–1398). ',\n",
       " 'As evident in his imperial edicts, the Hongwu Emperor was well aware of the Buddhist link between Tibet and China and wanted to foster it. Rolpe Dorje, 4th Karmapa Lama (1340–1383) rejected the Hongwu',\n",
       " 'However, the early Ming government enacted a law, later rescinded, which forbade Han Chinese to learn the tenets of Tibetan Buddhism. There is little detailed evidence of Chinese—especially lay Chines',\n",
       " 'According to the official Twenty-Four Histories, the History of Ming compiled in 1739 by the subsequent Qing dynasty (1644–1912), the Ming dynasty established the \"É-Lì-Sī Army-Civilian Marshal Office',\n",
       " 'The Ming court appointed three Princes of Dharma (法王) and five Princes (王), and granted many other titles, such as Grand State Tutors (大國師) and State Tutors (國師), to the important schools of Tibetan B',\n",
       " 'The late Turrell V. Wylie, a former professor of the University of Washington, and Li Tieh-tseng argue that the reliability of the heavily censored History of Ming as a credible source on Sino-Tibetan',\n",
       " 'Historians disagree on what the relationship was between the Ming court and Tibet and whether or not Ming China had sovereignty over Tibet. Van Praag writes that Chinese court historians viewed Tibet ',\n",
       " 'Wang and Nyima argue that the Ming emperor sent edicts to Tibet twice in the second year of the Ming dynasty, and demonstrated that he viewed Tibet as a significant region to pacify by urging various ',\n",
       " \"Journalist and author Thomas Laird, in his book The Story of Tibet: Conversations with the Dalai Lama, writes that Wang and Nyima present the government viewpoint of the People's Republic of China in \",\n",
       " 'The Columbia Encyclopedia distinguishes between the Yuan dynasty and the other Mongol Empire khanates of Ilkhanate, Chagatai Khanate and the Golden Horde. It describes the Yuan dynasty as \"A Mongol dy',\n",
       " 'Nevertheless, the ethno-geographic caste hierarchy favoring the Mongols and other ethnicities were accorded higher status than the Han Chinese majority. Although Han Chinese who were recruited as advi',\n",
       " \"The official position of the Ministry of Foreign Affairs of the People's Republic of China is that the Ming implemented a policy of managing Tibet according to conventions and customs, granting titles\",\n",
       " 'Chen Qingying, Professor of History and Director of the History Studies Institute under the China Tibetology Research Center in Beijing, writes that the Ming court conferred new official positions on ',\n",
       " 'According to Tibetologist John Powers, Tibetan sources counter this narrative of titles granted by the Chinese to Tibetans with various titles which the Tibetans gave to the Chinese emperors and their',\n",
       " 'Hans Bielenstein writes that as far back as the Han dynasty (202 BCE–220 CE), the Han Chinese government \"maintained the fiction\" that the foreign officials administering the various \"Dependent States',\n",
       " 'Wang and Nyima state that after the official title \"Education Minister\" was granted to Tai Situ Changchub Gyaltsen (1302–1364) by the Yuan court, this title appeared frequently with his name in variou',\n",
       " \"However, Lok-Ham Chan, a professor of history at the University of Washington, writes that Changchub Gyaltsen's aims were to recreate the old Tibetan Kingdom that existed during the Chinese Tang dynas\",\n",
       " 'According to Chen, the Ming officer of Hezhou (modern day Linxia) informed the Hongwu Emperor that the general situation in Dbus and Gtsang \"was under control,\" and so he suggested to the emperor that',\n",
       " 'Dreyfus writes that after the Phagmodrupa lost its centralizing power over Tibet in 1434, several attempts by other families to establish hegemonies failed over the next two centuries until 1642 with ',\n",
       " 'The Ming dynasty granted titles to lamas of schools such as the Karmapa Kargyu, but the latter had previously declined Mongol invitations to receive titles. When the Ming Yongle Emperor invited Je Tso',\n",
       " 'A. Tom Grunfeld says that Tsongkhapa claimed ill health in his refusal to appear at the Ming court, while Rossabi adds that Tsongkhapa cited the \"length and arduousness of the journey\" to China as ano',\n",
       " 'Dawa Norbu argues that modern Chinese Communist historians tend to be in favor of the view that the Ming simply reappointed old Yuan dynasty officials in Tibet and perpetuated their rule of Tibet in t',\n",
       " 'Laird writes that the Ming appointed titles to eastern Tibetan princes, and that \"these alliances with eastern Tibetan principalities are the evidence China now produces for its assertion that the Min',\n",
       " 'Shih-Shan Henry Tsai writes that the Yongle Emperor sent his eunuch Yang Sanbao into Tibet in 1413 to gain the allegiance of various Tibetan princes, while the Yongle Emperor paid a small fortune in r',\n",
       " 'Even though the Gelug exchanged gifts with and sent missions to the Ming court up until the 1430s, the Gelug was not mentioned in the Mingshi or the Mingshi Lu. On this, historian Li Tieh-tseng says o',\n",
       " 'Wylie asserts that this type of censorship of the History of Ming distorts the true picture of the history of Sino-Tibetan relations, while the Ming court granted titles to various lamas regardless of',\n",
       " 'Helmut Hoffman states that the Ming upheld the facade of rule over Tibet through periodic missions of \"tribute emissaries\" to the Ming court and by granting nominal titles to ruling lamas, but did not',\n",
       " 'In his usurpation of the throne from the Jianwen Emperor (r. 1398–1402), the Yongle Emperor was aided by the Buddhist monk Yao Guangxiao, and like his father, the Hongwu Emperor, the Yongle Emperor wa',\n",
       " 'In order to seek out the Karmapa, the Yongle Emperor dispatched his eunuch Hou Xian and the Buddhist monk Zhi Guang (d. 1435) to Tibet. Traveling to Lhasa either through Qinghai or via the Silk Road t',\n",
       " 'During his travels beginning in 1403, Deshin Shekpa was induced by further exhortations by the Ming court to visit Nanjing by April 10, 1407. Norbu writes that the Yongle Emperor, following the tradit',\n",
       " \"Throughout the following month, the Yongle Emperor and his court showered the Karmapa with presents. At Linggu Temple in Nanjing, he presided over the religious ceremonies for the Yongle Emperor's dec\",\n",
       " 'Tibetan sources say Deshin Shekpa also persuaded the Yongle Emperor not to impose his military might on Tibet as the Mongols had previously done. Thinley writes that before the Karmapa returned to Tib',\n",
       " 'Marsha Weidner states that Deshin Shekpa\\'s miracles \"testified to the power of both the emperor and his guru and served as a legitimizing tool for the emperor\\'s problematic succession to the throne,\" ',\n",
       " \"With the example of the Ming court's relationship with the fifth Karmapa and other Tibetan leaders, Norbu states that Chinese Communist historians have failed to realize the significance of the religi\",\n",
       " \"The Information Office of the State Council of the PRC preserves an edict of the Zhengtong Emperor (r. 1435–1449) addressed to the Karmapa in 1445, written after the latter's agent had brought holy re\",\n",
       " 'Despite this glowing message by the Emperor, Chan writes that a year later in 1446, the Ming court cut off all relations with the Karmapa hierarchs. Until then, the court was unaware that Deshin Shekp',\n",
       " 'Tsai writes that shortly after the visit by Deshin Shekpa, the Yongle Emperor ordered the construction of a road and of trading posts in the upper reaches of the Yangzi and Mekong Rivers in order to f',\n",
       " 'Van Praag states that the Ming court established diplomatic delegations with Tibet merely to secure urgently needed horses. Wang and Nyima argue that these were not diplomatic delegations at all, that',\n",
       " 'While the Ming dynasty traded horses with Tibet, it upheld a policy of outlawing border markets in the north, which Laird sees as an effort to punish the Mongols for their raids and to \"drive them fro',\n",
       " 'Patricia Ebrey writes that Tibet, like Joseon Korea and other neighboring states to the Ming, settled for its tributary status while there were no troops or governors of Ming China stationed in its te',\n",
       " 'Discussions of strategy in the mid Ming dynasty focused primarily on recovery of the Ordos region, which the Mongols used as a rallying base to stage raids into Ming China. Norbu states that the Ming ',\n",
       " 'Historians Luciano Petech and Sato Hisashi argue that the Ming upheld a \"divide-and-rule\" policy towards a weak and politically fragmented Tibet after the Sakya regime had fallen. Chan writes that thi',\n",
       " 'The Association for Asian Studies states that there is no known written evidence to suggest that later leaders of the Gelug—Gendün Drup (1391–1474) and Gendün Gyatso (1475–1571)—had any contacts with ',\n",
       " 'The Zhengde Emperor (r. 1505–1521), who enjoyed the company of lamas at court despite protests from the censorate, had heard tales of a \"living Buddha\" which he desired to host at the Ming capital; th',\n",
       " 'Elliot Sperling, a specialist of Indian studies and the director of the Tibetan Studies program at Indiana University’s Department of Central Eurasia Studies, writes that \"the idea that Tibet became p',\n",
       " 'Josef Kolmaš, a sinologist, Tibetologist, and Professor of Oriental Studies at the Academy of Sciences of the Czech Republic, writes that it was during the Qing dynasty \"that developments took place o',\n",
       " 'P. Christiaan Klieger, an anthropologist and scholar of the California Academy of Sciences in San Francisco, writes that the vice royalty of the Sakya regime installed by the Mongols established a pat',\n",
       " \"China Daily, a CCP-controlled news organization since 1981, states in a 2008 article that although there were dynastic changes after Tibet was incorporated into the territory of Yuan dynasty's China i\",\n",
       " 'During the reign of the Jiajing Emperor (r. 1521–1567), the native Chinese ideology of Daoism was fully sponsored at the Ming court, while Tibetan Vajrayana and even Chinese Buddhism were ignored or s',\n",
       " 'With the death of Zhengde and ascension of Jiajing, the politics at court shifted in favor of the Neo-Confucian establishment which not only rejected the Portuguese embassy of Fernão Pires de Andrade ',\n",
       " 'Meanwhile, the Tumed Mongols began moving into the Kokonor region (modern Qinghai), raiding the Ming Chinese frontier and even as far as the suburbs of Beijing under Altan Khan (1507–1582). Klieger wr',\n",
       " 'Laird writes that Altan Khan abolished the native Mongol practices of shamanism and blood sacrifice, while the Mongol princes and subjects were coerced by Altan to convert to Gelug Buddhism—or face ex',\n",
       " 'Rawski writes that Altan Khan\\'s conversion to the Gelug \"can be interpreted as an attempt to expand his authority in his conflict with his nominal superior, Tümen Khan.\" To further cement the Mongol-T',\n",
       " 'Sonam Gyatso, after being granted the grandiose title by Altan Khan, departed for Tibet. Before he left, he sent a letter and gifts to the Ming Chinese official Zhang Juzheng (1525–1582), which arrive',\n",
       " 'Of the third Dalai Lama, China Daily states that the \"Ming dynasty showed him special favor by allowing him to pay tribute.\" China Daily then says that Sonam Gyatso was granted the title Dorjichang or',\n",
       " 'Chen states that the fourth Dalai Lama Yonten Gyatso was granted the title \"Master of Vajradhara\" and an official seal by the Wanli Emperor in 1616. This was noted in the Biography of the Fourth Dalai',\n",
       " 'Kolmaš writes that, as the Mongol presence in Tibet increased, culminating in the conquest of Tibet by a Mongol leader in 1642, the Ming emperors \"viewed with apparent unconcern these developments in ',\n",
       " 'In 1565, the powerful Rinbung princes were overthrown by one of their own ministers, Karma Tseten who styled himself as the Tsangpa, \"the one of Tsang\", and established his base of power at Shigatse. ',\n",
       " 'When an ally of the Ü-Tsang ruler threatened destruction of the Gelugpas again, the fifth Dalai Lama Lozang Gyatso pleaded for help from the Mongol prince Güshi Khan (1582–1655), leader of the Khoshut',\n",
       " \"Soon after the victory in Ü-Tsang, Güshi Khan organized a welcoming ceremony for Lozang Gyatso once he arrived a day's ride from Shigatse, presenting his conquest of Tibet as a gift to the Dalai Lama.\",\n",
       " 'Meanwhile, the Chinese Ming dynasty fell to the rebellion of Li Zicheng (1606–1645) in 1644, yet his short-lived Shun dynasty was crushed by the Manchu invasion and the Han Chinese general Wu Sangui (',\n",
       " 'When the Dzungar Mongols attempted to spread their territory from what is now Xinjiang into Tibet, the Kangxi Emperor (r. 1661–1722) responded to Tibetan pleas for aid with his own expedition to Tibet',\n",
       " 'The iPod is a line of portable media players and multi-purpose pocket computers designed and marketed by Apple Inc. The first line was released on October 23, 2001, about 8½ months after iTunes (Macin',\n",
       " 'Like other digital music players, iPods can serve as external data storage devices. Storage capacity varies by model, ranging from 2 GB for the iPod Shuffle to 128 GB for the iPod Touch (previously 16',\n",
       " \"Apple's iTunes software (and other alternative software) can be used to transfer music, photos, videos, games, contact information, e-mail settings, Web bookmarks, and calendars, to the devices suppor\",\n",
       " 'Before the release of iOS 5, the iPod branding was used for the media player included with the iPhone and iPad, a combination of the Music and Videos apps on the iPod Touch. As of iOS 5, separate apps',\n",
       " 'In mid-2015, a new model of the iPod Touch was announced by Apple, and was officially released on the Apple store on July 15, 2015. The sixth generation iPod Touch includes a wide variety of spec impr',\n",
       " 'Though the iPod was released in 2001, its price and Mac-only compatibility caused sales to be relatively slow until 2004. The iPod line came from Apple\\'s \"digital hub\" category, when the company began',\n",
       " \"Apple did not develop the iPod software entirely in-house, instead using PortalPlayer's reference platform based on two ARM cores. The platform had rudimentary software running on a commercial microke\",\n",
       " 'In 2006 Apple presented a special edition for iPod 5G of Irish rock band U2. Like its predecessor, this iPod has engraved the signatures of the four members of the band on its back, but this one was t',\n",
       " 'In September 2007, during a lawsuit with patent holding company Burst.com, Apple drew attention to a patent for a similar device that was developed in 1979. Kane Kramer applied for a UK patent for his',\n",
       " 'The name iPod was proposed by Vinnie Chieco, a freelance copywriter, who (with others) was called by Apple to figure out how to introduce the new player to the public. After Chieco saw a prototype, he',\n",
       " 'In mid-2015, several new color schemes for all of the current iPod models were spotted in the latest version of iTunes, 12.2. Belgian website Belgium iPhone originally found the images when plugging i',\n",
       " 'The third-generation iPod had a weak bass response, as shown in audio tests. The combination of the undersized DC-blocking capacitors and the typical low-impedance of most consumer headphones form a h',\n",
       " 'For all iPods released in 2006 and earlier, some equalizer (EQ) sound settings would distort the bass sound far too easily, even on undemanding songs. This would happen for EQ settings like R&B, Rock,',\n",
       " 'From the fifth-generation iPod on, Apple introduced a user-configurable volume limit in response to concerns about hearing loss. Users report that in the sixth-generation iPod, the maximum volume outp',\n",
       " 'Originally, a FireWire connection to the host computer was used to update songs or recharge the battery. The battery could also be charged with a power adapter that was included with the first four ge',\n",
       " 'The third generation began including a 30-pin dock connector, allowing for FireWire or USB connectivity. This provided better compatibility with non-Apple machines, as most of them did not have FireWi',\n",
       " \"The dock connector also allowed the iPod to connect to accessories, which often supplement the iPod's music, video, and photo playback. Apple sells a few accessories, such as the now-discontinued iPod\",\n",
       " 'Apple introduced a new 8-pin dock connector, named Lightning, on September 12, 2012 with their announcement of the iPhone 5, the fifth generation iPod Touch, and the seventh generation iPod Nano, whic',\n",
       " 'Many accessories have been made for the iPod line. A large number are made by third party companies, although many, such as the iPod Hi-Fi, are made by Apple. Some accessories add extra features that ',\n",
       " 'BMW released the first iPod automobile interface, allowing drivers of newer BMW vehicles to control an iPod using either the built-in steering wheel controls or the radio head-unit buttons. Apple anno',\n",
       " 'Some independent stereo manufacturers including JVC, Pioneer, Kenwood, Alpine, Sony, and Harman Kardon also have iPod-specific integration solutions. Alternative connection methods include adapter kit',\n",
       " 'Beginning in mid-2007, four major airlines, United, Continental, Delta, and Emirates, reached agreements to install iPod seat connections. The free service will allow passengers to power and charge an',\n",
       " 'The iPod line can play several audio file formats including MP3, AAC/M4A, Protected AAC, AIFF, WAV, Audible audiobook, and Apple Lossless. The iPod photo introduced the ability to display JPEG, BMP, G',\n",
       " 'During installation, an iPod is associated with one host computer. Each time an iPod connects to its host computer, iTunes can synchronize entire music libraries or music playlists either automaticall',\n",
       " 'iPods with color displays use anti-aliased graphics and text, with sliding animations. All iPods (except the 3rd-generation iPod Shuffle, the 6th & 7th generation iPod Nano, and iPod Touch) have five ',\n",
       " 'The iTunes Store (introduced April 29, 2003) is an online media store run by Apple and accessed through iTunes. The store became the market leader soon after its launch and Apple announced the sale of',\n",
       " 'At the time the store was introduced, purchased audio files used the AAC format with added encryption, based on the FairPlay DRM system. Up to five authorized computers and an unlimited number of iPod',\n",
       " \"iPods cannot play music files from competing music stores that use rival-DRM technologies like Microsoft's protected WMA or RealNetworks' Helix DRM. Example stores include Napster and MSN Music. RealN\",\n",
       " \"Universal Music Group decided not to renew their contract with the iTunes Store on July 3, 2007. Universal will now supply iTunes in an 'at will' capacity.\",\n",
       " 'Apple debuted the iTunes Wi-Fi Music Store on September 5, 2007, in its Media Event entitled \"The Beat Goes On...\". This service allows users to access the Music Store from either an iPhone or an iPod',\n",
       " \"Video games are playable on various versions of iPods. The original iPod had the game Brick (originally invented by Apple's co-founder Steve Wozniak) included as an easter egg hidden feature; later fi\",\n",
       " 'In September 2006, the iTunes Store began to offer additional games for purchase with the launch of iTunes 7, compatible with the fifth generation iPod with iPod software 1.2 or later. Those games wer',\n",
       " \"With third parties like Namco, Square Enix, Electronic Arts, Sega, and Hudson Soft all making games for the iPod, Apple's MP3 player has taken steps towards entering the video game handheld console ma\",\n",
       " 'The games are in the form of .ipg files, which are actually .zip archives in disguise[citation needed]. When unzipped, they reveal executable files along with common audio and image files, leading to ',\n",
       " 'Unlike many other MP3 players, simply copying audio or video files to the drive with a typical file management application will not allow an iPod to properly access them. The user must use software th',\n",
       " 'iTunes 7 and above can transfer purchased media of the iTunes Store from an iPod to a computer, provided that computer containing the DRM protected media is authorized to play it.',\n",
       " 'Media files are stored on an iPod in a hidden folder, along with a proprietary database file. The hidden content can be accessed on the host operating system by enabling hidden files to be shown. The ',\n",
       " 'In 2005, Apple faced two lawsuits claiming patent infringement by the iPod line and its associated technologies: Advanced Audio Devices claimed the iPod line breached its patent on a \"music jukebox\", ',\n",
       " 'Apple\\'s application to the United States Patent and Trademark Office for a patent on \"rotational user inputs\", as used on the iPod interface, received a third \"non-final rejection\" (NFR) in August 200',\n",
       " \"On August 24, 2006, Apple and Creative announced a broad settlement to end their legal disputes. Apple will pay Creative US$100 million for a paid-up license, to use Creative's awarded patent in all A\",\n",
       " 'Since October 2004, the iPod line has dominated digital music player sales in the United States, with over 90% of the market for hard drive-based players and over 70% of the market for all types of pl',\n",
       " 'On January 8, 2004, Hewlett-Packard (HP) announced that they would sell HP-branded iPods under a license agreement from Apple. Several new retail channels were used—including Wal-Mart—and these iPods ',\n",
       " 'On April 9, 2007, it was announced that Apple had sold its one-hundred millionth iPod, making it the biggest selling digital music player of all time. In April 2007, Apple reported second quarter reve',\n",
       " \"On October 22, 2007, Apple reported quarterly revenue of US$6.22 billion, of which 30.69% came from Apple notebook sales, 19.22% from desktop sales and 26% from iPod sales. Apple's 2007 year revenue i\",\n",
       " \"On January 22, 2008, Apple reported the best quarter revenue and earnings in Apple's history so far. Apple posted record revenue of US$9.6 billion and record net quarterly profit of US$1.58 billion. 4\",\n",
       " 'On October 21, 2008, Apple reported that only 14.21% of total revenue for fiscal quarter 4 of year 2008 came from iPods. At the September 9, 2009 keynote presentation at the Apple Event, Phil Schiller',\n",
       " 'iPods have won several awards ranging from engineering excellence,[not in citation given] to most innovative audio product, to fourth best computer product of 2006. iPods often receive favorable revie',\n",
       " 'Besides earning a reputation as a respected entertainment device, the iPod has also been accepted as a business device. Government departments, major institutions and international organisations have ',\n",
       " 'iPods have also gained popularity for use in education. Apple offers more information on educational uses for iPods on their website, including a collection of lesson plans. There has also been academ',\n",
       " \"The iPod has also been credited with accelerating shifts within the music industry. The iPod's popularization of digital music storage allows users to abandon listening to entire albums and instead be\",\n",
       " 'The advertised battery life on most models is different from the real-world achievable life. For example, the fifth generation 30 GB iPod is advertised as having up to 14 hours of music playback. An M',\n",
       " 'iPod batteries are not designed to be removed or replaced by the user, although some users have been able to open the case themselves, usually following instructions from third-party vendors of iPod r',\n",
       " 'Apple announced a battery replacement program on November 14, 2003, a week before a high publicity stunt and website by the Neistat Brothers. The initial cost was US$99, and it was lowered to US$59 in',\n",
       " 'The first generation iPod Nano may overheat and pose a health and safety risk. Affected iPod Nanos were sold between September 2005 and December 2006. This is due to a flawed battery used by Apple fro',\n",
       " 'iPods have been criticized for alleged short life-span and fragile hard drives. A 2005 survey conducted on the MacInTouch website found that the iPod line had an average failure rate of 13.7% (althoug',\n",
       " 'On June 11, 2006, the British tabloid The Mail on Sunday reported that iPods are mainly manufactured by workers who earn no more than US$50 per month and work 15-hour shifts. Apple investigated the ca',\n",
       " \"Foxconn, Apple's manufacturer, initially denied the abuses, but when an auditing team from Apple found that workers had been working longer hours than were allowed under Chinese law, they promised to \",\n",
       " 'In 2010, a number of workers committed suicide at a Foxconn operations in China. Apple, HP, and others stated that they were investigating the situation. Foxconn guards have been videotaped beating em',\n",
       " 'As of 2006, the iPod was produced by about 14,000 workers in the U.S. and 27,000 overseas. Further, the salaries attributed to this product were overwhelmingly distributed to highly skilled U.S. profe',\n",
       " 'All iPods except for the iPod Touch can function in \"disk mode\" as mass storage devices to store data files but this may not be the default behavior, and in the case of the iPod Touch, requires specia',\n",
       " 'The Legend of Zelda: Twilight Princess (Japanese: ゼルダの伝説 トワイライトプリンセス, Hepburn: Zeruda no Densetsu: Towairaito Purinsesu?) is an action-adventure game developed and published by Nintendo for the GameCu',\n",
       " 'The story focuses on series protagonist Link, who tries to prevent Hyrule from being engulfed by a corrupted parallel dimension known as the Twilight Realm. To do so, he takes the form of both a Hylia',\n",
       " 'At the time of its release, Twilight Princess was considered the greatest entry in the Zelda series by many critics, including writers for 1UP.com, Computer and Video Games, Electronic Gaming Monthly,',\n",
       " 'The Legend of Zelda: Twilight Princess is an action-adventure game focused on combat, exploration, and item collection. It uses the basic control scheme introduced in Ocarina of Time, including contex',\n",
       " 'The context-sensitive button mechanic allows one button to serve a variety of functions, such as talking, opening doors, and pushing, pulling, and throwing objects.[e] The on-screen display shows what',\n",
       " 'The GameCube and Wii versions feature several minor differences in their controls. The Wii version of the game makes use of the motion sensors and built-in speaker of the Wii Remote. The speaker emits',\n",
       " 'The game features nine dungeons—large, contained areas where Link battles enemies, collects items, and solves puzzles. Link navigates these dungeons and fights a boss at the end in order to obtain an ',\n",
       " 'When Link enters the Twilight Realm, the void that corrupts parts of Hyrule, he transforms into a wolf.[h] He is eventually able to transform between his Hylian and wolf forms at will. As a wolf, Link',\n",
       " 'The artificial intelligence (AI) of enemies in Twilight Princess is more advanced than that of enemies in The Wind Waker. Enemies react to defeated companions and to arrows or slingshot pellets that p',\n",
       " 'There is very little voice acting in the game, as is the case in most Zelda titles to date. Link remains silent in conversation, but grunts when attacking or injured and gasps when surprised. His emot',\n",
       " \"Twilight Princess takes place several centuries after Ocarina of Time and Majora's Mask, and begins with a youth named Link who is working as a ranch hand in Ordon Village. One day, the village is att\",\n",
       " \"During this time, Link also helps Midna find the Fused Shadows, fragments of a relic containing powerful dark magic. In return, she helps Link find Ordon Village's children while helping the monkeys o\",\n",
       " 'After gaining the Master Sword, Link is cleansed of the magic that kept him in wolf form, obtaining the Shadow Crystal. Now able to use it to switch between both forms at will, Link is led by Midna to',\n",
       " 'Ganondorf then revives, and Midna teleports Link and Zelda outside the castle so she can hold him off with the Fused Shadows. However, as Hyrule Castle collapses, it is revealed that Ganondorf was vic',\n",
       " \"In 2003, Nintendo announced that a new The Legend of Zelda game was in the works for the GameCube by the same team that had created the cel-shaded The Wind Waker. At the following year's Game Develope\",\n",
       " \"In four months, Aonuma's team managed to present realistic horseback riding,[l] which Nintendo later revealed to the public with a trailer at Electronic Entertainment Expo 2004. The game was scheduled\",\n",
       " 'Prior Zelda games have employed a theme of two separate, yet connected, worlds. In A Link to the Past, Link travels between a \"Light World\" and a \"Dark World\"; in Ocarina of Time, as well as in Oracle',\n",
       " 'Aonuma had anticipated creating a Zelda game for what would later be called the Wii, but had assumed that he would need to complete Twilight Princess first. His team began work developing a pointing-b',\n",
       " 'Transferring GameCube development to the Wii was relatively simple, since the Wii was being created to be compatible with the GameCube.[o] At E3 2005, Nintendo released a small number of Nintendo DS g',\n",
       " 'The team worked on a Wii control scheme, adapting camera control and the fighting mechanics to the new interface. A prototype was created that used a swinging gesture to control the sword from a first',\n",
       " 'Nintendo staff members reported that demo users complained about the difficulty of the control scheme. Aonuma realized that his team had implemented Wii controls under the mindset of \"forcing\" users t',\n",
       " \"The game's score was composed by Toru Minegishi and Asuka Ohta, with series regular Koji Kondo serving as the sound supervisor. Minegishi took charge of composition and sound design in Twilight Prince\",\n",
       " 'Media requests at the trade show prompted Kondo to consider using orchestral music for the other tracks in the game as well, a notion reinforced by his preference for live instruments. He originally e',\n",
       " 'Following the discovery of a buffer overflow vulnerability in the Wii version of Twilight Princess, an exploit known as the \"Twilight Hack\" was developed, allowing the execution of custom code from a ',\n",
       " 'A high-definition remaster of the game, The Legend of Zelda: Twilight Princess HD, is being developed by Tantalus Media for the Wii U. Officially announced during a Nintendo Direct presentation on Nov',\n",
       " 'Special bundles of the game contain a Wolf Link Amiibo figurine, which unlocks a Wii U-exclusive dungeon called the \"Cave of Shadows\" and can carry data over to the upcoming 2016 Zelda game. Other Zel',\n",
       " 'A CD containing 20 musical selections from the game was available as a GameStop preorder bonus in the United States; it is included in all bundles in Japan, Europe, and Australia.[citation needed]',\n",
       " 'Twilight Princess was released to universal critical acclaim and commercial success. It received perfect scores from major publications such as 1UP.com, Computer and Video Games, Electronic Gaming Mon',\n",
       " 'On release, Twilight Princess was considered to be the greatest Zelda game ever made by many critics including writers for 1UP.com, Computer and Video Games, Electronic Gaming Monthly, Game Informer, ',\n",
       " 'Twilight Princess received the awards for Best Artistic Design, Best Original Score, and Best Use of Sound from IGN for its GameCube version. Both IGN and Nintendo Power gave Twilight Princess the awa',\n",
       " 'In the PAL region, which covers most of Africa, Asia, Europe, and Oceania, Twilight Princess is the best-selling entry in the Zelda series. During its first week, the game was sold with three of every',\n",
       " \"A Japan-exclusive manga series based on Twilight Princess, penned and illustrated by Akira Himekawa, was first released on February 8, 2016. The series is available solely via publisher Shogakukan's M\",\n",
       " 'Spectre (2015) is the twenty-fourth James Bond film produced by Eon Productions. It features Daniel Craig in his fourth performance as James Bond, and Christoph Waltz as Ernst Stavro Blofeld, with the',\n",
       " \"The story sees Bond pitted against the global criminal organisation Spectre, marking the group's first appearance in an Eon Productions film since 1971's Diamonds Are Forever,[N 2] and tying Craig's s\",\n",
       " 'Spectre was released on 26 October 2015 in the United Kingdom on the same night as the world premiere at the Royal Albert Hall in London, followed by a worldwide release. It was released in the United',\n",
       " \"Following Garreth Mallory's promotion to M, on a mission in Mexico City unofficially ordered by a posthumous message from the previous M, 007 James Bond kills three men plotting a terrorist bombing du\",\n",
       " \"Bond disobeys M's order and travels to Rome to attend Sciarra's funeral. That evening he visits Sciarra's widow Lucia, who tells him about Spectre, a criminal organisation to which her husband belonge\",\n",
       " 'Bond travels to Austria to find White, who is dying of thallium poisoning. He admits to growing disenchanted with Quantum and tells Bond to find and protect his daughter, Dr. Madeline Swann, who will ',\n",
       " \"The two travel to the hotel and discover White's secret room where they find co-ordinates pointing to Oberhauser's operations base in the desert. They travel by train to the nearest station, but are o\",\n",
       " 'Bond and Swann return to London where they meet M, Bill Tanner, Q, and Moneypenny; they intend to arrest C and stop Nine Eyes from going online. Swann leaves Bond, telling him she cannot be part of a ',\n",
       " 'The ownership of the Spectre organisation—originally stylised \"SPECTRE\" as an acronym of SPecial Executive for Counter-intelligence, Terrorism, Revenge and Extortion—and its characters, had been at th',\n",
       " 'In November 2013 MGM and the McClory estate formally settled the issue with Danjaq, LLC—sister company of Eon Productions—with MGM acquiring the full copyright film rights to the concept of Spectre an',\n",
       " 'In November 2014, Sony Pictures Entertainment was targeted by hackers who released details of confidential e-mails between Sony executives regarding several high-profile film projects. Included within',\n",
       " \"Despite being an original story, Spectre draws on Ian Fleming's source material, most notably in the character of Franz Oberhauser, played by Christoph Waltz. Oberhauser shares his name with Hannes Ob\",\n",
       " 'Further references to Fleming\\'s material can be found throughout the film; an MI6 safehouse is called \"Hildebrand Rarities and Antiques\", a reference to the short story \"The Hildebrand Rarity\" from th',\n",
       " 'The main cast was revealed in December 2014 at the 007 Stage at Pinewood Studios. Daniel Craig returned for his fourth appearance as James Bond, while Ralph Fiennes, Naomie Harris and Ben Whishaw repr',\n",
       " \"Christoph Waltz was cast in the role of Franz Oberhauser, though he refused to comment on the nature of the part. It was later revealed with the film's release that he is Ernst Stavro Blofeld. Dave Ba\",\n",
       " 'In addition to the principal cast, Alessandro Cremona was cast as Marco Sciarra, Stephanie Sigman was cast as Estrella, and Detlef Bothe was cast as a villain for scenes shot in Austria. In February 2',\n",
       " 'In March 2013 Mendes said he would not return to direct the next film in the series, then known as Bond 24; he later recanted and announced that he would return, as he found the script and the plans f',\n",
       " 'Mendes revealed that production would begin on 8 December 2014 at Pinewood Studios, with filming taking seven months. Mendes also confirmed several filming locations, including London, Mexico City and',\n",
       " 'Filming started in Austria in December 2014, with production taking in the area around Sölden—including the Ötztal Glacier Road, Rettenbach glacier and the adjacent ski resort and cable car station—an',\n",
       " 'Filming temporarily returned to England to shoot scenes at Blenheim Palace in Oxfordshire, which stood in for a location in Rome, before moving on to the city itself for a five-week shoot across the c',\n",
       " \"With filming completed in Rome, production moved to Mexico City in late March to shoot the film's opening sequence, with scenes to include the Day of the Dead festival filmed in and around the Zócalo \",\n",
       " 'Following filming in Mexico, and during a scheduled break, Craig was flown to New York to undergo minor surgery to fix his knee injury. It was reported that filming was not affected and he had returne',\n",
       " \"A brief shoot at London's City Hall was filmed on 18 April 2015, while Mendes was on location. On 17 May 2015 filming took place on the Thames in London. Stunt scenes involving Craig and Seydoux on a \",\n",
       " \"After wrapping up in England, production travelled to Morocco in June, with filming taking place in Oujda, Tangier and Erfoud, after preliminary work was completed by the production's second unit. An \",\n",
       " 'Whilst filming in Mexico City, speculation in the media claimed that the script had been altered to accommodate the demands of Mexican authorities—reportedly influencing details of the scene and chara',\n",
       " \"Thomas Newman returned as Spectre's composer. Rather than composing the score once the film had moved into post-production, Newman worked during filming. The theatrical trailer released in July 2015 c\",\n",
       " 'In September 2015 it was announced that Sam Smith and regular collaborator Jimmy Napes had written the film\\'s title theme, \"Writing\\'s on the Wall\", with Smith performing it for the film. Smith said th',\n",
       " 'The song was released as a digital download on 25 September 2015. It received mixed reviews from critics and fans, particularly in comparison to Adele\\'s \"Skyfall\". The mixed reception to the song led ',\n",
       " 'During the December 2014 press conference announcing the start of filming, Aston Martin and Eon unveiled the new DB10 as the official car for the film. The DB10 was designed in collaboration between A',\n",
       " \"To promote the film, production continued the trend established during Skyfall's production of releasing still images of clapperboards and video blogs on Eon's official social media accounts.\",\n",
       " 'On 13 March 2015, several members of the cast and crew, including Craig, Whishaw, Wilson and Mendes, as well as previous James Bond actor, Sir Roger Moore, appeared in a sketch written by David Wallia',\n",
       " 'Spectre had its world premiere in London on 26 October 2015 at the Royal Albert Hall, the same day as its general release in the United Kingdom and Republic of Ireland. Following the announcement of t',\n",
       " 'As of 21 February 2016[update] Spectre has grossed $879.3 million worldwide; $138.1 million of the takings have been generated from the UK market and $199.8 million from North America.',\n",
       " 'In the United Kingdom, the film grossed £4.1 million ($6.4 million) from its Monday preview screenings. It grossed £6.3 million ($9.2 million) on its opening day and then £5.7 million ($8.8 million) o',\n",
       " 'Spectre opened in Germany with $22.45 million (including previews), which included a new record for the biggest Saturday of all time, Australia with $8.7 million (including previews) and South Korea o',\n",
       " 'In the United States and Canada, the film opened on 6 November 2015, and in its opening weekend, was originally projected to gross $70–75 million from 3,927 screens, the widest release for a Bond film',\n",
       " 'In China, it opened on 12 November and earned $15 million on its opening day, which is the second biggest 2D single day gross for a Hollywood film behind the $18.5 million opening day of Mission: Impo',\n",
       " \"Spectre has received mixed reviews, with many reviewers either giving the film highly positive or highly negative feedback. Many critics praised the film's opening scene, action sequences, stuntwork, \",\n",
       " 'Prior to its UK release, Spectre mostly received positive reviews. Mark Kermode, writing in The Guardian, gave the film four out of five stars, observing that the film did not live up to the standard ',\n",
       " 'Critical appraisal of the film was mixed in the United States. In a lukewarm review for RogerEbert.com, Matt Zoller Seitz gave the film 2.5 stars out of 4, describing Spectre as inconsistent and unabl',\n",
       " 'Christopher Orr, writing in The Atlantic, also criticised the film, saying that Spectre \"backslides on virtually every [aspect]\". Lawrence Toppman of The Charlotte Observer called Craig\\'s performance ',\n",
       " 'In India, it was reported that the Indian Central Board of Film Certification (CBFC) censored kissing scenes featuring Monica Bellucci, Daniel Craig, and Léa Seydoux. They also muted all profanity. Th',\n",
       " 'A sequel to Spectre will begin development in spring 2016. Sam Mendes has stated he will not return to direct the next 007 film. Christoph Waltz has signed on for two more films in the series, but his',\n",
       " 'The 2008 Sichuan earthquake or the Great Sichuan earthquake, measured at 8.0 Ms and 7.9 Mw, and occurred at 02:28:01 PM China Standard Time at epicenter (06:28:01 UTC) on May 12 in Sichuan province, k',\n",
       " 'It is also known as the Wenchuan earthquake (Chinese: 汶川大地震; pinyin: Wènchuān dà dìzhèn; literally: \"Great Wenchuan earthquake\"), after the location of the earthquake\\'s epicenter, Wenchuan County, Sic',\n",
       " 'Official figures (as of July 21, 2008 12:00 CST) stated that 69,197 were confirmed dead, including 68,636 in Sichuan province, and 374,176 injured, with 18,222 listed as missing. The earthquake left a',\n",
       " 'The earthquake had a magnitude of 8.0 Ms and 7.9 Mw. The epicenter was in Wenchuan County, Ngawa Tibetan and Qiang Autonomous Prefecture, 80 km west/northwest of the provincial capital of Chengdu, wit',\n",
       " 'According to a study by the China Earthquake Administration (CEA), the earthquake occurred along the Longmenshan fault, a thrust structure along the border of the Indo-Australian Plate and Eurasian Pl',\n",
       " 'Malaysia-based Yazhou Zhoukan conducted an interview with former researcher at the China Seismological Bureau Geng Qingguo (耿庆国), in which Geng claimed that a confidential written report was sent to t',\n",
       " 'In a United States Geological Survey (USGS) study, preliminary rupture models of the earthquake indicated displacement of up to 9 meters along a fault approximately 240 km long by 20 km deep. The eart',\n",
       " 'Japanese seismologist Yuji Yagi at the University of Tsukuba said that the earthquake occurred in two stages: \"The 155-mile Longmenshan Fault tore in two sections, the first one ripping about seven ya',\n",
       " 'Between 64 and 104 major aftershocks, ranging in magnitude from 4.0 to 6.1, were recorded within 72 hours of the main quake. According to Chinese official counts, \"by 12:00 CST, November 6, 2008 there',\n",
       " '(The Ms 6.1 earthquake on August 30, 2008 in southern Sichuan was not part of this series because it was caused by a different fault. See 2008 Panzhihua earthquake for details.)',\n",
       " 'The map of earthquake intensity published by CEA after surveying 500,000 km2 of the affected area shows a maximum liedu of XI on the China Seismic Intensity Scale (CSIS), described as \"very destructiv',\n",
       " 'The Longmen Shan Fault System is situated in the eastern border of the Tibetan Plateau and contains several faults. This earthquake ruptured at least two imbricate structures in Longmen Shan Fault Sys',\n",
       " 'Office buildings in Shanghai\\'s financial district, including the Jin Mao Tower and the Hong Kong New World Tower, were evacuated. A receptionist at the Tibet Hotel in Chengdu said things were \"calm\" a',\n",
       " 'Reporters in Chengdu said they saw cracks on walls of some residential buildings in the downtown areas, but no buildings collapsed. Many Beijing office towers were evacuated, including the building ho',\n",
       " 'All of the highways into Wenchuan, and others throughout the province, were damaged, resulting in delayed arrival of the rescue troops. In Beichuan County, 80% of the buildings collapsed according to ',\n",
       " 'Both the Shanghai Stock Exchange and the Shenzhen Stock Exchange suspended trading of companies based in southwestern China. Copper rose over speculations that production in southwestern China may be ',\n",
       " 'Immediately after the earthquake event, mobile and terrestrial telecommunications were cut to the affected and surrounding area, with all internet capabilities cut to the Sichuan area too. Elements of',\n",
       " 'China Mobile had more than 2,300 base stations suspended due to power disruption or severe telecommunication traffic congestion. Half of the wireless communications were lost in the Sichuan province. ',\n",
       " 'Initially, officials were unable to contact the Wolong National Nature Reserve, home to around 280 giant pandas. However, the Foreign Ministry later said that a group of 31 British tourists visiting t',\n",
       " 'The Zipingpu Hydropower Plant (simplified Chinese: 紫坪铺水库; traditional Chinese: 紫坪鋪水庫) located 20 km east of the epicenter was damaged. A recent inspection indicated that the damage was less severe tha',\n",
       " 'According to Chinese state officials, the quake caused 69,180 known deaths including 68,636 in Sichuan province; 18,498 people are listed as missing, and 374,176 injured, but these figures may further',\n",
       " 'One rescue team reported only 2,300 survivors from the town of Yingxiu in Wenchuan County, out of a total population of about 9,000. 3,000 to 5,000 people were killed in Beichuan County, Sichuan alone',\n",
       " \"Experts point out that the earthquake hit an area that has been largely neglected and untouched by China's economic rise. Health care is poor in inland areas such as Sichuan, highlighting the widening\",\n",
       " 'In terms of school casualties, thousands of school children died due to shoddy construction. In Mianyang City, seven schools collapsed, burying at least 1,700 people. At least 7,000 school buildings t',\n",
       " 'Details of school casualties had been under non-governmental investigation since December 2008 by volunteers including artist and architect Ai Weiwei, who had been constantly posting updates on his bl',\n",
       " 'The earthquake left at least 5 million people without housing, although the number could be as high as 11 million. Millions of livestock and a significant amount of agriculture were also destroyed, in',\n",
       " 'Reginald DesRoches, a professor of civil and environmental engineering at Georgia Tech, pointed out that the massive damage of properties and houses in the earthquake area was because China did not cr',\n",
       " 'In the days following the disaster, an international reconnaissance team of engineers was dispatched to the region to make a detailed preliminary survey of damaged buildings. Their findings show a var',\n",
       " 'News reports indicate that the poorer, rural villages were hardest hit. Swaminathan Krishnan, assistant professor of civil engineering and geophysics at the California Institute of Technology said: \"t',\n",
       " 'Even with the five largest cities in Sichuan suffering only minor damage from the quake, some estimates of the economic loss run higher than US$75 billion, making the earthquake one of the costliest n',\n",
       " \"Strong aftershocks continued to strike even months after the main quake. On May 25, an aftershock of 6.0 Mw (6.4 Ms according to CEA) hit northeast of the original earthquake's epicenter, in Qingchuan\",\n",
       " 'Executive vice governor Wei Hong confirmed on November 21, 2008 that more than 90,000 people in total were dead or missing in the earthquake. He stated that 200,000 homes had been rebuilt, and 685,000',\n",
       " 'General Secretary and President Hu Jintao announced that the disaster response would be rapid. Just 90 minutes after the earthquake, Premier Wen Jiabao, who has an academic background in geomechanics,',\n",
       " 'The National Disaster Relief Commission initiated a \"Level II emergency contingency plan\", which covers the most serious class of natural disasters. The plan rose to Level I at 22:15 CST, May 12.',\n",
       " 'An earthquake emergency relief team of 184 people (consisting of 12 people from the State Seismological Bureau, 150 from the Beijing Military Area Command, and 22 from the Armed Police General Hospita',\n",
       " 'In the China Digital Times an article reports a close analysis by an alleged Chinese construction engineer known online as “Book Blade” (书剑子), who stated:',\n",
       " \"On Children's Day, June 1, 2008, many parents went to the rubble of schools to mourn for their children. The surviving children, who were mostly living in relief centres, performed ceremonies marking \",\n",
       " 'Central State-owned enterprises have accumulatively donated more than $48.6 million. China National Petroleum Corp and Sinopec donated 10 million yuan each to the disaster area.',\n",
       " 'On May 16 China stated it had also received $457 million in donated money and goods for rescue efforts so far, including $83 million from 19 countries and four international organizations. Saudi Arabi',\n",
       " 'In 2008, State Council established a counterpart support plan (《汶川地震灾后恢复重建对口支援方案》). The plan is to arrange 19 eastern and central province and municipalitie to help 18 counties, on \"one province to on',\n",
       " 'An article in Science suggested that the construction and filling of the Zipingpu Dam may have triggered the earthquake. The chief engineer of the Sichuan Geology and Mineral Bureau said that the sudd',\n",
       " 'The earthquake also provided opportunities for researchers to retrofit data in order to model future earthquake predictions. Using data from the Intermagnet Lanzhou geomagnetic observatory, geologists',\n",
       " \"In a press conference held by the State Council Information Office the day after the earthquake, geologist Zhang Xiaodong, deputy director of CEA's Seismic Monitoring Network Center, restated that ear\",\n",
       " 'In 2002, Chinese geologist Chen Xuezhong published a Seismic Risk Analysis study in which he came to the conclusion that beginning with 2003, attention should be paid to the possibility of an earthqua',\n",
       " 'The earthquake was the worst to strike the Sichuan area in over 30 years. Following the quake, experts and the general public sought information on whether or not the earthquake could have been predic',\n",
       " 'Many rescue teams, including that of the Taipei Fire Department from Taiwan, were reported ready to join the rescue effort in Sichuan as early as Wednesday. However, the Red Cross Society of China sai',\n",
       " 'Persistent heavy rain and landslides in Wenchuan County and the nearby area badly affected rescue efforts. At the start of rescue operations on May 12, 20 helicopters were deployed for the delivery of',\n",
       " 'By May 15, Premier Wen Jiabao ordered the deployment of an additional 90 helicopters, of which 60 were to be provided by the PLAAF, and 30 were to be provided by the civil aviation industry, bringing ',\n",
       " \"Beijing accepted the aid of the Tzu Chi Foundation from Taiwan late on May 13. Tzu Chi was the first force from outside the People's Republic of China to join the rescue effort. China stated it would \",\n",
       " 'A direct chartered cargo flight was made by China Airlines from Taiwan Taoyuan International Airport to Chengdu Shuangliu International Airport sending some 100 tons of relief supplies donated by the ',\n",
       " 'On May 16, rescue groups from South Korea, Japan, Singapore, Russia and Taiwan arrived to join the rescue effort. The United States shared some of its satellite images of the quake-stricken areas with',\n",
       " 'The Internet was extensively used for passing information to aid rescue and recovery efforts. For example, the official news agency Xinhua set up an online rescue request center in order to find the b',\n",
       " 'On May 12, 2009, China marked the first anniversary of the quake with a moment of silence as people across the nation remembered the dead. The government also opened access to the sealed ruins of the ',\n",
       " 'Following the earthquake, donations were made by people from all over mainland China, with booths set up in schools, at banks, and around gas stations. People also donated blood, resulting in accordin',\n",
       " 'The Red Cross Society of China flew 557 tents and 2,500 quilts valued at 788,000 yuan (US$113,000) to Wenchuan County. The Amity Foundation already began relief work in the region and has earmarked US',\n",
       " 'The central government estimates that over 7,000 inadequately engineered schoolrooms collapsed in the earthquake. Chinese citizens have since invented a catch phrase: \"tofu-dregs schoolhouses\" (Chines',\n",
       " \"On the evening of May 18, CCTV-1 hosted a special four-hour program called The Giving of Love (simplified Chinese: 爱的奉献; traditional Chinese: 愛的奉獻), hosted by regulars from the CCTV New Year's Gala an\",\n",
       " \"Rescue efforts performed by the Chinese government were praised by western media, especially in comparison with Myanmar's blockage of foreign aid during Cyclone Nargis, as well as China's previous per\",\n",
       " 'As a result of the magnitude 7.9 earthquake and the many strong aftershocks, many rivers became blocked by large landslides, which resulted in the formation of \"quake lakes\" behind the blockages; thes',\n",
       " 'The most precarious of these quake-lakes was the one located in the extremely difficult terrain at Mount Tangjia in Beichuan County, Sichuan, accessible only by foot or air; an Mi-26T heavy lift helic',\n",
       " \"The State Council declared a three-day period of national mourning for the quake victims starting from May 19, 2008; the PRC's National Flag and Regional Flags of Hong Kong and Macau Special Administr\",\n",
       " 'The Ningbo Organizing Committee of the Beijing Olympic torch relay announced that the relay, scheduled to take place in Ningbo during national morning, would be suspended for the duration of the mourn',\n",
       " 'Many websites converted their home page to black and white; Sina.com and Sohu, major internet portals, limited their homepages to news items and removed all advertisements. Chinese video sharing websi',\n",
       " 'Ye Zhiping, the principal of Sangzao Middle School in Sangzao, one of the largest in An County, has been credited with proactive action that spared the lives of all 2,323 pupils in attendance when the',\n",
       " \"However, Reuters reported in June that, to date, Chinese prosecutors have joined an official inquiry into ten collapsed schools during May's devastating earthquake to gain first-hand material of const\",\n",
       " 'The New York Times reported that \"government officials in Beijing and Sichuan have said they are investigating the collapses. In an acknowledgment of the weakness of building codes in the countryside,',\n",
       " 'Besides parents, Liu Shaokun (刘绍坤), a Sichuan school teacher, was detained on June 25, 2008 for \"disseminating rumors and destroying social order\" about the Sichuan earthquake. Liu’s family was later ',\n",
       " 'In January 2010, Hong Kong-based English newspaper The Standard reported that writer Tan Zuoren attempted to document shoddy construction that may have led to massive casualties in schools, was senten',\n",
       " 'Because of the magnitude of the quake, and the media attention on China, foreign nations and organizations immediately responded to the disaster by offering condolences and assistance. On May 14, UNIC',\n",
       " \"By May 14, the Ministry of Civil Affairs stated that 10.7 billion yuan (approximately US$1.5 billion) had been donated by the Chinese public. Houston Rockets center Yao Ming, one of the country's most\",\n",
       " 'Francis Marcus of the International Federation of the Red Cross praised the Chinese rescue effort as \"swift and very efficient\" in Beijing on Tuesday. But he added the scale of the disaster was such t',\n",
       " 'All Mainland Chinese television stations (along with some stations in Hong Kong and expatriate communities) cancelled all regularly-scheduled programming, displayed their logo in grayscale, and replac',\n",
       " \"Although the Chinese government was initially praised for its response to the quake (especially in comparison to Myanmar's ruling military junta's blockade of aid during Cyclone Nargis), it then saw a\",\n",
       " 'On May 29, 2008, government officials began inspecting the ruins of thousands of schools that collapsed, searching for clues about why they crumbled. Thousands of parents around the province have accu',\n",
       " 'The AP reported that \"The state-controlled media has largely ignored the issue, apparently under the propaganda bureau\\'s instructions. Parents and volunteers who have questioned authorities have been ',\n",
       " 'On May 15, 2008 Geoffery York of the Globeandmail.com reported that the shoddily constructed buildings are commonly called \"tofu buildings\" because builders cut corners by replacing steel rods with th',\n",
       " 'However questions still remain, as some of the corrupt government officials have still not been brought to justice, while the many families who lost their only child, are still seeking compensation an',\n",
       " 'New York—often called New York City or the City of New York to distinguish it from the State of New York, of which it is a part—is the most populous city in the United States and the center of the New',\n",
       " \"Situated on one of the world's largest natural harbors, New York City consists of five boroughs, each of which is a separate county of New York State. The five boroughs – Brooklyn, Queens, Manhattan, \",\n",
       " 'New York City traces its roots to its 1624 founding as a trading post by colonists of the Dutch Republic and was named New Amsterdam in 1626. The city and its surroundings came under English control i',\n",
       " \"Many districts and landmarks in New York City have become well known, and the city received a record 56 million tourists in 2014, hosting three of the world's ten most visited tourist attractions in 2\",\n",
       " 'During the Wisconsinan glaciation, the New York City region was situated at the edge of a large ice sheet over 1,000 feet in depth. The ice sheet scraped away large amounts of soil, leaving the bedroc',\n",
       " 'In the precolonial era, the area of present-day New York City was inhabited by various bands of Algonquian tribes of Native Americans, including the Lenape, whose homeland, known as Lenapehoking, incl',\n",
       " 'The first documented visit by a European was in 1524 by Giovanni da Verrazzano, a Florentine explorer in the service of the French crown, who sailed his ship La Dauphine into New York Harbor. He claim',\n",
       " 'A Spanish expedition led by captain Estêvão Gomes, a Portuguese sailing for Emperor Charles V, arrived in New York Harbor in January 1525 aboard the purpose-built caravel \"La Anunciada\" and charted th',\n",
       " 'In 1609, English explorer Henry Hudson re-discovered the region when he sailed his ship the Halve Maen (\"Half Moon\" in Dutch) into New York Harbor while searching for the Northwest Passage to the Orie',\n",
       " 'The first non-Native American inhabitant of what would eventually become New York City was Dominican trader Juan Rodriguez (transliterated to Dutch as Jan Rodrigues). Born in Santo Domingo of Portugue',\n",
       " 'A permanent European presence in New Netherland began in 1624 – making New York the 12th oldest continuously occupied European-established settlement in the continental United States  – with the found',\n",
       " 'In 1664, Peter Stuyvesant, the Director-General of the colony of New Netherland, surrendered New Amsterdam to the English without bloodshed. The English promptly renamed the fledgling city \"New York\" ',\n",
       " 'On August 24, 1673, Dutch captain Anthonio Colve took over the colony of New York from England and rechristened it \"New Orange\" to honor the Prince of Orange, King William III. However, facing defeat ',\n",
       " 'At the end of the Second Anglo-Dutch War, the English gained New Amsterdam (New York) in North America in exchange for Dutch control of Run, an Indonesian island. Several intertribal wars among the Na',\n",
       " 'New York grew in importance as a trading port while under British rule in the early 1700s. It also became a center of slavery, with 42% of households holding slaves by 1730, more than any other city o',\n",
       " \"The trial in Manhattan of John Peter Zenger in 1735 helped to establish the freedom of the press in North America. In 1754, Columbia University was founded under charter by King George II as King's Co\",\n",
       " 'The Battle of Long Island, the largest battle of the American Revolutionary War, was fought in August 1776 entirely within the modern-day borough of Brooklyn. After the battle, in which the Americans ',\n",
       " 'The only attempt at a peaceful solution to the war took place at the Conference House on Staten Island between American delegates, including Benjamin Franklin, and British general Lord Howe on Septemb',\n",
       " 'In 1785, the assembly of the Congress of the Confederation made New York the national capital shortly after the war. New York was the last capital of the U.S. under the Articles of Confederation and t',\n",
       " \"Under New York State's gradual abolition act of 1799, children of slave mothers were born to be eventually liberated but were held in indentured servitude until their mid-to-late twenties. Together wi\",\n",
       " \"In the 19th century, the city was transformed by development relating to its status as a trading center, as well as by European immigration. The city adopted the Commissioners' Plan of 1811, which exp\",\n",
       " 'Several prominent American literary figures lived in New York during the 1830s and 1840s, including William Cullen Bryant, Washington Irving, Herman Melville, Rufus Wilmot Griswold, John Keese, Nathan',\n",
       " \"The Great Irish Famine brought a large influx of Irish immigrants. Over 200,000 were living in New York by 1860, upwards of a quarter of the city's population. There was also extensive immigration fro\",\n",
       " \"Democratic Party candidates were consistently elected to local office, increasing the city's ties to the South and its dominant party. In 1861, Mayor Fernando Wood called on the aldermen to declare in\",\n",
       " 'In 1898, the modern City of New York was formed with the consolidation of Brooklyn (until then a separate city), the County of New York (which then included parts of the Bronx), the County of Richmond',\n",
       " \"In 1904, the steamship General Slocum caught fire in the East River, killing 1,021 people on board. In 1911, the Triangle Shirtwaist Factory fire, the city's worst industrial disaster, took the lives \",\n",
       " \"New York's non-white population was 36,620 in 1890. New York City was a prime destination in the early twentieth century for African Americans during the Great Migration from the American South, and b\",\n",
       " 'New York became the most populous urbanized area in the world in the early 1920s, overtaking London. The metropolitan area surpassed the 10 million mark in the early 1930s, becoming the first megacity',\n",
       " 'Returning World War II veterans created a post-war economic boom and the development of large housing tracts in eastern Queens. New York emerged from the war unscathed as the leading city of the world',\n",
       " 'The Stonewall riots were a series of spontaneous, violent demonstrations by members of the gay community against a police raid that took place in the early morning hours of June 28, 1969, at the Stone',\n",
       " 'In the 1970s, job losses due to industrial restructuring caused New York City to suffer from economic problems and rising crime rates. While a resurgence in the financial industry greatly improved the',\n",
       " 'The city and surrounding area suffered the bulk of the economic damage and largest loss of human life in the aftermath of the September 11, 2001 attacks when 10 of the 19 terrorists associated with Al',\n",
       " 'The Occupy Wall Street protests in Zuccotti Park in the Financial District of Lower Manhattan began on September 17, 2011, receiving global attention and spawning the Occupy movement against social an',\n",
       " 'When one Republican presidential candidate for the 2016 election ridiculed the liberalism of \"New York values\" in January 2016, Donald Trump, leading in the polls, vigorously defended his city. The Na',\n",
       " 'New York City is situated in the Northeastern United States, in southeastern New York State, approximately halfway between Washington, D.C. and Boston. The location at the mouth of the Hudson River, w',\n",
       " 'The Hudson River flows through the Hudson Valley into New York Bay. Between New York City and Troy, New York, the river is an estuary. The Hudson River separates the city from the U.S. state of New Je',\n",
       " \"The city's land has been altered substantially by human intervention, with considerable land reclamation along the waterfronts since Dutch colonial times; reclamation is most prominent in Lower Manhat\",\n",
       " \"The city's total area is 468.9 square miles (1,214 km2). 164.1 sq mi (425 km2) of this is water and 304.8 sq mi (789 km2) is land. The highest point in the city is Todt Hill on Staten Island, which, a\",\n",
       " 'New York has architecturally noteworthy buildings in a wide range of styles and from distinct time periods, from the saltbox style Pieter Claesen Wyckoff House in Brooklyn, the oldest section of which',\n",
       " \"Manhattan's skyline, with its many skyscrapers, is universally recognized, and the city has been home to several of the tallest buildings in the world. As of 2011, New York City had 5,937 high-rise bu\",\n",
       " 'The 1916 Zoning Resolution required setbacks in new buildings, and restricted towers to a percentage of the lot size, to allow sunlight to reach the streets below. The Art Deco style of the Chrysler B',\n",
       " \"The character of New York's large residential districts is often defined by the elegant brownstone rowhouses and townhouses and shabby tenements that were built during a period of rapid expansion from\",\n",
       " \"Stone and brick became the city's building materials of choice after the construction of wood-frame houses was limited in the aftermath of the Great Fire of 1835. A distinctive feature of many of the \",\n",
       " 'According to the United States Geological Survey, an updated analysis of seismic hazard in July 2014 revealed a \"slightly lower hazard for tall buildings\" in New York City than previously assessed. Sc',\n",
       " 'There are hundreds of distinct neighborhoods throughout the five boroughs of New York City, many with a definable history and character to call their own. If the boroughs were each independent cities,',\n",
       " 'Under the Köppen climate classification, using the 0 °C (32 °F) coldest month (January) isotherm, New York City itself experiences a humid subtropical climate (Cfa) and is thus the northernmost major ',\n",
       " 'Winters are cold and damp, and prevailing wind patterns that blow offshore minimize the moderating effects of the Atlantic Ocean; yet the Atlantic and the partial shielding from colder air by the Appa',\n",
       " 'The city receives 49.9 inches (1,270 mm) of precipitation annually, which is fairly spread throughout the year. Average winter snowfall between 1981 and 2010 has been 25.8 inches (66 cm), but this var',\n",
       " 'The City of New York has a complex park system, with various lands operated by the National Park Service, the New York State Office of Parks, Recreation and Historic Preservation, and the New York Cit',\n",
       " 'In its 2013 ParkScore ranking, The Trust for Public Land reported that the park system in New York City was the second best park system among the 50 most populous U.S. cities, behind the park system o',\n",
       " 'Gateway National Recreation Area contains over 26,000 acres (10,521.83 ha) in total, most of it surrounded by New York City, including the Jamaica Bay Wildlife Refuge in Brooklyn and Queens, over 9,00',\n",
       " 'The Statue of Liberty National Monument and Ellis Island Immigration Museum are managed by the National Park Service and are in both the states of New York and New Jersey. They are joined in the harbo',\n",
       " 'There are seven state parks within the confines of New York City, including Clay Pit Ponds State Park Preserve, a natural area which includes extensive riding trails, and Riverbank State Park, a 28-ac',\n",
       " 'New York City has over 28,000 acres (110 km2) of municipal parkland and 14 miles (23 km) of public beaches. Parks in New York City include Central Park, Prospect Park, Flushing Meadows–Corona Park, Fo',\n",
       " \"New York City is home to Fort Hamilton, the U.S. military's only active duty installation within the city. Established in 1825 in Brooklyn on the site of a small battery utilized during the American R\",\n",
       " 'New York City is the most-populous city in the United States, with an estimated record high of 8,491,079 residents as of 2014, incorporating more immigration into the city than outmigration since the ',\n",
       " 'In 2014, the city had an estimated population density of 27,858 people per square mile (10,756/km²), rendering it the most densely populated of all municipalities housing over 100,000 residents in the',\n",
       " \"The city's population in 2010 was 44% white (33.3% non-Hispanic white), 25.5% black (23% non-Hispanic black), 0.7% Native American, and 12.7% Asian. Hispanics of any race represented 28.6% of the popu\",\n",
       " 'Throughout its history, the city has been a major port of entry for immigrants into the United States; more than 12 million European immigrants were received at Ellis Island between 1892 and 1924. The',\n",
       " \"Approximately 37% of the city's population is foreign born. In New York, no single country or region of origin dominates. The ten largest sources of foreign-born individuals in the city as of 2011 wer\",\n",
       " 'Asian Americans in New York City, according to the 2010 Census, number more than one million, greater than the combined totals of San Francisco and Los Angeles. New York contains the highest total Asi',\n",
       " \"New York City has the largest European and non-Hispanic white population of any American city. At 2.7 million in 2012, New York's non-Hispanic white population is larger than the non-Hispanic white po\",\n",
       " 'The wider New York City metropolitan area, with over 20 million people, about 50% greater than the second-place Los Angeles metropolitan area in the United States, is also ethnically diverse. The New ',\n",
       " 'Ecuador, Colombia, Guyana, Peru, and Brazil were the top source countries from South America for legal immigrants to the New York City region in 2013; the Dominican Republic, Jamaica, Haiti, and Trini',\n",
       " \"The New York metropolitan area is home to a self-identifying gay and bisexual community estimated at 568,903 individuals, the largest in the United States and one of the world's largest. Same-sex marr\",\n",
       " 'Christianity (59%), particularly Catholicism (33%), was the most prevalently practiced religion in New York as of 2014, followed by Judaism, with approximately 1.1 million Jews in New York City, over ',\n",
       " 'New York City has a high degree of income disparity as indicated by its Gini Coefficient of 0.5 for the city overall and 0.6 for Manhattan. The disparity is driven by wage growth in high-income bracke',\n",
       " 'New York is a global hub of international business and commerce. In 2012, New York City topped the first Global Economic Power Index, published by The Atlantic (to be differentiated from a namesake li',\n",
       " 'Many Fortune 500 corporations are headquartered in New York City, as are a large number of foreign corporations. One out of ten private sector jobs in the city is with a foreign company. New York City',\n",
       " \"Real estate is a major force in the city's economy, as the total value of all New York City property was assessed at US$914.8 billion for the 2015 fiscal year. The Time Warner Center is the property w\",\n",
       " \"As of 2013, the global advertising agencies of Omnicom Group and Interpublic Group, both based in Manhattan, had combined annual revenues of approximately US$21 billion, reflecting New York City's rol\",\n",
       " 'Other important sectors include medical research and technology, non-profit institutions, and universities. Manufacturing accounts for a significant but declining share of employment, although the cit',\n",
       " 'Chocolate is New York City\\'s leading specialty-food export, with up to US$234 million worth of exports each year. Entrepreneurs were forming a \"Chocolate District\" in Brooklyn as of 2014, while Godiva',\n",
       " \"New York City's most important economic sector lies in its role as the headquarters for the U.S.financial industry, metonymously known as Wall Street. The city's securities industry, enumerating 163,4\",\n",
       " \"Lower Manhattan is the third-largest central business district in the United States and is home to the New York Stock Exchange, on Wall Street, and the NASDAQ, at 165 Broadway, representing the world'\",\n",
       " \"Many of the world's largest media conglomerates are also based in the city. Manhattan contained over 500 million square feet (46.5 million m2) of office space in 2015, making it the largest office mar\",\n",
       " \"Silicon Alley, centered in Manhattan, has evolved into a metonym for the sphere encompassing the New York City metropolitan region's high technology industries involving the Internet, new media, telec\",\n",
       " \"The biotechnology sector is also growing in New York City, based upon the city's strength in academic scientific research and public and commercial financial support. On December 19, 2011, then Mayor \",\n",
       " 'Tourism is a vital industry for New York City, which has witnessed a growing combined volume of international and domestic tourists – receiving approximately 51 million tourists in 2011, 54 million in',\n",
       " 'I Love New York (stylized I ❤ NY) is both a logo and a song that are the basis of an advertising campaign and have been used since 1977 to promote tourism in New York City, and later to promote New Yo',\n",
       " 'Major tourist destinations include Times Square; Broadway theater productions; the Empire State Building; the Statue of Liberty; Ellis Island; the United Nations Headquarters; museums such as the Metr',\n",
       " 'Manhattan was on track to have an estimated 90,000 hotel rooms at the end of 2014, a 10% increase from 2013. In October 2014, the Anbang Insurance Group, based in China, purchased the Waldorf Astoria ',\n",
       " 'New York is a prominent location for the American entertainment industry, with many films, television series, books, and other media being set there. As of 2012, New York City was the second largest c',\n",
       " \"New York City is additionally a center for the advertising, music, newspaper, digital media, and publishing industries and is also the largest media market in North America. Some of the city's media c\",\n",
       " 'More than 200 newspapers and 350 consumer magazines have an office in the city, and the publishing industry employs about 25,000 people. Two of the three national daily newspapers in the United States',\n",
       " \"The television industry developed in New York and is a significant employer in the city's economy. The three major American broadcast networks are all headquartered in New York: ABC, CBS, and NBC. Man\",\n",
       " 'New York is also a major center for non-commercial educational media. The oldest public-access television channel in the United States is the Manhattan Neighborhood Network, founded in 1971. WNET is t',\n",
       " 'The New York City Public Schools system, managed by the New York City Department of Education, is the largest public school system in the United States, serving about 1.1 million students in more than',\n",
       " 'The New York City Charter School Center assists the setup of new charter schools. There are approximately 900 additional privately run secular and religious schools in the city.',\n",
       " \"Over 600,000 students are enrolled in New York City's over 120 higher education institutions, the highest number of any city in the United States, including over half million in the City University of\",\n",
       " 'The New York Public Library, which has the largest collection of any public library system in the United States, serves Manhattan, the Bronx, and Staten Island. Queens is served by the Queens Borough ',\n",
       " 'The New York City Health and Hospitals Corporation (HHC) operates the public hospitals and clinics in New York City. A public benefit corporation with $6.7 billion in annual revenues, HHC is the large',\n",
       " 'The most well-known hospital in the HHC system is Bellevue Hospital, the oldest public hospital in the United States. Bellevue is the designated hospital for treatment of the President of the United S',\n",
       " 'The New York City Police Department (NYPD) has been the largest police force in the United States by a significant margin, with over 35,000 sworn officers. Members of the NYPD are frequently referred ',\n",
       " 'In 2012, New York City had the lowest overall crime rate and the second lowest murder rate among the largest U.S. cities, having become significantly safer after a spike in crime in the 1970s through ',\n",
       " 'Organized crime has long been associated with New York City, beginning with the Forty Thieves and the Roach Guards in the Five Points in the 1820s. The 20th century saw a rise in the Mafia, dominated ',\n",
       " 'The New York City Fire Department (FDNY), provides fire protection, technical rescue, primary response to biological, chemical, and radioactive hazards, and emergency medical services for the five bor',\n",
       " 'The New York City Fire Department faces highly multifaceted firefighting challenges in many ways unique to New York. In addition to responding to building types that range from wood-frame single famil',\n",
       " 'The FDNY headquarters is located at 9 MetroTech Center in Downtown Brooklyn, and the FDNY Fire Academy is located on Randalls Island. There are three Bureau of Fire Communications alarm offices which ',\n",
       " 'Numerous major American cultural movements began in the city, such as the Harlem Renaissance, which established the African-American literary canon in the United States. The city was a center of jazz ',\n",
       " 'The city is the birthplace of many cultural movements, including the Harlem Renaissance in literature and visual art; abstract expressionism (also known as the New York School) in painting; and hip ho',\n",
       " 'New York City has more than 2,000 arts and cultural organizations and more than 500 art galleries of all sizes. The city government funds the arts with a larger annual budget than the National Endowme',\n",
       " 'Forty of the city\\'s theaters, with more than 500 seats each, are collectively known as Broadway, after the major thoroughfare that crosses the Times Square Theater District, sometimes referred to as \"',\n",
       " \"New York City's food culture includes a variety of international cuisines influenced by the city's immigrant history. Central European and Italian immigrants originally made the city famous for bagels\",\n",
       " 'New York City is home to the headquarters of the National Football League, Major League Baseball, the National Basketball Association, the National Hockey League, and Major League Soccer. The New York',\n",
       " 'New York has been described as the \"Capital of Baseball\". There have been 35 Major League Baseball World Series and 73 pennants won by New York teams. It is one of only five metro areas (Los Angeles, ',\n",
       " 'The city is represented in the National Football League by the New York Giants and the New York Jets, although both teams play their home games at MetLife Stadium in nearby East Rutherford, New Jersey',\n",
       " 'The New York Islanders and the New York Rangers represent the city in the National Hockey League. Also within the metropolitan area are the New Jersey Devils, who play in nearby Newark, New Jersey.',\n",
       " \"The city's National Basketball Association teams are the Brooklyn Nets and the New York Knicks, while the New York Liberty is the city's Women's National Basketball Association. The first national col\",\n",
       " \"The annual United States Open Tennis Championships is one of the world's four Grand Slam tennis tournaments and is held at the National Tennis Center in Flushing Meadows-Corona Park, Queens. The New Y\",\n",
       " \"Many sports are associated with New York's immigrant communities. Stickball, a street version of baseball, was popularized by youths in the 1930s, and a street in the Bronx was renamed Stickball Boule\",\n",
       " \"The iconic New York City Subway system is the largest rapid transit system in the world when measured by stations in operation, with 469, and by length of routes. New York's subway is notable for near\",\n",
       " 'Public transport is essential in New York City. 54.6% of New Yorkers commuted to work in 2005 using mass transit. This is in contrast to the rest of the United States, where about 90% of commuters dri',\n",
       " \"New York City's public bus fleet is the largest in North America, and the Port Authority Bus Terminal, the main intercity bus terminal of the city, serves 7,000 buses and 200,000 commuters daily, maki\",\n",
       " \"New York's airspace is the busiest in the United States and one of the world's busiest air transportation corridors. The three busiest airports in the New York metropolitan area include John F. Kenned\",\n",
       " \"The Staten Island Ferry is the world's busiest ferry route, carrying approximately 20 million passengers on the 5.2-mile (8.4 km) route between Staten Island and Lower Manhattan and running 24 hours a\",\n",
       " \"The George Washington Bridge is the world's busiest motor vehicle bridge, connecting Manhattan to Bergen County, New Jersey. The Verrazano-Narrows Bridge is the longest suspension bridge in the Americ\",\n",
       " \"Manhattan Island is linked to New York City's outer boroughs and New Jersey by several tunnels as well. The Lincoln Tunnel, which carries 120,000 vehicles a day under the Hudson River between New Jers\",\n",
       " \"New York's high rate of public transit use, over 200,000 daily cyclists as of 2014, and many pedestrian commuters make it the most energy-efficient major city in the United States. Walk and bicycle mo\",\n",
       " \"New York City is supplied with drinking water by the protected Catskill Mountains watershed. As a result of the watershed's integrity and undisturbed natural water filtration system, New York is one o\",\n",
       " 'The Mayor and council members are elected to four-year terms. The City Council is a unicameral body consisting of 51 council members whose districts are defined by geographic population boundaries. Ea',\n",
       " 'The Democratic Party holds the majority of public offices. As of November 2008, 67% of registered voters in the city are Democrats. New York City has not been carried by a Republican in a statewide or',\n",
       " 'Much of the scientific research in the city is done in medicine and the life sciences. New York City has the most post-graduate life sciences degrees awarded annually in the United States, with 127 No',\n",
       " \"Each year HHC's facilities provide about 225,000 admissions, one million emergency room visits and five million clinic visits to New Yorkers. HHC facilities treat nearly one-fifth of all general hospi\",\n",
       " \"Sociologists and criminologists have not reached consensus on the explanation for the dramatic decrease in the city's crime rate. Some attribute the phenomenon to new tactics used by the NYPD, includi\",\n",
       " \"New York City has been described as the cultural capital of the world by the diplomatic consulates of Iceland and Latvia and by New York's Baruch College. A book containing a series of essays titled N\",\n",
       " 'Lincoln Center for the Performing Arts, anchoring Lincoln Square on the Upper West Side of Manhattan, is home to numerous influential arts organizations, including the Metropolitan Opera, New York Cit',\n",
       " 'New York City is home to hundreds of cultural institutions and historic sites, many of which are internationally known. Museum Mile is the name for a section of Fifth Avenue running from 82nd to 105th',\n",
       " 'The New York area is home to a distinctive regional speech pattern called the New York dialect, alternatively known as Brooklynese or New Yorkese. It has generally been considered one of the most reco',\n",
       " 'The traditional New York area accent is characterized as non-rhotic, so that the sound [ɹ] does not appear at the end of a syllable or immediately before a consonant; hence the pronunciation of the ci',\n",
       " 'In soccer, New York City is represented by New York City FC of Major League Soccer, who play their home games at Yankee Stadium. The New York Red Bulls play their home games at Red Bull Arena in nearb',\n",
       " \"Mass transit in New York City, most of which runs 24 hours a day, accounts for one in every three users of mass transit in the United States, and two-thirds of the nation's rail riders live in the New\",\n",
       " \"New York City's commuter rail network is the largest in North America. The rail network, connecting New York City to its suburbs, consists of the Long Island Rail Road, Metro-North Railroad, and New J\",\n",
       " 'The Staten Island Railway rapid transit system solely serves Staten Island, operating 24 hours a day. The Port Authority Trans-Hudson (PATH train) links Midtown and Lower Manhattan to northeastern New',\n",
       " 'Multibillion US$ heavy-rail transit projects under construction in New York City include the Second Avenue Subway, the East Side Access project, and the 7 Subway Extension.',\n",
       " \"Other features of the city's transportation infrastructure encompass more than 12,000 yellow taxicabs; various competing startup transportation network companies; and an aerial tramway that transports\",\n",
       " \"Despite New York's heavy reliance on its vast public transit system, streets are a defining feature of the city. Manhattan's street grid plan greatly influenced the city's physical development. Severa\",\n",
       " \"New York City also has an extensive web of expressways and parkways, which link the city's boroughs to each other as well as to northern New Jersey, Westchester County, Long Island, and southwestern C\",\n",
       " \"New York City is located on one of the world's largest natural harbors, and the boroughs of Manhattan and Staten Island are (primarily) coterminous with islands of the same names, while Queens and Bro\",\n",
       " 'The Queensboro Bridge is an important piece of cantilever architecture. The Manhattan Bridge, Throgs Neck Bridge, Triborough Bridge, and Verrazano-Narrows Bridge are all examples of Structural Express',\n",
       " 'New York City has focused on reducing its environmental impact and carbon footprint. Mass transit use in New York City is the highest in the United States. Also, by 2010, the city had 3,715 hybrid tax',\n",
       " 'The city government was a petitioner in the landmark Massachusetts v. Environmental Protection Agency Supreme Court case forcing the EPA to regulate greenhouse gases as pollutants. The city is also a ',\n",
       " 'Newtown Creek, a 3.5-mile (6-kilometer) a long estuary that forms part of the border between the boroughs of Brooklyn and Queens, has been designated a Superfund site for environmental clean-up and re',\n",
       " 'New York City has been a metropolitan municipality with a mayor-council form of government since its consolidation in 1898. The government of New York is more centralized than that of most other U.S. ',\n",
       " 'Each borough is coextensive with a judicial district of the state Unified Court System, of which the Criminal Court and the Civil Court are the local courts, while the New York Supreme Court conducts ',\n",
       " 'Uniquely among major American cities, New York is divided between, and is host to the main branches of, two different US district courts: the District Court for the Southern District of New York, whos',\n",
       " 'New York is the most important source of political fundraising in the United States, as four of the top five ZIP codes in the nation for political contributions are in Manhattan. The top ZIP code, 100',\n",
       " 'In 2006, the Sister City Program of the City of New York, Inc. was restructured and renamed New York City Global Partners. New York City has expanded its international outreach via this program to a n',\n",
       " 'To Kill a Mockingbird is a novel by Harper Lee published in 1960. It was immediately successful, winning the Pulitzer Prize, and has become a classic of modern American literature. The plot and charac',\n",
       " 'As a Southern Gothic novel and a Bildungsroman, the primary themes of To Kill a Mockingbird involve racial injustice and the destruction of innocence. Scholars have noted that Lee also addresses issue',\n",
       " 'Reaction to the novel varied widely upon publication. Literary analysis of it is sparse, considering the number of copies sold and its widespread use in education. Author Mary McDonough Murphy, who co',\n",
       " \"To Kill a Mockingbird was Lee's only published book until Go Set a Watchman, an earlier draft of To Kill a Mockingbird, was published on July 14, 2015. Lee continued to respond to her work's impact un\",\n",
       " 'Born in 1926, Harper Lee grew up in the Southern town of Monroeville, Alabama, where she became close friends with soon-to-be famous writer Truman Capote. She attended Huntingdon College in Montgomery',\n",
       " 'After finishing the first draft and returning it to Lippincott, the manuscript, at that point titled \"Go Set a Watchman\", fell into the hands of Therese von Hohoff Torrey — known professionally as Tay',\n",
       " 'Lee had lost her mother, who suffered from mental illness, six years before she met Hohoff at Lippincott’s offices. Her father, a lawyer on whom Atticus was modeled, would die two years after the publ',\n",
       " 'Ultimately, Lee spent over two and a half years writing To Kill a Mockingbird. The book was published on July 11, 1960. After rejecting the \"Watchman\" title, it was initially re-titled Atticus, but Le',\n",
       " 'The story takes place during three years (1933–35) of the Great Depression in the fictional \"tired old town\" of Maycomb, Alabama, the seat of Maycomb County. It focuses on six-year-old Jean Louise Fin',\n",
       " \"Judge Taylor appoints Atticus to defend Tom Robinson, a black man who has been accused of raping a young white woman, Mayella Ewell. Although many of Maycomb's citizens disapprove, Atticus agrees to d\",\n",
       " \"Atticus does not want Jem and Scout to be present at Tom Robinson's trial. No seat is available on the main floor, so by invitation of Rev. Sykes, Jem, Scout, and Dill watch from the colored balcony. \",\n",
       " 'Despite Tom\\'s conviction, Bob Ewell is humiliated by the events of the trial, Atticus explaining that he \"destroyed [Ewell\\'s] last shred of credibility at that trial.\" Ewell vows revenge, spitting in ',\n",
       " 'Sheriff Tate arrives and discovers that Bob Ewell has died during the fight. The sheriff argues with Atticus about the prudence and ethics of charging Jem (whom Atticus believes to be responsible) or ',\n",
       " 'Lee has said that To Kill a Mockingbird is not an autobiography, but rather an example of how an author \"should write about what he knows and write truthfully\". Nevertheless, several people and events',\n",
       " 'Lee modeled the character of Dill on her childhood friend, Truman Capote, known then as Truman Persons. Just as Dill lived next door to Scout during the summer, Capote lived next door to Lee with his ',\n",
       " 'The origin of Tom Robinson is less clear, although many have speculated that his character was inspired by several models. When Lee was 10 years old, a white woman near Monroeville accused a black man',\n",
       " 'Writing about Lee\\'s style and use of humor in a tragic story, scholar Jacqueline Tavernier-Courbin states: \"Laughter ... [exposes] the gangrene under the beautiful surface but also by demeaning it; on',\n",
       " 'Critics also note the entertaining methods used to drive the plot. When Atticus is out of town, Jem locks a Sunday school classmate in the church basement with the furnace during a game of Shadrach. T',\n",
       " 'Scholars have characterized To Kill a Mockingbird as both a Southern Gothic and coming-of-age or Bildungsroman novel. The grotesque and near-supernatural qualities of Boo Radley and his house, and the',\n",
       " \"As children coming of age, Scout and Jem face hard realities and learn from them. Lee seems to examine Jem's sense of loss about how his neighbors have disappointed him more than Scout's. Jem says to \",\n",
       " 'The second part of the novel deals with what book reviewer Harding LeMay termed \"the spirit-corroding shame of the civilized white Southerner in the treatment of the Negro\". In the years following its',\n",
       " 'Scholar Patrick Chura, who suggests Emmett Till was a model for Tom Robinson, enumerates the injustices endured by the fictional Tom that Till also faced. Chura notes the icon of the black rapist caus',\n",
       " 'The theme of racial injustice appears symbolically in the novel as well. For example, Atticus must shoot a rabid dog, even though it is not his job to do so. Carolyn Jones argues that the dog represen',\n",
       " 'In a 1964 interview, Lee remarked that her aspiration was \"to be ... the Jane Austen of South Alabama.\" Both Austen and Lee challenged the social status quo and valued individual worth over social sta',\n",
       " 'Scholars argue that Lee\\'s approach to class and race was more complex \"than ascribing racial prejudice primarily to \\'poor white trash\\' ... Lee demonstrates how issues of gender and class intensify pre',\n",
       " \"The novel has been noted for its poignant exploration of different forms of courage. Scout's impulsive inclination to fight students who insult Atticus reflects her attempt to stand up for him and def\",\n",
       " 'Charles Shields, who has written the only book-length biography of Harper Lee to date, offers the reason for the novel\\'s enduring popularity and impact is that \"its lessons of human dignity and respec',\n",
       " \"Just as Lee explores Jem's development in coming to grips with a racist and unjust society, Scout realizes what being female means, and several female characters influence her development. Scout's pri\",\n",
       " \"Absent mothers and abusive fathers are another theme in the novel. Scout and Jem's mother died before Scout could remember her, Mayella's mother is dead, and Mrs. Radley is silent about Boo's confinem\",\n",
       " 'Allusions to legal issues in To Kill a Mockingbird, particularly in scenes outside of the courtroom, has drawn the attention from legal scholars. Claudia Durst Johnson writes that \"a greater volume of',\n",
       " \"Songbirds and their associated symbolism appear throughout the novel. The family's last name of Finch also shares Lee's mother's maiden name. The titular mockingbird is a key motif of this theme, whic\",\n",
       " \"Despite her editors' warnings that the book might not sell well, it quickly became a sensation, bringing acclaim to Lee in literary circles, in her hometown of Monroeville, and throughout Alabama. The\",\n",
       " 'One year after its publication To Kill a Mockingbird had been translated into ten languages. In the years since, it has sold more than 30 million copies and been translated into more than 40 languages',\n",
       " 'Many writers compare their perceptions of To Kill a Mockingbird as adults with when they first read it as children. Mary McDonagh Murphy interviewed celebrities including Oprah Winfrey, Rosanne Cash, ',\n",
       " 'One of the most significant impacts To Kill a Mockingbird has had is Atticus Finch\\'s model of integrity for the legal profession. As scholar Alice Petry explains, \"Atticus has become something of a fo',\n",
       " 'In 1992, an Alabama editorial called for the death of Atticus, saying that as liberal as Atticus was, he still worked within a system of institutionalized racism and sexism and should not be revered. ',\n",
       " \"To Kill a Mockingbird has been a source of significant controversy since its being the subject of classroom study as early as 1963. The book's racial slurs, profanity, and frank discussion of rape hav\",\n",
       " 'One of the first incidents of the book being challenged was in Hanover, Virginia, in 1966: a parent protested that the use of rape as a plot device was immoral. Johnson cites examples of letters to lo',\n",
       " 'The novel is cited as a factor in the success of the civil rights movement in the 1960s, however, in that it \"arrived at the right moment to help the South and the nation grapple with the racial tensi',\n",
       " 'Lee\\'s childhood friend, author Truman Capote, wrote on the dust jacket of the first edition, \"Someone rare has written this very fine first novel: a writer with the liveliest sense of life, and the wa',\n",
       " \"During the years immediately following the novel's publication, Harper Lee enjoyed the attention its popularity garnered her, granting interviews, visiting schools, and attending events honoring the b\",\n",
       " \"In 2001, Lee was inducted into the Alabama Academy of Honor. In the same year, Chicago mayor Richard M. Daley initiated a reading program throughout the city's libraries, and chose his favorite book, \",\n",
       " 'In 2006, Lee was awarded an honorary doctorate from the University of Notre Dame. During the ceremony, the students and audience gave Lee a standing ovation, and the entire graduating class held up co',\n",
       " \"The book was made into the well-received 1962 film with the same title, starring Gregory Peck as Atticus Finch. The film's producer, Alan J. Pakula, remembered Universal Pictures executives questionin\",\n",
       " 'Harper Lee was pleased with the movie, saying: \"In that film the man and the part met... I\\'ve had many, many offers to turn it into musicals, into TV or stage plays, but I\\'ve always refused. That film',\n",
       " 'In May 2005, Lee made an uncharacteristic appearance at the Los Angeles Public Library at the request of Peck\\'s widow Veronique, who said of Lee: \"She\\'s like a national treasure. She\\'s someone who has',\n",
       " 'The book has also been adapted as a play by Christopher Sergel. It debuted in 1990 in Monroeville, a town that labels itself \"The Literary Capital of Alabama\". The play runs every May on the county co',\n",
       " \"Sergel's play toured in the UK starting at West Yorkshire Playhouse in Leeds in 2006, and again in 2011 starting at the York Theatre Royal, both productions featuring Duncan Preston as Atticus Finch. \",\n",
       " 'An earlier draft of To Kill a Mockingbird, titled Go Set a Watchman, was controversially released on July 14, 2015. This draft, which was completed in 1957, is set 20 years after the time period depic',\n",
       " \"The novel is renowned for its warmth and humor, despite dealing with the serious issues of rape and racial inequality. The narrator's father, Atticus Finch, has served as a moral hero for many readers\",\n",
       " 'The strongest element of style noted by critics and reviewers is Lee\\'s talent for narration, which in an early review in Time was called \"tactile brilliance\". Writing a decade later, another scholar n',\n",
       " 'Harper Lee has remained famously detached from interpreting the novel since the mid-1960s. However, she gave some insight into her themes when, in a rare letter to the editor, she wrote in response to',\n",
       " \"When the book was released, reviewers noted that it was divided into two parts, and opinion was mixed about Lee's ability to connect them. The first part of the novel concerns the children's fascinati\",\n",
       " 'Tom Robinson is the chief example among several innocents destroyed carelessly or deliberately throughout the novel. However, scholar Christopher Metress connects the mockingbird to Boo Radley: \"Inste',\n",
       " 'The novel exposes the loss of innocence so frequently that reviewer R. A. Dave claims that because every character has to face, or even suffer defeat, the book takes on elements of a classical tragedy',\n",
       " 'Initial reactions to the novel were varied. The New Yorker declared it \"skilled, unpretentious, and totally ingenious\", and The Atlantic Monthly\\'s reviewer rated it as \"pleasant, undemanding reading\",',\n",
       " 'Not all reviewers were enthusiastic. Some lamented the use of poor white Southerners, and one-dimensional black victims, and Granville Hicks labeled the book \"melodramatic and contrived\". When the boo',\n",
       " 'The 50th anniversary of the novel\\'s release was met with celebrations and reflections on its impact. Eric Zorn of the Chicago Tribune praises Lee\\'s \"rich use of language\" but writes that the central l',\n",
       " 'Native Alabamian Allen Barra sharply criticized Lee and the novel in The Wall Street Journal calling Atticus a \"repository of cracker-barrel epigrams\" and the novel represents a \"sugar-coated myth\" of',\n",
       " \"Furthermore, despite the novel's thematic focus on racial injustice, its black characters are not fully examined. In its use of racial epithets, stereotyped depictions of superstitious blacks, and Cal\",\n",
       " 'Diane McWhorter, Pulitzer Prize-winning historian of the Birmingham civil rights campaign, asserts that To Kill a Mockingbird condemns racism instead of racists, and states that every child in the Sou',\n",
       " 'According to a National Geographic article, the novel is so revered in Monroeville that people quote lines from it like Scripture; yet Harper Lee herself refused to attend any performances, because \"s',\n",
       " 'Solar energy is radiant light and heat from the Sun harnessed using a range of ever-evolving technologies such as solar heating, photovoltaics, solar thermal energy, solar architecture and artificial ',\n",
       " 'The Earth receives 174,000 terawatts (TW) of incoming solar radiation (insolation) at the upper atmosphere. Approximately 30% is reflected back to space while the rest is absorbed by clouds, oceans an',\n",
       " \"Solar radiation is absorbed by the Earth's land surface, oceans – which cover about 71% of the globe – and atmosphere. Warm air containing evaporated water from the oceans rises, causing atmospheric c\",\n",
       " \"The total solar energy absorbed by Earth's atmosphere, oceans and land masses is approximately 3,850,000 exajoules (EJ) per year. In 2002, this was more energy in one hour than the world used in one y\",\n",
       " 'Solar technologies are broadly characterized as either passive or active depending on the way they capture, convert and distribute sunlight and enable solar energy to be harnessed at different levels ',\n",
       " 'Active solar techniques use photovoltaics, concentrated solar power, solar thermal collectors, pumps, and fans to convert sunlight into useful outputs. Passive solar techniques include selecting mater',\n",
       " 'In 1897, Frank Shuman, a U.S. inventor, engineer and solar energy pioneer built a small demonstration solar engine that worked by reflecting solar energy onto square boxes filled with ether, which has',\n",
       " 'Shuman built the world’s first solar thermal power station in Maadi, Egypt, between 1912 and 1913. Shuman’s plant used parabolic troughs to power a 45–52 kilowatts (60–70 hp) engine that pumped more t',\n",
       " 'Solar hot water systems use sunlight to heat water. In low geographical latitudes (below 40 degrees) from 60 to 70% of the domestic hot water use with temperatures up to 60 °C can be provided by solar',\n",
       " 'As of 2007, the total installed capacity of solar hot water systems is approximately 154 thermal gigawatt (GWth). China is the world leader in their deployment with 70 GWth installed as of 2006 and a ',\n",
       " 'In the United States, heating, ventilation and air conditioning (HVAC) systems account for 30% (4.65 EJ/yr) of the energy used in commercial buildings and nearly 50% (10.1 EJ/yr) of the energy used in',\n",
       " 'Thermal mass is any material that can be used to store heat—heat from the Sun in the case of solar energy. Common thermal mass materials include stone, cement and water. Historically they have been us',\n",
       " 'A solar chimney (or thermal chimney, in this context) is a passive solar ventilation system composed of a vertical shaft connecting the interior and exterior of a building. As the chimney warms, the a',\n",
       " 'Deciduous trees and plants have been promoted as a means of controlling solar heating and cooling. When planted on the southern side of a building in the northern hemisphere or the northern side in th',\n",
       " 'Solar cookers use sunlight for cooking, drying and pasteurization. They can be grouped into three broad categories: box cookers, panel cookers and reflector cookers. The simplest solar cooker is the b',\n",
       " 'Solar concentrating technologies such as parabolic dish, trough and Scheffler reflectors can provide process heat for commercial and industrial applications. The first commercial system was the Solar ',\n",
       " 'Solar distillation can be used to make saline or brackish water potable. The first recorded instance of this was by 16th-century Arab alchemists. A large-scale solar distillation project was first con',\n",
       " 'Solar water disinfection (SODIS) involves exposing water-filled plastic polyethylene terephthalate (PET) bottles to sunlight for several hours. Exposure times vary depending on weather and climate fro',\n",
       " 'Solar energy may be used in a water stabilisation pond to treat waste water without chemicals or electricity. A further environmental advantage is that algae grow in such ponds and consume carbon diox',\n",
       " \"Solar power is anticipated to become the world's largest source of electricity by 2050, with solar photovoltaics and concentrated solar power contributing 16 and 11 percent to the global overall consu\",\n",
       " 'Commercial CSP plants were first developed in the 1980s. Since 1985 the eventually 354 MW SEGS CSP installation, in the Mojave Desert of California, is the largest solar power plant in the world. Othe',\n",
       " 'In the last two decades, photovoltaics (PV), also known as solar PV, has evolved from a pure niche market of small scale applications towards becoming a mainstream electricity source. A solar cell is ',\n",
       " 'Concentrating Solar Power (CSP) systems use lenses or mirrors and tracking systems to focus a large area of sunlight into a small beam. The concentrated heat is then used as a heat source for a conven',\n",
       " 'The common features of passive solar architecture are orientation relative to the Sun, compact proportion (a low surface area to volume ratio), selective shading (overhangs) and thermal mass. When the',\n",
       " 'Urban heat islands (UHI) are metropolitan areas with higher temperatures than that of the surrounding environment. The higher temperatures are a result of increased absorption of the Solar light by ur',\n",
       " 'Agriculture and horticulture seek to optimize the capture of solar energy in order to optimize the productivity of plants. Techniques such as timed planting cycles, tailored row orientation, staggered',\n",
       " 'Greenhouses convert solar light to heat, enabling year-round production and the growth (in enclosed environments) of specialty crops and other plants not naturally suited to the local climate. Primiti',\n",
       " 'Development of a solar-powered car has been an engineering goal since the 1980s. The World Solar Challenge is a biannual solar-powered car race, where teams from universities and enterprises compete o',\n",
       " 'In 1975, the first practical solar boat was constructed in England. By 1995, passenger boats incorporating PV panels began appearing and are now used extensively. In 1996, Kenichi Horie made the first',\n",
       " 'In 1974, the unmanned AstroFlight Sunrise plane made the first solar flight. On 29 April 1979, the Solar Riser made the first flight in a solar-powered, fully controlled, man carrying flying machine, ',\n",
       " 'Solar chemical processes use solar energy to drive chemical reactions. These processes offset energy that would otherwise come from a fossil fuel source and can also convert solar energy into storable',\n",
       " 'Hydrogen production technologies been a significant area of solar chemical research since the 1970s. Aside from electrolysis driven by photovoltaic or photochemical cells, several thermochemical proce',\n",
       " 'Thermal mass systems can store solar energy in the form of heat at domestically useful temperatures for daily or interseasonal durations. Thermal storage systems generally use readily available materi',\n",
       " \"Phase change materials such as paraffin wax and Glauber's salt are another thermal storage media. These materials are inexpensive, readily available, and can deliver domestically useful temperatures (\",\n",
       " 'Off-grid PV systems have traditionally used rechargeable batteries to store excess electricity. With grid-tied systems, excess electricity can be sent to the transmission grid, while standard grid ele',\n",
       " 'Pumped-storage hydroelectricity stores energy in the form of water pumped when energy is available from a lower elevation reservoir to a higher elevation one. The energy is recovered when demand is hi',\n",
       " 'The 1973 oil embargo and 1979 energy crisis caused a reorganization of energy policies around the world and brought renewed attention to developing solar technologies. Deployment strategies focused on',\n",
       " 'Commercial solar water heaters began appearing in the United States in the 1890s. These systems saw increasing use until the 1920s but were gradually replaced by cheaper and more reliable heating fuel',\n",
       " 'The International Energy Agency has said that solar energy can make considerable contributions to solving some of the most urgent problems the world now faces:',\n",
       " 'The International Organization for Standardization has established a number of standards relating to solar energy equipment. For example, ISO 9050 relates to glass in building while ISO 10217 relates ',\n",
       " 'It is an important source of renewable energy and its technologies are broadly characterized as either passive solar or active solar depending on the way they capture and distribute solar energy or co',\n",
       " 'The large magnitude of solar energy available makes it a highly appealing source of electricity. The United Nations Development Programme in its 2000 World Energy Assessment found that the annual pote',\n",
       " 'In 2011, the International Energy Agency said that \"the development of affordable, inexhaustible and clean solar energy technologies will have huge longer-term benefits. It will increase countries’ en',\n",
       " 'The potential solar energy that could be used by humans differs from the amount of solar energy present near the surface of the planet because factors such as geography, time variation, cloud cover, a',\n",
       " 'Geography effects solar energy potential because areas that are closer to the equator have a greater amount of solar radiation. However, the use of photovoltaics that can follow the position of the su',\n",
       " 'In addition, land availability has a large effect on the available solar energy because solar panels can only be set up on land that is unowned and suitable for solar panels. Roofs have been found to ',\n",
       " 'In 2000, the United Nations Development Programme, UN Department of Economic and Social Affairs, and World Energy Council published an estimate of the potential solar energy that could be used by huma',\n",
       " 'Solar power is the conversion of sunlight into electricity, either directly using photovoltaics (PV), or indirectly using concentrated solar power (CSP). CSP systems use lenses or mirrors and tracking',\n",
       " 'Sunlight has influenced building design since the beginning of architectural history. Advanced solar architecture and urban planning methods were first employed by the Greeks and Chinese, who oriented',\n",
       " 'A solar balloon is a black balloon that is filled with ordinary air. As sunlight shines on the balloon, the air inside is heated and expands causing an upward buoyancy force, much like an artificially',\n",
       " 'Beginning with the surge in coal use which accompanied the Industrial Revolution, energy consumption has steadily transitioned from wood and biomass to fossil fuels. The early development of solar tec',\n",
       " 'In 2011, a report by the International Energy Agency found that solar energy technologies such as photovoltaics, solar hot water and concentrated solar power could provide a third of the world’s energ',\n",
       " 'Kanye Omari West (/ˈkɑːnjeɪ/; born June 8, 1977) is an American hip hop recording artist, record producer, rapper, fashion designer, and entrepreneur. He is among the most acclaimed musicians of the 2',\n",
       " 'Raised in Chicago, West briefly attended art school before becoming known as a producer for Roc-A-Fella Records in the early 2000s, producing hit singles for artists such as Jay-Z and Alicia Keys. Int',\n",
       " 'West is one of the best-selling artists of all time, having sold more than 32 million albums and 100 million digital downloads worldwide. He has won a total of 21 Grammy Awards, making him one of the ',\n",
       " 'Kanye Omari West was born on June 8, 1977 in Atlanta, Georgia. His parents divorced when he was three and he and his mother moved to Chicago, Illinois. His father, Ray West, is a former Black Panther ',\n",
       " 'At the age of 10, West moved with his mother to Nanjing, China, where she was teaching at Nanjing University as part of an exchange program. According to his mother, West was the only foreigner in his',\n",
       " \"West demonstrated an affinity for the arts at an early age; he began writing poetry when he was five years old. His mother recalled that she first took notice of West's passion for drawing and music w\",\n",
       " \"After graduating from high school, West received a scholarship to attend Chicago's American Academy of Art in 1997 and began taking painting classes, but shortly after transferred to Chicago State Uni\",\n",
       " 'Kanye West began his early production career in the mid-1990s, making beats primarily for burgeoning local artists, eventually developing a style that involved speeding up vocal samples from classic s',\n",
       " \"West spent much of the late-1990s producing records for a number of well-known artists and music groups. The third song on Foxy Brown's second studio album Chyna Doll was produced by West. Her second \",\n",
       " \"West got his big break in the year 2000, when he began to produce for artists on Roc-A-Fella Records. West came to achieve recognition and is often credited with revitalizing Jay-Z's career with his c\",\n",
       " \"Despite his success as a producer, West's true aspiration was to be a rapper. Though he had developed his rapping long before he began producing, it was often a challenge for West to be accepted as a \",\n",
       " \"According to Capitol Record's A&R, Joe Weinberger, he was approached by West and almost signed a deal with him, but another person in the company convinced Capitol's president not to. Desperate to kee\",\n",
       " \"West's breakthrough came a year later on October 23, 2002, when, while driving home from a California recording studio after working late, he fell asleep at the wheel and was involved in a near-fatal \",\n",
       " 'Carrying a Louis Vuitton backpack filled with old disks and demos to the studio and back, West crafted much of his production for his debut album in less than fifteen minutes at a time. He recorded th',\n",
       " 'The College Dropout was eventually issued by Roc-A-Fella in February 2004, shooting to number two on the Billboard 200 as his debut single, \"Through the Wire\" peaked at number fifteen on the Billboard',\n",
       " 'Beginning his second effort that fall, West would invest two million dollars and take over a year to craft his second album. West was significantly inspired by Roseland NYC Live, a 1998 live album by ',\n",
       " \"While West had encountered controversy a year prior when he stormed out of the American Music Awards of 2004 after losing Best New Artist, the rapper's first large-scale controversy came just days fol\",\n",
       " 'Fresh off spending the previous year touring the world with U2 on their Vertigo Tour, West felt inspired to compose anthemic rap songs that could operate more efficiently in large arenas. To this end,',\n",
       " \"West's third studio album, Graduation, garnered major publicity when its release date pitted West in a sales competition against rapper 50 Cent's Curtis. Upon their September 2007 releases, Graduation\",\n",
       " \"West's life took a different direction when his mother, Donda West, died of complications from cosmetic surgery involving abdominoplasty and breast reduction in November 2007. Months later, West and f\",\n",
       " '808s & Heartbreak, which features extensive use of the eponymous Roland TR-808 drum machine and contains themes of love, loneliness, and heartache, was released by Island Def Jam to capitalize on Than',\n",
       " 'In 2012, Rolling Stone journalist Matthew Trammell asserted that the record was ahead of its time and wrote, \"Now that popular music has finally caught up to it, 808s & Heartbreak has revealed itself ',\n",
       " \"West's controversial incident the following year at the 2009 MTV Video Music Awards was arguably his biggest controversy, and led to widespread outrage throughout the music industry. During the ceremo\",\n",
       " 'Following the highly publicized incident, West took a brief break from music and threw himself into fashion, only to hole up in Hawaii for the next few months writing and recording his next album. Imp',\n",
       " \"My Beautiful Dark Twisted Fantasy, West's fifth studio album, was released in November 2010 to rave reviews from critics, many of whom described it as his best work that solidified his comeback. In st\",\n",
       " 'Following a headlining set at Coachella 2011 that was described by The Hollywood Reporter as \"one of greatest hip-hop sets of all time\", West released the collaborative album Watch the Throne with Jay',\n",
       " 'Sessions for West\\'s sixth solo effort begin to take shape in early 2013 in his own personal loft\\'s living room at a Paris hotel. Determined to \"undermine the commercial\", he once again brought togethe',\n",
       " 'In June 2013, West and television personality Kim Kardashian announced the birth of their first child, North. In October 2013, the couple announced their engagement to widespread media attention. Nove',\n",
       " 'Having initially announced a new album entitled So Help Me God slated for a 2014 release, in March 2015 West announced that the album would instead be tentatively called SWISH. Later that month, West ',\n",
       " 'In December 2015, West released a song titled \"Facts\". He announced in January 2016 on Twitter that SWISH would be released on February 11, after releasing new song \"Real Friends\" and a snippet of \"No',\n",
       " \"West's musical career has been defined by frequent stylistic shifts, and has seen him develop and explore a variety of different musical approaches and genres throughout his work. When asked about his\",\n",
       " \"For his second album, Late Registration (2005), he collaborated with film score composer Jon Brion and drew influence from non-rap influences such as English trip hop group Portishead. Blending West's\",\n",
       " 'With his third album, Graduation (2007), West moved away from the sound of his previous releases and towards a more atmospheric, rock-tinged, electronic-influenced soundscape. The musical evolution ar',\n",
       " \"West's fourth studio album, 808s & Heartbreak (2008), marked an even more radical departure from his previous releases, largely abandoning rap and hip hop stylings in favor of a stark electropop sound\",\n",
       " \"West's fifth album, My Beautiful Dark Twisted Fantasy, has been noted by writers for its maximalist aesthetic and its incorporation of elements from West's previous four albums. Entertainment Weekly's\",\n",
       " 'Describing his sixth studio album Yeezus (2013) as \"a protest to music,\" West embraced an abrasive style that incorporated industrial music, acid house, dancehall, punk, electro, and Chicago drill. In',\n",
       " 'In September 2005, West announced that he would release his Pastelle Clothing line in spring 2006, claiming \"Now that I have a Grammy under my belt and Late Registration is finished, I am ready to lau',\n",
       " \"On October 1, 2011, Kanye West premiered his women's fashion label, DW Kanye West at Paris Fashion Week. He received support from DSquared2 duo Dean and Dan Caten, Olivier Theyskens, Jeremy Scott, Azz\",\n",
       " 'On December 3, 2013, Adidas officially confirmed a new shoe collaboration deal with West. After months of anticipation and rumors, West confirmed the release of the Adidas Yeezy Boosts with a Twitter ',\n",
       " 'In August 2008, West revealed plans to open 10 Fatburger restaurants in the Chicago area; the first was set to open in September 2008 in Orland Park. The second followed in January 2009, while a third',\n",
       " 'West founded the record label and production company GOOD Music in 2004, in conjunction with Sony BMG, shortly after releasing his debut album, The College Dropout. John Legend, Common, and West were ',\n",
       " 'On January 5, 2012, West announced his establishment of the creative content company DONDA, named after his late mother Donda West. In his announcement, West proclaimed that the company would \"pick up',\n",
       " 'On March 30, 2015, it was announced that West is a co-owner, with various other music artists, in the music streaming service Tidal. The service specialises in lossless audio and high definition music',\n",
       " 'West, alongside his mother, founded the \"Kanye West Foundation\" in Chicago in 2003, tasked with a mission to battle dropout and illiteracy rates, while partnering with community organizations to provi',\n",
       " 'In 2008, following the death of West\\'s mother, the foundation was rechristened \"The Dr. Donda West Foundation.\"  The foundation ceased operations in 2011.',\n",
       " 'West has additionally appeared and participated in many fundraisers, benefit concerts, and has done community work for Hurricane Katrina relief, the Kanye West Foundation, the Millions More Movement, ',\n",
       " 'West has been an outspoken and controversial celebrity throughout his career, receiving both criticism and praise from many, including the mainstream media, other artists and entertainers, and two U.S']"
      ]
     },
     "execution_count": 21,
     "metadata": {},
     "output_type": "execute_result"
    }
   ],
   "source": [
    "[s[:200] for s in pd.Series(contexts).unique()]"
   ]
  },
  {
   "cell_type": "code",
   "execution_count": 11,
   "id": "a03b6d66-da88-43ba-8b56-368a7cf485cb",
   "metadata": {},
   "outputs": [
    {
     "data": {
      "text/html": [
       "<div>\n",
       "<style scoped>\n",
       "    .dataframe tbody tr th:only-of-type {\n",
       "        vertical-align: middle;\n",
       "    }\n",
       "\n",
       "    .dataframe tbody tr th {\n",
       "        vertical-align: top;\n",
       "    }\n",
       "\n",
       "    .dataframe thead th {\n",
       "        text-align: right;\n",
       "    }\n",
       "</style>\n",
       "<table border=\"1\" class=\"dataframe\">\n",
       "  <thead>\n",
       "    <tr style=\"text-align: right;\">\n",
       "      <th></th>\n",
       "      <th>id</th>\n",
       "      <th>title</th>\n",
       "      <th>context</th>\n",
       "      <th>question</th>\n",
       "      <th>answers</th>\n",
       "    </tr>\n",
       "  </thead>\n",
       "  <tbody>\n",
       "  </tbody>\n",
       "</table>\n",
       "</div>"
      ],
      "text/plain": [
       "Empty DataFrame\n",
       "Columns: [id, title, context, question, answers]\n",
       "Index: []"
      ]
     },
     "execution_count": 11,
     "metadata": {},
     "output_type": "execute_result"
    }
   ],
   "source": [
    "train_set_df = pd.DataFrame(train_set)\n",
    "\n",
    "unanswerable_mask = (train_set_df[\"answers\"] == {'text': [], 'answer_start': []})\n",
    "train_set_df[unanswerable_mask]"
   ]
  },
  {
   "cell_type": "code",
   "execution_count": 103,
   "id": "de6d0fc6-0447-4a66-b428-a510ca34bc5c",
   "metadata": {},
   "outputs": [
    {
     "name": "stdout",
     "output_type": "stream",
     "text": [
      "CPU times: user 3.22 s, sys: 29 ms, total: 3.25 s\n",
      "Wall time: 513 ms\n"
     ]
    }
   ],
   "source": [
    "%%time\n",
    "# Takes some time!\n",
    "\n",
    "inputs = tokenizer(contexts, return_tensors=\"tf\", max_length=contexts_max_len, padding=\"max_length\", truncation=True).input_ids\n",
    "labels = tokenizer(questions, return_tensors=\"tf\", max_length=questions_max_len, padding=\"max_length\", truncation=True).input_ids\n",
    "\n",
    "train_data = {}\n",
    "train_data[\"input_ids\"] = inputs\n",
    "train_data[\"labels\"] = labels\n",
    "\n"
   ]
  },
  {
   "cell_type": "code",
   "execution_count": 104,
   "id": "5073bde1-d1b6-4966-80a9-46cab2855bf8",
   "metadata": {},
   "outputs": [
    {
     "data": {
      "text/plain": [
       "5000"
      ]
     },
     "execution_count": 104,
     "metadata": {},
     "output_type": "execute_result"
    }
   ],
   "source": [
    "len(train_data[\"input_ids\"])"
   ]
  },
  {
   "cell_type": "code",
   "execution_count": 23,
   "id": "c3b105fa-d128-4e35-be32-b962d6ca9e1b",
   "metadata": {},
   "outputs": [],
   "source": [
    "from tensorflow.keras.optimizers import AdamW\n",
    "from tensorflow.keras.optimizers.schedules import ExponentialDecay\n",
    "\n",
    "initial_learning_rate = 0.001 # start with default Adam value\n",
    "\n",
    "lr_schedule = ExponentialDecay(\n",
    "    # Every 5000 iterations, multiply the learning rate by 0.7\n",
    "    initial_learning_rate, decay_steps = 50000, decay_rate = 0.7,\n",
    ")\n",
    "\n",
    "dataset = tf.data.Dataset.from_tensor_slices(train_data).batch(8)\n",
    "#val_dataset = tf.data.Dataset.from_tensor_slices(val_data).batch(8)\n",
    "\n",
    "adamw = AdamW(weight_decay=0.04, learning_rate=lr_schedule)\n",
    "\n",
    "model.compile(optimizer=adamw)"
   ]
  },
  {
   "cell_type": "markdown",
   "id": "fe69c900-b01b-4503-9278-508a088dd3bb",
   "metadata": {},
   "source": [
    "We don't necessarily need to use validation, as it is not important that the generated questions match **exactly** with those in the validation set."
   ]
  },
  {
   "cell_type": "code",
   "execution_count": 30,
   "id": "3468bd04-ecd1-4b21-b888-5ca7fd4e7182",
   "metadata": {},
   "outputs": [
    {
     "name": "stdout",
     "output_type": "stream",
     "text": [
      "625/625 [==============================] - 128s 205ms/step - loss: 0.7912\n"
     ]
    }
   ],
   "source": [
    "history = model.fit(dataset, epochs=2)\n"
   ]
  },
  {
   "cell_type": "code",
   "execution_count": 5,
   "id": "78935e7f-5d51-46dd-8715-56b8ddcc641a",
   "metadata": {},
   "outputs": [],
   "source": [
    "#model.save_weights(\"/home/rob/question-generation-checkpoint-#######.h5\")\n",
    "model.load_weights(\"/home/rob/checkpoint.h5\")"
   ]
  },
  {
   "cell_type": "code",
   "execution_count": 6,
   "id": "98af65e8-ef82-4879-ac9b-6dae7a3fc257",
   "metadata": {},
   "outputs": [
    {
     "ename": "NameError",
     "evalue": "name 'test_context' is not defined",
     "output_type": "error",
     "traceback": [
      "\u001b[0;31m---------------------------------------------------------------------------\u001b[0m",
      "\u001b[0;31mNameError\u001b[0m                                 Traceback (most recent call last)",
      "Cell \u001b[0;32mIn[6], line 2\u001b[0m\n\u001b[1;32m      1\u001b[0m n_sequences \u001b[38;5;241m=\u001b[39m \u001b[38;5;241m10\u001b[39m\n\u001b[0;32m----> 2\u001b[0m test_inputs \u001b[38;5;241m=\u001b[39m tokenizer(\u001b[43mtest_context\u001b[49m, return_tensors\u001b[38;5;241m=\u001b[39m\u001b[38;5;124m\"\u001b[39m\u001b[38;5;124mtf\u001b[39m\u001b[38;5;124m\"\u001b[39m)\u001b[38;5;241m.\u001b[39minput_ids\n\u001b[1;32m      3\u001b[0m test_outputs \u001b[38;5;241m=\u001b[39m model\u001b[38;5;241m.\u001b[39mgenerate(test_inputs, num_beams\u001b[38;5;241m=\u001b[39m\u001b[38;5;241m20\u001b[39m, num_return_sequences\u001b[38;5;241m=\u001b[39mn_sequences, do_sample\u001b[38;5;241m=\u001b[39m\u001b[38;5;28;01mFalse\u001b[39;00m)\n\u001b[1;32m      4\u001b[0m \u001b[38;5;28;01mfor\u001b[39;00m i \u001b[38;5;129;01min\u001b[39;00m \u001b[38;5;28mrange\u001b[39m(n_sequences):\n",
      "\u001b[0;31mNameError\u001b[0m: name 'test_context' is not defined"
     ]
    }
   ],
   "source": [
    "n_sequences = 10\n",
    "test_inputs = tokenizer(test_context, return_tensors=\"tf\").input_ids\n",
    "test_outputs = model.generate(test_inputs, num_beams=20, num_return_sequences=n_sequences, do_sample=False)\n",
    "for i in range(n_sequences):\n",
    "    print(tokenizer.decode(test_outputs[i], skip_special_tokens=True))"
   ]
  },
  {
   "cell_type": "code",
   "execution_count": 7,
   "id": "573822c9-37ff-40c2-80cb-61afc727918b",
   "metadata": {},
   "outputs": [
    {
     "name": "stderr",
     "output_type": "stream",
     "text": [
      "/home/rob/.pyenv/versions/3.10.6/envs/quizachu-env/lib/python3.10/site-packages/transformers/generation/tf_utils.py:838: UserWarning: Using the model-agnostic default `max_length` (=20) to control the generation length.  recommend setting `max_new_tokens` to control the maximum length of the generation.\n",
      "  warnings.warn(\n",
      "2023-12-01 11:39:04.204486: I tensorflow/compiler/xla/service/service.cc:168] XLA service 0x5617ab19d910 initialized for platform CUDA (this does not guarantee that XLA will be used). Devices:\n",
      "2023-12-01 11:39:04.204528: I tensorflow/compiler/xla/service/service.cc:176]   StreamExecutor device (0): NVIDIA GeForce RTX 3070 Ti Laptop GPU, Compute Capability 8.6\n",
      "2023-12-01 11:39:04.207538: I tensorflow/compiler/mlir/tensorflow/utils/dump_mlir_util.cc:269] disabling MLIR crash reproducer, set env var `MLIR_CRASH_REPRODUCER_DIRECTORY` to enable.\n",
      "2023-12-01 11:39:04.215950: I tensorflow/compiler/xla/stream_executor/cuda/cuda_dnn.cc:442] Loaded cuDNN version 8700\n",
      "2023-12-01 11:39:04.257179: I ./tensorflow/compiler/jit/device_compiler.h:186] Compiled cluster using XLA!  This line is logged at most once for the lifetime of the process.\n"
     ]
    },
    {
     "name": "stdout",
     "output_type": "stream",
     "text": [
      "What is another name for My Sweetheart the Drunk?\n",
      "On what date did Buckley move to Memphis, Tennessee?\n",
      "When did Buckley move to Memphis, Tennessee?\n",
      "What was Buckley's second album?\n",
      "What was Buckley's second album called?\n",
      "What was the name of the second album that was released in 1996?\n",
      "On what date did James Moorhead die?\n",
      "What is the name of the second album that was released in 1996?\n",
      "On what date did Buckley move to Memphis?\n",
      "On what day in 1996 did Buckley move to Memphis, Tennessee?\n",
      "What was the name of the second album that was released in 1995?\n",
      "What is another name for My Sweetheart the Drunk's second album?\n",
      "On what date did James Moorhead move to Memphis, Tennessee?\n",
      "What is another name for Han Moorhead?\n",
      "What was Buckley's second album in 1995?\n",
      "What was Buckley's first album?\n",
      "What is the name of the second album that was released in 1995?\n",
      "What is another name for Herb Cohen?\n",
      "On what date did James Moorhead move to Memphis?\n",
      "When did Buckley move to Memphis?\n"
     ]
    }
   ],
   "source": [
    "n_sequences = 20\n",
    "#test_context_2 = \"\"\"Johann Sebastian Bach[n 2] (31 March [O.S. 21 March] 1685 – 28 July 1750) was a German composer and musician of the late Baroque period. He is known for his orchestral music such as the Brandenburg Concertos; instrumental compositions such as the Cello Suites; keyboard works such as the Goldberg Variations and The Well-Tempered Clavier; organ works such as the Schubler Chorales and the Toccata and Fugue in D minor; and vocal music such as the St Matthew Passion and the Mass in B minor. Since the 19th-century Bach revival, he has been generally regarded as one of the greatest composers in the history of Western music.\"\"\"\n",
    "test_context_2 = \"\"\"\n",
    "Jeffrey Scott Buckley (November 17, 1966 – May 29, 1997), raised as Scott Moorhead,[1] was an American musician and singer. After a decade as a session guitarist in Los Angeles, Buckley amassed a following in the early 1990s by performing cover songs at venues in East Village, Manhattan, such as Sin-é, while gradually focusing more on his own material. After rebuffing interest from record labels[2] and Herb Cohen—the manager of his father, singer Tim Buckley[3]—he signed with Columbia, recruited a band, and recorded what would be his only studio album, Grace, in 1994.\n",
    "\n",
    "Over the following three years, the band toured extensively to promote Grace, including concerts in the U.S., Europe, Japan, and Australia. In 1996, they stopped touring[4] and made sporadic attempts to record Buckley's second album in New York City with Tom Verlaine as the producer.\n",
    "\n",
    "In 1997, Buckley moved to Memphis, Tennessee, to resume work on the album, to be titled My Sweetheart the Drunk, recording many four-track demos while also playing weekly solo shows at a local venue. On May 29, 1997, while awaiting the arrival of his band from New York, he drowned during a spontaneous evening swim, fully clothed, in the Mississippi River, where he was caught in the wake of a passing boat; his body was found on June 4.[5]\n",
    "\"\"\"\n",
    "test_inputs_2 = tokenizer(test_context_2, return_tensors=\"tf\").input_ids\n",
    "test_outputs_2 = model.generate(test_inputs_2, do_sample=True, num_beams=80, num_return_sequences=n_sequences, top_p=0.95)\n",
    "\n",
    "for i in range(n_sequences):\n",
    "    print(tokenizer.decode(test_outputs_2[i], skip_special_tokens=True))"
   ]
  },
  {
   "cell_type": "code",
   "execution_count": 55,
   "id": "06679609-b6b8-42d3-b928-ea56a400b3e9",
   "metadata": {},
   "outputs": [
    {
     "name": "stdout",
     "output_type": "stream",
     "text": [
      "What did the band of James Buckley play in 1996?\n",
      "What was the name of the album that was released on May 29th, 1966-97?\n",
      "What is another name for sporadic attempts to record Buckley's second album?\n",
      "What is another name for \"The sweetheart the Drunk\"?\n",
      "What is the name of the album that was released in 1996?\n",
      "What was a nickname of the band that performed at venues in the Mississippi River?\n",
      "What was the name of the album that took part in a spontaneous evening?\n",
      "In what year did the band stop touring?\n",
      "In what direction was the album taken?\n",
      "What type of music did James Buckley move to?\n",
      "What band did James Moorhead play for?\n",
      "What is another name for Herb Cohen?\n",
      "What was the name of the album that was released in 1995?\n",
      "What was the name of the band that used Buckley in 1996?\n",
      "What was the name of the second album that was released in 1996?\n",
      "Who was the producer of this album?\n",
      "What was the name of the album that performed at venues in the Mississippi River?\n",
      "What is another name for Herb Cohen?\n",
      "What band did Buckley join in 1996?\n",
      "What was a nickname of the person who was used to write a second album?\n"
     ]
    }
   ],
   "source": [
    "n_sequences = 20\n",
    "#test_context_2 = \"\"\"Johann Sebastian Bach[n 2] (31 March [O.S. 21 March] 1685 – 28 July 1750) was a German composer and musician of the late Baroque period. He is known for his orchestral music such as the Brandenburg Concertos; instrumental compositions such as the Cello Suites; keyboard works such as the Goldberg Variations and The Well-Tempered Clavier; organ works such as the Schubler Chorales and the Toccata and Fugue in D minor; and vocal music such as the St Matthew Passion and the Mass in B minor. Since the 19th-century Bach revival, he has been generally regarded as one of the greatest composers in the history of Western music.\"\"\"\n",
    "test_context_2 = \"\"\"\n",
    "Jeffrey Scott Buckley (November 17, 1966 – May 29, 1997), raised as Scott Moorhead,[1] was an American musician and singer. After a decade as a session guitarist in Los Angeles, Buckley amassed a following in the early 1990s by performing cover songs at venues in East Village, Manhattan, such as Sin-é, while gradually focusing more on his own material. After rebuffing interest from record labels[2] and Herb Cohen—the manager of his father, singer Tim Buckley[3]—he signed with Columbia, recruited a band, and recorded what would be his only studio album, Grace, in 1994.\n",
    "\n",
    "Over the following three years, the band toured extensively to promote Grace, including concerts in the U.S., Europe, Japan, and Australia. In 1996, they stopped touring[4] and made sporadic attempts to record Buckley's second album in New York City with Tom Verlaine as the producer.\n",
    "\n",
    "In 1997, Buckley moved to Memphis, Tennessee, to resume work on the album, to be titled My Sweetheart the Drunk, recording many four-track demos while also playing weekly solo shows at a local venue. On May 29, 1997, while awaiting the arrival of his band from New York, he drowned during a spontaneous evening swim, fully clothed, in the Mississippi River, where he was caught in the wake of a passing boat; his body was found on June 4.[5]\n",
    "\"\"\"\n",
    "test_inputs_2 = tokenizer(test_context_2, return_tensors=\"tf\").input_ids\n",
    "# Use \n",
    "test_outputs_2 = model.generate(test_inputs_2, do_sample=True, num_return_sequences=n_sequences, top_k=5, temperature=0.6)\n",
    "\n",
    "for i in range(n_sequences):\n",
    "    print(tokenizer.decode(test_outputs_2[i], skip_special_tokens=True))"
   ]
  },
  {
   "cell_type": "code",
   "execution_count": 24,
   "id": "a1a2754c-ea02-4e96-a038-7f757c4c3ad7",
   "metadata": {},
   "outputs": [
    {
     "name": "stdout",
     "output_type": "stream",
     "text": [
      "In what year did the London Underground begin?\n",
      "In what year did the UERL begin to be built?\n",
      "In what year did the London Underground begin?\n",
      "What railway line was built in the 18th century?\n",
      "In what year did the Thames & City Railway open?\n",
      "How many kilometers long did it take to travel through London's Station?\n",
      "When did the London Underground first operate?\n",
      "In what year was the London Underground Station opened?\n",
      "How many kilometers long was the London Underground Station?\n",
      "In what year did the Thames & City Railway open?\n",
      "What railway line was built in London in the 18th century?\n",
      "What railway line was built in the London Underground?\n",
      "When did the UERL begin to run through the London Underground?\n",
      "When did the London Underground begin?\n",
      "What was the name of the first railway station in London?\n",
      "In what year did the London Underground begin?\n",
      "In what year was the London Underground Station closed?\n",
      "What railway line opened in 1880?\n",
      "What railway line was built in London in 1880?\n",
      "What railway line was built in the 18th century?\n"
     ]
    }
   ],
   "source": [
    "n_sequences = 20\n",
    "#test_context_2 = \"\"\"Johann Sebastian Bach[n 2] (31 March [O.S. 21 March] 1685 – 28 July 1750) was a German composer and musician of the late Baroque period. He is known for his orchestral music such as the Brandenburg Concertos; instrumental compositions such as the Cello Suites; keyboard works such as the Goldberg Variations and The Well-Tempered Clavier; organ works such as the Schubler Chorales and the Toccata and Fugue in D minor; and vocal music such as the St Matthew Passion and the Mass in B minor. Since the 19th-century Bach revival, he has been generally regarded as one of the greatest composers in the history of Western music.\"\"\"\n",
    "test_context_2 = \"\"\"\n",
    "The history of the London Underground began in the 19th century with the construction of the Metropolitan Railway, the world's first underground railway. The Metropolitan Railway, which opened in 1863 using gas-lit wooden carriages hauled by steam locomotives, worked with the District Railway to complete London's Circle line in 1884. Both railways expanded, the Metropolitan eventually extending as far as Verney Junction in Buckinghamshire, more than 50 miles (80 km) from Baker Street and the centre of London. The first deep-level tube line, the City and South London Railway, opened in 1890 with electric trains. This was followed by the Waterloo & City Railway in 1898, the Central London Railway in 1900, and the Great Northern and City Railway in 1904. The Underground Electric Railways Company of London (UERL) was established in 1902 to fund the electrification of the District Railway and to complete and operate three tube lines, the Baker Street and Waterloo Railway, the Charing Cross, Euston and Hampstead Railway and the Great Northern, Piccadilly and Brompton Railway, which opened in 1906–07. By 1907 the District and Metropolitan Railways had electrified the underground sections of their lines.\n",
    "\n",
    "Under a joint marketing agreement between most of the companies in the early years of the 20th century, UNDERGROUND signs appeared outside stations in central London. World War I delayed extensions of the Bakerloo and Central London Railways, and people used the tube stations as shelters during Zeppelin air raids by June 1915. After the war, government-backed financial guarantees were used to expand the network, and the tunnels of the City and South London and Charing Cross, Euston and Hampstead Railways were linked at Euston and Kennington, although the combined service was not named the Northern line until later. The Piccadilly line was extended north to Cockfosters and took over District line branches to Harrow (later Uxbridge) and Hounslow. In 1933, the underground railways and all London area tram and bus operators were merged into the London Passenger Transport Board (LPTB). The outlying branches of the Metropolitan were closed; various upgrades were planned. The Bakerloo line's extension to take over the Metropolitan's Stanmore branch, and extensions of the Central and Northern lines, formed part of the 1930s New Works Programme. The outbreak of World War II in 1939 halted or interrupted some of this work, and many tube stations were used as air-raid shelters.\n",
    "\"\"\"\n",
    "test_inputs_2 = tokenizer(test_context_2, return_tensors=\"tf\").input_ids\n",
    "test_outputs_2 = model.generate(test_inputs_2,\n",
    "                                max_new_tokens=15,\n",
    "                                do_sample=True, \n",
    "                                num_return_sequences=n_sequences, \n",
    "                                top_p=0.95,\n",
    "                                no_repeat_ngram_size=2,\n",
    "                                temperature=0.4)\n",
    "\n",
    "for i in range(n_sequences):\n",
    "    print(tokenizer.decode(test_outputs_2[i], skip_special_tokens=True))"
   ]
  },
  {
   "cell_type": "code",
   "execution_count": 127,
   "id": "ac8ae102-2d6e-4766-989f-06d364fe933b",
   "metadata": {},
   "outputs": [
    {
     "name": "stdout",
     "output_type": "stream",
     "text": [
      "What is the range between tenor and soprano?\n",
      "How many parts are there in a Bach chorale?\n",
      "How many parts of tenor are there?\n",
      "What is another name for a chorale melody?\n",
      "How many parts of the tenor are there?\n",
      "What is an octave between?\n",
      "What is another name for the tenor line?\n",
      "What are the top three parts of the tenor called?\n",
      "What is another name for a chorale?\n",
      "What is the definition of a chorale melody?\n",
      "What are the top three parts of the tenor line?\n",
      "How many parts are there in the tenor line?\n",
      "What is another name for a chorale pattern?\n",
      "What is another name for the tenor?\n",
      "What are the top three parts of tenor?\n",
      "What is another name for a chorale song?\n",
      "What is another name for a chorale phrase?\n",
      "What is the definition of a chorale?\n",
      "How many parts are there in a chorale melody?\n",
      "What are the top three parts of tenor called?\n"
     ]
    }
   ],
   "source": [
    "n_sequences = 20\n",
    "#test_context_2 = \"\"\"Johann Sebastian Bach[n 2] (31 March [O.S. 21 March] 1685 – 28 July 1750) was a German composer and musician of the late Baroque period. He is known for his orchestral music such as the Brandenburg Concertos; instrumental compositions such as the Cello Suites; keyboard works such as the Goldberg Variations and The Well-Tempered Clavier; organ works such as the Schubler Chorales and the Toccata and Fugue in D minor; and vocal music such as the St Matthew Passion and the Mass in B minor. Since the 19th-century Bach revival, he has been generally regarded as one of the greatest composers in the history of Western music.\"\"\"\n",
    "test_context_2 = \"\"\"\n",
    "\n",
    "What should the spacing be in a Bach chorale?\n",
    "The basic rule when writing a chorale melody is that the top three parts should generally be as close as possible. If there is a large gap it should be between the bass and the tenor parts.\n",
    "\n",
    "You should follow these two basic guidelines:\n",
    "\n",
    "in each phrase the gap between tenor and soprano must be no more than a 12th (an octave and a fifth) at any point and less than an octave at some point *\n",
    "there should not be a gap of more than an octave between Soprano and Alto or Alto and Tenor\n",
    "\n",
    "*this is the definition of a 'good' texture in the Exexcel mark scheme\n",
    "Note how the tenor line is higher than you might think - mostly up in the ledger lines.\n",
    "\n",
    "\n",
    "\n",
    "\n",
    "If the soprano is very low, all four parts may be much closer than would otherwise be advisable. The first of the two examples below is fine, because the soprano forces all the other parts to be low. In the second example, in which the soprano is an octave higher - the texture sounds unbalanced with the thick texture of the lower parts a long way from the higher top part. You can see that this breaks Edexcel's rule that the tenor should not be more than a 12th and at some point an octave in a given phrase.\"\"\"\n",
    "test_inputs_2 = tokenizer(test_context_2, return_tensors=\"tf\").input_ids\n",
    "test_outputs_2 = model.generate(test_inputs_2,\n",
    "                                max_new_tokens=15,\n",
    "                                do_sample=True, \n",
    "                                num_beams=80, \n",
    "                                num_return_sequences=n_sequences, \n",
    "                                top_p=0.95,\n",
    "                                no_repeat_ngram_size=2)\n",
    "\n",
    "for i in range(n_sequences):\n",
    "    print(tokenizer.decode(test_outputs_2[i], skip_special_tokens=True))"
   ]
  },
  {
   "cell_type": "markdown",
   "id": "725ef669-26a2-43db-8183-94d08e6d9720",
   "metadata": {},
   "source": [
    "## Further training on only answerable questions\n",
    "\n",
    "So far the model has been trained for 2 epochs on the entire dataset. Let's evaluate on the val dataset using ROUGE."
   ]
  },
  {
   "cell_type": "code",
   "execution_count": 9,
   "id": "7df9e50b-c2a0-4535-9d28-8a5be20d66c7",
   "metadata": {},
   "outputs": [],
   "source": [
    "import evaluate\n",
    "\n",
    "rouge = evaluate.load(\"rouge\")"
   ]
  },
  {
   "cell_type": "code",
   "execution_count": 10,
   "id": "9e110e2b-64d3-4796-9c4d-20445e89c66b",
   "metadata": {},
   "outputs": [],
   "source": [
    "val_df = pd.DataFrame(val_set)\n",
    "unanswerable_mask = (val_df[\"answers\"] != {'text': [], 'answer_start': []})\n",
    "val_df = val_df[unanswerable_mask]\n",
    "#val_df = val_df.groupby(\"context\").apply(lambda r: r.sample(1)).set_index(\"id\")"
   ]
  },
  {
   "cell_type": "code",
   "execution_count": 13,
   "id": "267297ec-7cff-45d3-b407-dd3c5ca96aab",
   "metadata": {
    "scrolled": true
   },
   "outputs": [
    {
     "data": {
      "text/plain": [
       "array([\"Céloron's expedition force consisted of about 200 Troupes de la marine and 30 Indians. The expedition covered about 3,000 miles (4,800 km) between June and November 1749. It went up the St. Lawrence, continued along the northern shore of Lake Ontario, crossed the portage at Niagara, and followed the southern shore of Lake Erie. At the Chautauqua Portage (near present-day Barcelona, New York), the expedition moved inland to the Allegheny River, which it followed to the site of present-day Pittsburgh. There Céloron buried lead plates engraved with the French claim to the Ohio Country. Whenever he encountered British merchants or fur-traders, Céloron informed them of the French claims on the territory and told them to leave.\",\n",
       "       'This projection was not included in the final summary for policymakers. The IPCC has since acknowledged that the date is incorrect, while reaffirming that the conclusion in the final summary was robust. They expressed regret for \"the poor application of well-established IPCC procedures in this instance\". The date of 2035 has been correctly quoted by the IPCC from the WWF report, which has misquoted its own source, an ICSI report \"Variations of Snow and Ice in the past and at present on a Global and Regional Scale\".',\n",
       "       \"The War of the Austrian Succession (whose North American theater is known as King George's War) formally ended in 1748 with the signing of the Treaty of Aix-la-Chapelle. The treaty was primarily focused on resolving issues in Europe. The issues of conflicting territorial claims between British and French colonies in North America were turned over to a commission to resolve, but it reached no decision. Frontiers from between Nova Scotia and Acadia in the north, to the Ohio Country in the south, were claimed by both sides. The disputes also extended into the Atlantic Ocean, where both powers wanted access to the rich fisheries of the Grand Banks off Newfoundland.\",\n",
       "       'The mayor of Warsaw is called President. Generally, in Poland, the mayors of bigger cities are called presidents – i.e. such cities, which have over 100,000 people or these, where already was president before 1990. The first Warsaw President was Jan Andrzej Menich (1695–1696). Between 1975 and 1990 the Warsaw Presidents was simultaneously the Warsaw Voivode. Since 1990 the President of Warsaw had been elected by the City council. In the years of 1994–1999 the mayor of the district Centrum automatically was designated as the President of Warsaw: the mayor of Centrum was elected by the district council of Centrum and the council was elected only by the Centrum residents. Since 2002 the President of Warsaw is elected by all of the citizens of Warsaw.',\n",
       "       'In anglophone academic works, theories regarding imperialism are often based on the British experience. The term \"Imperialism\" was originally introduced into English in its present sense in the late 1870s by opponents of the allegedly aggressive and ostentatious imperial policies of British prime Minister Benjamin Disraeli. It was shortly appropriated by supporters of \"imperialism\" such as Joseph Chamberlain. For some, imperialism designated a policy of idealism and philanthropy; others alleged that it was characterized by political self-interest, and a growing number associated it with capitalist greed. Liberal John A. Hobson and Marxist Vladimir Lenin added a more theoretical macroeconomic connotation to the term. Lenin in particular exerted substantial influence over later Marxist conceptions of imperialism with his work Imperialism, the Highest Stage of Capitalism. In his writings Lenin portrayed Imperialism as a natural extension of capitalism that arose from need for capitalist economies to constantly expand investment, material resources and manpower in such a way that necessitated colonial expansion. This conception of imperialism as a structural feature of capitalism is echoed by later Marxist theoreticians. Many theoreticians on the left have followed in emphasizing the structural or systemic character of \"imperialism\". Such writers have expanded the time period associated with the term so that it now designates neither a policy, nor a short space of decades in the late 19th century, but a world system extending over a period of centuries, often going back to Christopher Columbus and, in some accounts, to the Crusades. As the application of the term has expanded, its meaning has shifted along five distinct but often parallel axes: the moral, the economic, the systemic, the cultural, and the temporal. Those changes reflect - among other shifts in sensibility - a growing unease, even squeamishness, with the fact of power, specifically, Western power.',\n",
       "       \"The Tech Coast is a moniker that has gained use as a descriptor for the region's diversified technology and industrial base as well as its multitude of prestigious and world-renowned research universities and other public and private institutions. Amongst these include 5 University of California campuses (Irvine, Los Angeles, Riverside, Santa Barbara, and San Diego); 12 California State University campuses (Bakersfield, Channel Islands, Dominguez Hills, Fullerton, Los Angeles, Long Beach, Northridge, Pomona, San Bernardino, San Diego, San Marcos, and San Luis Obispo); and private institutions such as the California Institute of Technology, Chapman University, the Claremont Colleges (Claremont McKenna College, Harvey Mudd College, Pitzer College, Pomona College, and Scripps College), Loma Linda University, Loyola Marymount University, Occidental College, Pepperdine University, University of Redlands, University of San Diego, and the University of Southern California.\",\n",
       "       'There were two kinds of X.25 networks. Some such as DATAPAC and TRANSPAC were initially implemented with an X.25 external interface. Some older networks such as TELENET and TYMNET were modified to provide a X.25 host interface in addition to older host connection schemes. DATAPAC was developed by Bell Northern Research which was a joint venture of Bell Canada (a common carrier) and Northern Telecom (a telecommunications equipment supplier). Northern Telecom sold several DATAPAC clones to foreign PTTs including the Deutsche Bundespost. X.75 and X.121 allowed the interconnection of national X.25 networks. A user or host could call a host on a foreign network by including the DNIC of the remote network as part of the destination address.[citation needed]',\n",
       "       'European Union law is a body of treaties and legislation, such as Regulations and Directives, which have direct effect or indirect effect on the laws of European Union member states. The three sources of European Union law are primary law, secondary law and supplementary law. The main sources of primary law are the Treaties establishing the European Union. Secondary sources include regulations and directives which are based on the Treaties. The legislature of the European Union is principally composed of the European Parliament and the Council of the European Union, which under the Treaties may establish secondary law to pursue the objective set out in the Treaties.',\n",
       "       'Southern California, often abbreviated SoCal, is a geographic and cultural region that generally comprises California\\'s southernmost 10 counties. The region is traditionally described as \"eight counties\", based on demographics and economic ties: Imperial, Los Angeles, Orange, Riverside, San Bernardino, San Diego, Santa Barbara, and Ventura. The more extensive 10-county definition, including Kern and San Luis Obispo counties, is also used based on historical political divisions. Southern California is a major economic center for the state of California and the United States.',\n",
       "       \"In between the French and the British, large areas were dominated by native tribes. To the north, the Mi'kmaq and the Abenaki were engaged in Father Le Loutre's War and still held sway in parts of Nova Scotia, Acadia, and the eastern portions of the province of Canada, as well as much of present-day Maine. The Iroquois Confederation dominated much of present-day Upstate New York and the Ohio Country, although the latter also included Algonquian-speaking populations of Delaware and Shawnee, as well as Iroquoian-speaking Mingo. These tribes were formally under Iroquois rule, and were limited by them in authority to make agreements.\"],\n",
       "      dtype=object)"
      ]
     },
     "execution_count": 13,
     "metadata": {},
     "output_type": "execute_result"
    }
   ],
   "source": [
    "n_contexts_eval=10\n",
    "\n",
    "# Take a seeded random n contexts\n",
    "np.random.seed(42)\n",
    "eval_contexts = np.random.choice(val_df[\"context\"].unique(), size=n_contexts_eval)\n",
    "eval_contexts"
   ]
  },
  {
   "cell_type": "code",
   "execution_count": 14,
   "id": "e9f9721c-b366-4f1f-a10e-de8f4daa6b47",
   "metadata": {},
   "outputs": [],
   "source": [
    "eval_rows = val_df[val_df[\"context\"].isin(eval_contexts)]"
   ]
  },
  {
   "cell_type": "code",
   "execution_count": 15,
   "id": "24ad08a9-b4b0-4c37-94cb-e038ad96c66f",
   "metadata": {},
   "outputs": [
    {
     "data": {
      "text/html": [
       "<div>\n",
       "<style scoped>\n",
       "    .dataframe tbody tr th:only-of-type {\n",
       "        vertical-align: middle;\n",
       "    }\n",
       "\n",
       "    .dataframe tbody tr th {\n",
       "        vertical-align: top;\n",
       "    }\n",
       "\n",
       "    .dataframe thead th {\n",
       "        text-align: right;\n",
       "    }\n",
       "</style>\n",
       "<table border=\"1\" class=\"dataframe\">\n",
       "  <thead>\n",
       "    <tr style=\"text-align: right;\">\n",
       "      <th></th>\n",
       "      <th>context</th>\n",
       "      <th>question</th>\n",
       "    </tr>\n",
       "  </thead>\n",
       "  <tbody>\n",
       "    <tr>\n",
       "      <th>0</th>\n",
       "      <td>Céloron's expedition force consisted of about ...</td>\n",
       "      <td>[What was extent of Celeron's expedition?, Who...</td>\n",
       "    </tr>\n",
       "    <tr>\n",
       "      <th>1</th>\n",
       "      <td>European Union law is a body of treaties and l...</td>\n",
       "      <td>[What is European Union Law?, What are the mai...</td>\n",
       "    </tr>\n",
       "    <tr>\n",
       "      <th>2</th>\n",
       "      <td>In anglophone academic works, theories regardi...</td>\n",
       "      <td>[Theories on imperialism use which country as ...</td>\n",
       "    </tr>\n",
       "    <tr>\n",
       "      <th>3</th>\n",
       "      <td>In between the French and the British, large a...</td>\n",
       "      <td>[In between French and British, what groups co...</td>\n",
       "    </tr>\n",
       "    <tr>\n",
       "      <th>4</th>\n",
       "      <td>Southern California, often abbreviated SoCal, ...</td>\n",
       "      <td>[What is Southern California often abbreviated...</td>\n",
       "    </tr>\n",
       "    <tr>\n",
       "      <th>5</th>\n",
       "      <td>The Tech Coast is a moniker that has gained us...</td>\n",
       "      <td>[What is the moniker that is being used to des...</td>\n",
       "    </tr>\n",
       "    <tr>\n",
       "      <th>6</th>\n",
       "      <td>The War of the Austrian Succession (whose Nort...</td>\n",
       "      <td>[What was the North American portion of War of...</td>\n",
       "    </tr>\n",
       "    <tr>\n",
       "      <th>7</th>\n",
       "      <td>The mayor of Warsaw is called President. Gener...</td>\n",
       "      <td>[What is the mayor of Warsaw called?, Who was ...</td>\n",
       "    </tr>\n",
       "    <tr>\n",
       "      <th>8</th>\n",
       "      <td>There were two kinds of X.25 networks. Some su...</td>\n",
       "      <td>[How many types of X.25 networks were there or...</td>\n",
       "    </tr>\n",
       "    <tr>\n",
       "      <th>9</th>\n",
       "      <td>This projection was not included in the final ...</td>\n",
       "      <td>[What did the IPCC say was mistaken?, What did...</td>\n",
       "    </tr>\n",
       "  </tbody>\n",
       "</table>\n",
       "</div>"
      ],
      "text/plain": [
       "                                             context  \\\n",
       "0  Céloron's expedition force consisted of about ...   \n",
       "1  European Union law is a body of treaties and l...   \n",
       "2  In anglophone academic works, theories regardi...   \n",
       "3  In between the French and the British, large a...   \n",
       "4  Southern California, often abbreviated SoCal, ...   \n",
       "5  The Tech Coast is a moniker that has gained us...   \n",
       "6  The War of the Austrian Succession (whose Nort...   \n",
       "7  The mayor of Warsaw is called President. Gener...   \n",
       "8  There were two kinds of X.25 networks. Some su...   \n",
       "9  This projection was not included in the final ...   \n",
       "\n",
       "                                            question  \n",
       "0  [What was extent of Celeron's expedition?, Who...  \n",
       "1  [What is European Union Law?, What are the mai...  \n",
       "2  [Theories on imperialism use which country as ...  \n",
       "3  [In between French and British, what groups co...  \n",
       "4  [What is Southern California often abbreviated...  \n",
       "5  [What is the moniker that is being used to des...  \n",
       "6  [What was the North American portion of War of...  \n",
       "7  [What is the mayor of Warsaw called?, Who was ...  \n",
       "8  [How many types of X.25 networks were there or...  \n",
       "9  [What did the IPCC say was mistaken?, What did...  "
      ]
     },
     "execution_count": 15,
     "metadata": {},
     "output_type": "execute_result"
    }
   ],
   "source": [
    "eval_sets = eval_rows.groupby(\"context\")[\"question\"].apply(list).reset_index(\"context\")\n",
    "eval_sets"
   ]
  },
  {
   "cell_type": "code",
   "execution_count": 22,
   "id": "571011da-2258-4b0e-907d-16c14808870a",
   "metadata": {},
   "outputs": [
    {
     "data": {
      "text/plain": [
       "[\"Céloron's expedition force consisted of about 200 Troupes de la marine and 30 Indians. The expedition covered about 3,000 miles (4,800 km) between June and November 1749. It went up the St. Lawrence, continued along the northern shore of Lake Ontario, crossed the portage at Niagara, and followed the southern shore of Lake Erie. At the Chautauqua Portage (near present-day Barcelona, New York), the expedition moved inland to the Allegheny River, which it followed to the site of present-day Pittsburgh. There Céloron buried lead plates engraved with the French claim to the Ohio Country. Whenever he encountered British merchants or fur-traders, Céloron informed them of the French claims on the territory and told them to leave.\",\n",
       " [\"What was extent of Celeron's expedition?\",\n",
       "  \"Who was on Celeron's expedition?\",\n",
       "  'How did Celeron handle business on trip?']]"
      ]
     },
     "execution_count": 22,
     "metadata": {},
     "output_type": "execute_result"
    }
   ],
   "source": [
    "references = [[row[\"context\"], row[\"question\"]] for index, row in eval_sets.iterrows()]\n",
    "references[0]"
   ]
  },
  {
   "cell_type": "code",
   "execution_count": 97,
   "id": "c941135e-0215-4daa-bb3a-4e87d7e34449",
   "metadata": {},
   "outputs": [
    {
     "name": "stdout",
     "output_type": "stream",
     "text": [
      "The Normans (Norman: Nourmands; French: Normands; Latin: Normanni) were the people who in the 10th and 11th centuries gave their name to Normandy, a region in France. They were descended from Norse (\"Norman\" comes from \"Norseman\") raiders and pirates from Denmark, Iceland and Norway who, under their leader Rollo, agreed to swear fealty to King Charles III of West Francia. Through generations of assimilation and mixing with the native Frankish and Roman-Gaulish populations, their descendants would gradually merge with the Carolingian-based cultures of West Francia. The distinct cultural and ethnic identity of the Normans emerged initially in the first half of the 10th century, and it continued to evolve over the succeeding centuries.\n"
     ]
    },
    {
     "data": {
      "text/html": [
       "<div>\n",
       "<style scoped>\n",
       "    .dataframe tbody tr th:only-of-type {\n",
       "        vertical-align: middle;\n",
       "    }\n",
       "\n",
       "    .dataframe tbody tr th {\n",
       "        vertical-align: top;\n",
       "    }\n",
       "\n",
       "    .dataframe thead th {\n",
       "        text-align: right;\n",
       "    }\n",
       "</style>\n",
       "<table border=\"1\" class=\"dataframe\">\n",
       "  <thead>\n",
       "    <tr style=\"text-align: right;\">\n",
       "      <th></th>\n",
       "      <th>id</th>\n",
       "      <th>title</th>\n",
       "      <th>context</th>\n",
       "      <th>question</th>\n",
       "      <th>answers</th>\n",
       "    </tr>\n",
       "  </thead>\n",
       "  <tbody>\n",
       "    <tr>\n",
       "      <th>0</th>\n",
       "      <td>56ddde6b9a695914005b9628</td>\n",
       "      <td>Normans</td>\n",
       "      <td>The Normans (Norman: Nourmands; French: Norman...</td>\n",
       "      <td>In what country is Normandy located?</td>\n",
       "      <td>{'text': ['France', 'France', 'France', 'Franc...</td>\n",
       "    </tr>\n",
       "    <tr>\n",
       "      <th>1</th>\n",
       "      <td>56ddde6b9a695914005b9629</td>\n",
       "      <td>Normans</td>\n",
       "      <td>The Normans (Norman: Nourmands; French: Norman...</td>\n",
       "      <td>When were the Normans in Normandy?</td>\n",
       "      <td>{'text': ['10th and 11th centuries', 'in the 1...</td>\n",
       "    </tr>\n",
       "    <tr>\n",
       "      <th>2</th>\n",
       "      <td>56ddde6b9a695914005b962a</td>\n",
       "      <td>Normans</td>\n",
       "      <td>The Normans (Norman: Nourmands; French: Norman...</td>\n",
       "      <td>From which countries did the Norse originate?</td>\n",
       "      <td>{'text': ['Denmark, Iceland and Norway', 'Denm...</td>\n",
       "    </tr>\n",
       "    <tr>\n",
       "      <th>3</th>\n",
       "      <td>56ddde6b9a695914005b962b</td>\n",
       "      <td>Normans</td>\n",
       "      <td>The Normans (Norman: Nourmands; French: Norman...</td>\n",
       "      <td>Who was the Norse leader?</td>\n",
       "      <td>{'text': ['Rollo', 'Rollo', 'Rollo', 'Rollo'],...</td>\n",
       "    </tr>\n",
       "    <tr>\n",
       "      <th>4</th>\n",
       "      <td>56ddde6b9a695914005b962c</td>\n",
       "      <td>Normans</td>\n",
       "      <td>The Normans (Norman: Nourmands; French: Norman...</td>\n",
       "      <td>What century did the Normans first gain their ...</td>\n",
       "      <td>{'text': ['10th century', 'the first half of t...</td>\n",
       "    </tr>\n",
       "  </tbody>\n",
       "</table>\n",
       "</div>"
      ],
      "text/plain": [
       "                         id    title  \\\n",
       "0  56ddde6b9a695914005b9628  Normans   \n",
       "1  56ddde6b9a695914005b9629  Normans   \n",
       "2  56ddde6b9a695914005b962a  Normans   \n",
       "3  56ddde6b9a695914005b962b  Normans   \n",
       "4  56ddde6b9a695914005b962c  Normans   \n",
       "\n",
       "                                             context  \\\n",
       "0  The Normans (Norman: Nourmands; French: Norman...   \n",
       "1  The Normans (Norman: Nourmands; French: Norman...   \n",
       "2  The Normans (Norman: Nourmands; French: Norman...   \n",
       "3  The Normans (Norman: Nourmands; French: Norman...   \n",
       "4  The Normans (Norman: Nourmands; French: Norman...   \n",
       "\n",
       "                                            question  \\\n",
       "0               In what country is Normandy located?   \n",
       "1                 When were the Normans in Normandy?   \n",
       "2      From which countries did the Norse originate?   \n",
       "3                          Who was the Norse leader?   \n",
       "4  What century did the Normans first gain their ...   \n",
       "\n",
       "                                             answers  \n",
       "0  {'text': ['France', 'France', 'France', 'Franc...  \n",
       "1  {'text': ['10th and 11th centuries', 'in the 1...  \n",
       "2  {'text': ['Denmark, Iceland and Norway', 'Denm...  \n",
       "3  {'text': ['Rollo', 'Rollo', 'Rollo', 'Rollo'],...  \n",
       "4  {'text': ['10th century', 'the first half of t...  "
      ]
     },
     "execution_count": 97,
     "metadata": {},
     "output_type": "execute_result"
    }
   ],
   "source": [
    "reference_context = val_df.iloc[0][\"context\"]\n",
    "print(reference_context)\n",
    "val_df[val_df[\"context\"] == reference_context]"
   ]
  },
  {
   "cell_type": "code",
   "execution_count": 96,
   "id": "2aa57ba3-5fd6-420c-b66b-1a92f086daea",
   "metadata": {},
   "outputs": [],
   "source": [
    "reference_questions = val_df[val_df[\"context\"] == test_context][\"question\"].tolist()"
   ]
  },
  {
   "cell_type": "code",
   "execution_count": 35,
   "id": "6999b995-5c1d-4c0c-8a95-0015de1dd13a",
   "metadata": {},
   "outputs": [
    {
     "name": "stdout",
     "output_type": "stream",
     "text": [
      "Generating 3 questions...\n",
      "Generating 12 questions...\n",
      "Generating 4 questions...\n",
      "Generating 4 questions...\n",
      "Generating 5 questions...\n",
      "Generating 5 questions...\n",
      "Generating 4 questions...\n",
      "Generating 5 questions...\n",
      "Generating 3 questions...\n",
      "Generating 4 questions...\n"
     ]
    }
   ],
   "source": [
    "predictions = []\n",
    "for item in references:\n",
    "    context = item[0]\n",
    "    n_questions = len(item[1])\n",
    "    print(f\"Generating {n_questions} questions...\")\n",
    "    generated_questions = generate_questions(context, n_questions)\n",
    "    predictions.append([context, generated_questions])"
   ]
  },
  {
   "cell_type": "code",
   "execution_count": 42,
   "id": "e0c4e475-4554-4913-99c4-4b9d434a9fad",
   "metadata": {},
   "outputs": [],
   "source": [
    "results = {}\n",
    "cols = [\"rouge1\", \"rouge2\", \"rougeL\", \"rougeLsum\"]\n",
    "for col in cols:\n",
    "    results[col] = []\n",
    "for i in range(len(predictions)):\n",
    "    rouge_result = rouge.compute(predictions=predictions[i], references=references[i])\n",
    "    for col in cols:\n",
    "        results[col].append(rouge_result[col])"
   ]
  },
  {
   "cell_type": "code",
   "execution_count": 45,
   "id": "89ce07c5-9d87-4ad0-af6d-e7ae0320b51e",
   "metadata": {},
   "outputs": [
    {
     "data": {
      "text/plain": [
       "rouge1       0.674453\n",
       "rouge2       0.564836\n",
       "rougeL       0.639046\n",
       "rougeLsum    0.639046\n",
       "dtype: float64"
      ]
     },
     "execution_count": 45,
     "metadata": {},
     "output_type": "execute_result"
    }
   ],
   "source": [
    "pd.DataFrame(results).mean()"
   ]
  },
  {
   "cell_type": "markdown",
   "id": "e2089566-04f4-459a-a3da-564b048e4cd2",
   "metadata": {},
   "source": [
    "## Tuning the generator/decoder"
   ]
  },
  {
   "cell_type": "markdown",
   "id": "f41d7bb5-39d0-453f-95f6-b0569e1a005a",
   "metadata": {},
   "source": [
    "Implement nucleus sampling\n",
    "\n",
    "- Pick from the tokens representing the first 99% of the token probability distribution. This removes most irrelevant/unsuitable tokens while allowing for an acceptable amount of stochasticity.\n",
    "- Set temperature suitably high to ensure diversity of question subjects and also question presentation/phrasing."
   ]
  },
  {
   "cell_type": "code",
   "execution_count": 210,
   "id": "993589ea-6a54-4de9-b9ac-4b31acfb9fd7",
   "metadata": {},
   "outputs": [],
   "source": [
    "def generate_questions(context, n_questions):\n",
    "    predicted_question_tokens = model.generate(tokenizer(context, return_tensors=\"tf\").input_ids,\n",
    "                                max_new_tokens=15,\n",
    "                                do_sample=True,\n",
    "                                top_p=0.99,\n",
    "                                num_return_sequences=n_questions,\n",
    "                                temperature=0.8,\n",
    "                                output_scores=True,\n",
    "                                return_dict_in_generate=True)\n",
    "\n",
    "    transition_scores = model.compute_transition_scores(predicted_question_tokens.sequences, predicted_question_tokens.scores, normalize_logits=True)\n",
    "    predicted_questions = []\n",
    "    for i in range(n_questions):\n",
    "        predicted_questions.append(tokenizer.decode(predicted_question_tokens[0][i], skip_special_tokens=True))\n",
    "\n",
    "    return predicted_questions, np.exp(transition_scores.numpy())"
   ]
  },
  {
   "cell_type": "code",
   "execution_count": 34,
   "id": "0717893c-dd1a-4ff8-a124-ae23dbfafd88",
   "metadata": {},
   "outputs": [
    {
     "data": {
      "text/plain": [
       "['When did Céloron travel to St. Lawrence?',\n",
       " 'Where did Céloron travel between June and November 1749?',\n",
       " 'How many kilometers long does it take to cross the portage?']"
      ]
     },
     "execution_count": 34,
     "metadata": {},
     "output_type": "execute_result"
    }
   ],
   "source": [
    "generate_questions(references[0][0], 3)"
   ]
  },
  {
   "cell_type": "code",
   "execution_count": 60,
   "id": "f1e4caa4-0ae7-4711-ad17-bc715454ba81",
   "metadata": {},
   "outputs": [],
   "source": [
    "physics_context = \"\"\"\n",
    "Waves are described using the following terms:\n",
    "\n",
    "rest position - the undisturbed position of particles or fields when they are not vibrating\n",
    "displacement - the distance that a certain point in the medium has moved from its rest position\n",
    "peak - the highest point above the rest position\n",
    "trough - the lowest point below the rest position\n",
    "amplitude - the maximum displacement of a point of a wave from its rest position\n",
    "wavelength - distance covered by a full cycle of the wave, usually measured from peak to peak, or trough to trough\n",
    "time period - the time taken for a full cycle of the wave, usually measured from peak to peak, or trough to trough\n",
    "frequency - the number of waves passing a point each second\n",
    "\"\"\"\n",
    "\n",
    "split_context = physics_context.split(\"\\n\")\n",
    "\n",
    "questions = []\n",
    "for row in split_context:\n",
    "    questions.append(generate_questions(row, 2, 0.6))"
   ]
  },
  {
   "cell_type": "code",
   "execution_count": 75,
   "id": "7ee871f2-d3e2-4660-b8ad-42c1a2ea2601",
   "metadata": {},
   "outputs": [
    {
     "data": {
      "text/plain": [
       "'Cork_(city)'"
      ]
     },
     "execution_count": 75,
     "metadata": {},
     "output_type": "execute_result"
    }
   ],
   "source": [
    "np.random.choice(train_set[\"title\"])"
   ]
  },
  {
   "cell_type": "code",
   "execution_count": 78,
   "id": "65528f12-888d-4aef-9087-e38e67d634f8",
   "metadata": {},
   "outputs": [
    {
     "data": {
      "text/plain": [
       "19029"
      ]
     },
     "execution_count": 78,
     "metadata": {},
     "output_type": "execute_result"
    }
   ],
   "source": [
    "len(pd.DataFrame(train_set)[\"context\"].unique())"
   ]
  },
  {
   "cell_type": "code",
   "execution_count": 74,
   "id": "a6cb7da6-7577-4c04-8fd8-7c761654c2a8",
   "metadata": {},
   "outputs": [
    {
     "data": {
      "text/plain": [
       "['How many people were present in Sotto il Monte?',\n",
       " 'How many people were there in Sotto il Monte?',\n",
       " 'How many people were born in Sotto il Monte?',\n",
       " 'How long did Pius Xaverio last?',\n",
       " 'What is another name for the Roncallis?',\n",
       " 'What is another name for Angelo?',\n",
       " 'How long did Pius Xaverio take?',\n",
       " 'How many people were present in the Roncallis?',\n",
       " \"What is another name for Angelo's brother?\",\n",
       " 'How long did Pius Xaverio last for?']"
      ]
     },
     "execution_count": 74,
     "metadata": {},
     "output_type": "execute_result"
    }
   ],
   "source": [
    "pope_context = \"\"\"\n",
    "Angelo was one of 13 children born to Giovanni Roncalli, a tenant farmer of Sotto il Monte, a tiny village 7 miles (11 km) from the Lombard city of Bergamo. The Roncallis were poor but not nearly as destitute as some later legends would have it. “We had the necessities of life,” the pope used to say testily, “and we were strong and healthy.” Though Angelo, the third child and oldest son of the family, went off to prepare for the priesthood as a child of 11, he continued to spend vacations with his family and remained close to them throughout his life.\n",
    "\n",
    "No matter how powerful he became, however, he never helped any of the other Roncallis to advance in the world. “The world is only interested in making money…,” he wrote to his brother Xaverio after becoming pope. “A great honour has come to our family,” he acknowledged, but he urged Xaverio and the others to remain humble, seek no honours or preferments, and take no material advantage of their relationship to the pope. “At my own death,” he concluded, “I shall not be denied the praise which did so much honour to the holiness of Pius X: born poor, he died poor.” In his last will he bequeathed each of the living members of the family a legacy of less than $20—his total personal fortune.\n",
    "\n",
    "Angelo the churchman, however, was destined to spend most of his life among the powerful and cultivated. Inevitably, that set him apart from the other Roncallis almost from the beginning. While still a seminarian, he was already beginning to feel out of place in Sotto il Monte, where he was charged with priggishness and “putting on airs.” “Only three days of the holidays have passed and already I am weary of them,” he recorded in the diary that he allowed to be published after his death. He was eager, he wrote, to return to Bergamo, with its orderly life of study, prayer, and genteel fellowship, and to escape from the petty gossip, suspicion, and jealousies of the village.\"\"\"\n",
    "\n",
    "generate_questions(pope_context, 10, 0.2)"
   ]
  },
  {
   "cell_type": "markdown",
   "id": "34a1c298-38bc-4b3f-b57a-f5b6e257dc0a",
   "metadata": {},
   "source": [
    "## With updated weights (based on only answerable questions)"
   ]
  },
  {
   "cell_type": "code",
   "execution_count": 3,
   "id": "b1502b46-c7b7-4e32-ac2e-9e449aae9174",
   "metadata": {},
   "outputs": [],
   "source": [
    "model.load_weights(\"/home/rob/checkpoint-answerable.h5\")"
   ]
  },
  {
   "cell_type": "code",
   "execution_count": 76,
   "id": "c74fd49f-dc48-4b64-90ea-5314c514550f",
   "metadata": {},
   "outputs": [
    {
     "data": {
      "text/plain": [
       "['When did Xaverio die?',\n",
       " 'Who was the founder of Sotto il Monte?',\n",
       " 'How much did Angelo spend in Sotto il Monte?',\n",
       " 'In what year did Xaverio die?',\n",
       " 'In what year did Angelo die?',\n",
       " 'In what year was Angelo born?',\n",
       " 'When did Xaverio become pope?',\n",
       " 'In what year did Xaverio become pope?',\n",
       " \"Who was Angelo's oldest son of the Roncallis?\",\n",
       " 'When did Angelo die?']"
      ]
     },
     "execution_count": 76,
     "metadata": {},
     "output_type": "execute_result"
    }
   ],
   "source": [
    "pope_context = \"\"\"\n",
    "Angelo was one of 13 children born to Giovanni Roncalli, a tenant farmer of Sotto il Monte, a tiny village 7 miles (11 km) from the Lombard city of Bergamo. The Roncallis were poor but not nearly as destitute as some later legends would have it. “We had the necessities of life,” the pope used to say testily, “and we were strong and healthy.” Though Angelo, the third child and oldest son of the family, went off to prepare for the priesthood as a child of 11, he continued to spend vacations with his family and remained close to them throughout his life.\n",
    "\n",
    "No matter how powerful he became, however, he never helped any of the other Roncallis to advance in the world. “The world is only interested in making money…,” he wrote to his brother Xaverio after becoming pope. “A great honour has come to our family,” he acknowledged, but he urged Xaverio and the others to remain humble, seek no honours or preferments, and take no material advantage of their relationship to the pope. “At my own death,” he concluded, “I shall not be denied the praise which did so much honour to the holiness of Pius X: born poor, he died poor.” In his last will he bequeathed each of the living members of the family a legacy of less than $20—his total personal fortune.\n",
    "\n",
    "Angelo the churchman, however, was destined to spend most of his life among the powerful and cultivated. Inevitably, that set him apart from the other Roncallis almost from the beginning. While still a seminarian, he was already beginning to feel out of place in Sotto il Monte, where he was charged with priggishness and “putting on airs.” “Only three days of the holidays have passed and already I am weary of them,” he recorded in the diary that he allowed to be published after his death. He was eager, he wrote, to return to Bergamo, with its orderly life of study, prayer, and genteel fellowship, and to escape from the petty gossip, suspicion, and jealousies of the village.\"\"\"\n",
    "\n",
    "generate_questions(pope_context, 10, 1.0, 80)"
   ]
  },
  {
   "cell_type": "code",
   "execution_count": null,
   "id": "d2e51f5b-c285-4694-9efa-afc4b86a9865",
   "metadata": {},
   "outputs": [],
   "source": []
  },
  {
   "cell_type": "code",
   "execution_count": 124,
   "id": "df267189-dd39-44bc-80d4-fe7db49172c6",
   "metadata": {},
   "outputs": [
    {
     "data": {
      "text/plain": [
       "'\\n\\'The primary law of the EU consists mainly of the founding treaties, the \"core\" treaties being the Treaty on European Union (TEU) and the Treaty on the Functioning of the European Union (TFEU). The Treaties contain formal and substantive provisions, which frame policies of the European Union institutions and determine the division of competences between the European Union and its member states. The TEU establishes that European Union law applies to the metropolitan territories of the member states, as well as certain islands and overseas territories, including Madeira, the Canary Islands and the French overseas departments. European Union law also applies in territories where a member state is responsible for external relations, for example Gibraltar and the Åland islands. The TEU allows the European Council to make specific provisions for regions, as for example done for customs matters in Gibraltar and Saint-Pierre-et-Miquelon. The TEU specifically excludes certain regions, for example the Faroe Islands, from the jurisdiction of European Union law. Treaties apply as soon as they enter into force, unless stated otherwise, and are generally concluded for an unlimited period. The TEU provides that commitments entered into by the member states between themselves before the treaty was signed no longer apply.[vague] All EU member states are regarded as subject to the general obligation of the principle of cooperation, as stated in the TEU, whereby member states are obliged not to take measure which could jeopardise the attainment of the TEU objectives. The Court of Justice of the European Union can interpret the Treaties, but it cannot rule on their validity, which is subject to international law. Individuals may rely on primary law in the Court of Justice of the European Union if the Treaty provisions have a direct effect and they are sufficiently clear, precise and unconditional.\\'\\n'"
      ]
     },
     "execution_count": 124,
     "metadata": {},
     "output_type": "execute_result"
    }
   ],
   "source": [
    "eu_context = \"\"\"\n",
    "'The primary law of the EU consists mainly of the founding treaties, the \"core\" treaties being the Treaty on European Union (TEU) and the Treaty on the Functioning of the European Union (TFEU). The Treaties contain formal and substantive provisions, which frame policies of the European Union institutions and determine the division of competences between the European Union and its member states. The TEU establishes that European Union law applies to the metropolitan territories of the member states, as well as certain islands and overseas territories, including Madeira, the Canary Islands and the French overseas departments. European Union law also applies in territories where a member state is responsible for external relations, for example Gibraltar and the Åland islands. The TEU allows the European Council to make specific provisions for regions, as for example done for customs matters in Gibraltar and Saint-Pierre-et-Miquelon. The TEU specifically excludes certain regions, for example the Faroe Islands, from the jurisdiction of European Union law. Treaties apply as soon as they enter into force, unless stated otherwise, and are generally concluded for an unlimited period. The TEU provides that commitments entered into by the member states between themselves before the treaty was signed no longer apply.[vague] All EU member states are regarded as subject to the general obligation of the principle of cooperation, as stated in the TEU, whereby member states are obliged not to take measure which could jeopardise the attainment of the TEU objectives. The Court of Justice of the European Union can interpret the Treaties, but it cannot rule on their validity, which is subject to international law. Individuals may rely on primary law in the Court of Justice of the European Union if the Treaty provisions have a direct effect and they are sufficiently clear, precise and unconditional.'\n",
    "\"\"\"\n",
    "eu_context"
   ]
  },
  {
   "cell_type": "code",
   "execution_count": 125,
   "id": "553b98d2-7162-4d04-afb5-8f7c87ccafe3",
   "metadata": {},
   "outputs": [
    {
     "data": {
      "text/plain": [
       "['How long is the treaty granted?',\n",
       " 'In what country is the treaty regulated?',\n",
       " 'What treaty acts are part of the treaty?',\n",
       " 'What entity is responsible for the treaty?',\n",
       " 'What did the treaty allow the European Council to do?']"
      ]
     },
     "execution_count": 125,
     "metadata": {},
     "output_type": "execute_result"
    }
   ],
   "source": [
    "generate_questions(eu_context, 5)"
   ]
  },
  {
   "cell_type": "code",
   "execution_count": 219,
   "id": "5cfec900-e51b-4751-9f79-51df47a98dc4",
   "metadata": {},
   "outputs": [],
   "source": [
    "generated_questions, scores = generate_questions(eu_context, 2)"
   ]
  }
 ],
 "metadata": {
  "kernelspec": {
   "display_name": "Python 3 (ipykernel)",
   "language": "python",
   "name": "python3"
  },
  "language_info": {
   "codemirror_mode": {
    "name": "ipython",
    "version": 3
   },
   "file_extension": ".py",
   "mimetype": "text/x-python",
   "name": "python",
   "nbconvert_exporter": "python",
   "pygments_lexer": "ipython3",
   "version": "3.10.6"
  }
 },
 "nbformat": 4,
 "nbformat_minor": 5
}
